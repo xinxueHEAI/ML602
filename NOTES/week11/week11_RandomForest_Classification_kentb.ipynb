{
  "nbformat": 4,
  "nbformat_minor": 0,
  "metadata": {
    "colab": {
      "name": "week11-RandomForest-Classification-kentb",
      "provenance": [],
      "collapsed_sections": []
    },
    "kernelspec": {
      "name": "python3",
      "display_name": "Python 3"
    },
    "language_info": {
      "name": "python"
    }
  },
  "cells": [
    {
      "cell_type": "markdown",
      "source": [
        "# Week 11 - Classification with RandomForest\n",
        "\n",
        "KentB\n",
        "\n",
        "Many randomly assembled **DecisionTrees**."
      ],
      "metadata": {
        "id": "Pef6_hGJcqyB"
      }
    },
    {
      "cell_type": "markdown",
      "source": [
        "### Load Data"
      ],
      "metadata": {
        "id": "CEP9QZDnqjff"
      }
    },
    {
      "cell_type": "code",
      "execution_count": 4,
      "metadata": {
        "id": "XFOiRjVOOndd"
      },
      "outputs": [],
      "source": [
        "import pandas as pd\n",
        "import numpy as np"
      ]
    },
    {
      "cell_type": "markdown",
      "source": [
        "**Predicting wine quality**"
      ],
      "metadata": {
        "id": "4qMf2xqVg5yN"
      }
    },
    {
      "cell_type": "code",
      "source": [
        "df = pd.read_csv(\"https://archive.ics.uci.edu/ml/machine-learning-databases/wine-quality/winequality-red.csv\",sep=';')"
      ],
      "metadata": {
        "id": "uB-dgY5cRVL5"
      },
      "execution_count": 5,
      "outputs": []
    },
    {
      "cell_type": "code",
      "source": [
        "df.columns"
      ],
      "metadata": {
        "colab": {
          "base_uri": "https://localhost:8080/"
        },
        "id": "80BsGN0uSoxz",
        "outputId": "ea0615b6-ae24-473f-c0d9-00e96ef724e0"
      },
      "execution_count": 6,
      "outputs": [
        {
          "output_type": "execute_result",
          "data": {
            "text/plain": [
              "Index(['fixed acidity', 'volatile acidity', 'citric acid', 'residual sugar',\n",
              "       'chlorides', 'free sulfur dioxide', 'total sulfur dioxide', 'density',\n",
              "       'pH', 'sulphates', 'alcohol', 'quality'],\n",
              "      dtype='object')"
            ]
          },
          "metadata": {},
          "execution_count": 6
        }
      ]
    },
    {
      "cell_type": "code",
      "source": [
        "# Define a simple binary feature for quality\n",
        "df['quality_good'] = np.where(df.quality > 5, True, False)"
      ],
      "metadata": {
        "id": "VYgvP0-nRjWZ"
      },
      "execution_count": 7,
      "outputs": []
    },
    {
      "cell_type": "code",
      "source": [
        "df.head()"
      ],
      "metadata": {
        "colab": {
          "base_uri": "https://localhost:8080/",
          "height": 206
        },
        "id": "68EAakT2Ro5Y",
        "outputId": "5ab4cfee-c5c9-4084-dba7-4ec565e8702e"
      },
      "execution_count": 8,
      "outputs": [
        {
          "output_type": "execute_result",
          "data": {
            "text/plain": [
              "   fixed acidity  volatile acidity  citric acid  residual sugar  chlorides  \\\n",
              "0            7.4              0.70         0.00             1.9      0.076   \n",
              "1            7.8              0.88         0.00             2.6      0.098   \n",
              "2            7.8              0.76         0.04             2.3      0.092   \n",
              "3           11.2              0.28         0.56             1.9      0.075   \n",
              "4            7.4              0.70         0.00             1.9      0.076   \n",
              "\n",
              "   free sulfur dioxide  total sulfur dioxide  density    pH  sulphates  \\\n",
              "0                 11.0                  34.0   0.9978  3.51       0.56   \n",
              "1                 25.0                  67.0   0.9968  3.20       0.68   \n",
              "2                 15.0                  54.0   0.9970  3.26       0.65   \n",
              "3                 17.0                  60.0   0.9980  3.16       0.58   \n",
              "4                 11.0                  34.0   0.9978  3.51       0.56   \n",
              "\n",
              "   alcohol  quality  quality_good  \n",
              "0      9.4        5         False  \n",
              "1      9.8        5         False  \n",
              "2      9.8        5         False  \n",
              "3      9.8        6          True  \n",
              "4      9.4        5         False  "
            ],
            "text/html": [
              "\n",
              "  <div id=\"df-49119070-f65e-4254-a613-249fad3322cf\">\n",
              "    <div class=\"colab-df-container\">\n",
              "      <div>\n",
              "<style scoped>\n",
              "    .dataframe tbody tr th:only-of-type {\n",
              "        vertical-align: middle;\n",
              "    }\n",
              "\n",
              "    .dataframe tbody tr th {\n",
              "        vertical-align: top;\n",
              "    }\n",
              "\n",
              "    .dataframe thead th {\n",
              "        text-align: right;\n",
              "    }\n",
              "</style>\n",
              "<table border=\"1\" class=\"dataframe\">\n",
              "  <thead>\n",
              "    <tr style=\"text-align: right;\">\n",
              "      <th></th>\n",
              "      <th>fixed acidity</th>\n",
              "      <th>volatile acidity</th>\n",
              "      <th>citric acid</th>\n",
              "      <th>residual sugar</th>\n",
              "      <th>chlorides</th>\n",
              "      <th>free sulfur dioxide</th>\n",
              "      <th>total sulfur dioxide</th>\n",
              "      <th>density</th>\n",
              "      <th>pH</th>\n",
              "      <th>sulphates</th>\n",
              "      <th>alcohol</th>\n",
              "      <th>quality</th>\n",
              "      <th>quality_good</th>\n",
              "    </tr>\n",
              "  </thead>\n",
              "  <tbody>\n",
              "    <tr>\n",
              "      <th>0</th>\n",
              "      <td>7.4</td>\n",
              "      <td>0.70</td>\n",
              "      <td>0.00</td>\n",
              "      <td>1.9</td>\n",
              "      <td>0.076</td>\n",
              "      <td>11.0</td>\n",
              "      <td>34.0</td>\n",
              "      <td>0.9978</td>\n",
              "      <td>3.51</td>\n",
              "      <td>0.56</td>\n",
              "      <td>9.4</td>\n",
              "      <td>5</td>\n",
              "      <td>False</td>\n",
              "    </tr>\n",
              "    <tr>\n",
              "      <th>1</th>\n",
              "      <td>7.8</td>\n",
              "      <td>0.88</td>\n",
              "      <td>0.00</td>\n",
              "      <td>2.6</td>\n",
              "      <td>0.098</td>\n",
              "      <td>25.0</td>\n",
              "      <td>67.0</td>\n",
              "      <td>0.9968</td>\n",
              "      <td>3.20</td>\n",
              "      <td>0.68</td>\n",
              "      <td>9.8</td>\n",
              "      <td>5</td>\n",
              "      <td>False</td>\n",
              "    </tr>\n",
              "    <tr>\n",
              "      <th>2</th>\n",
              "      <td>7.8</td>\n",
              "      <td>0.76</td>\n",
              "      <td>0.04</td>\n",
              "      <td>2.3</td>\n",
              "      <td>0.092</td>\n",
              "      <td>15.0</td>\n",
              "      <td>54.0</td>\n",
              "      <td>0.9970</td>\n",
              "      <td>3.26</td>\n",
              "      <td>0.65</td>\n",
              "      <td>9.8</td>\n",
              "      <td>5</td>\n",
              "      <td>False</td>\n",
              "    </tr>\n",
              "    <tr>\n",
              "      <th>3</th>\n",
              "      <td>11.2</td>\n",
              "      <td>0.28</td>\n",
              "      <td>0.56</td>\n",
              "      <td>1.9</td>\n",
              "      <td>0.075</td>\n",
              "      <td>17.0</td>\n",
              "      <td>60.0</td>\n",
              "      <td>0.9980</td>\n",
              "      <td>3.16</td>\n",
              "      <td>0.58</td>\n",
              "      <td>9.8</td>\n",
              "      <td>6</td>\n",
              "      <td>True</td>\n",
              "    </tr>\n",
              "    <tr>\n",
              "      <th>4</th>\n",
              "      <td>7.4</td>\n",
              "      <td>0.70</td>\n",
              "      <td>0.00</td>\n",
              "      <td>1.9</td>\n",
              "      <td>0.076</td>\n",
              "      <td>11.0</td>\n",
              "      <td>34.0</td>\n",
              "      <td>0.9978</td>\n",
              "      <td>3.51</td>\n",
              "      <td>0.56</td>\n",
              "      <td>9.4</td>\n",
              "      <td>5</td>\n",
              "      <td>False</td>\n",
              "    </tr>\n",
              "  </tbody>\n",
              "</table>\n",
              "</div>\n",
              "      <button class=\"colab-df-convert\" onclick=\"convertToInteractive('df-49119070-f65e-4254-a613-249fad3322cf')\"\n",
              "              title=\"Convert this dataframe to an interactive table.\"\n",
              "              style=\"display:none;\">\n",
              "        \n",
              "  <svg xmlns=\"http://www.w3.org/2000/svg\" height=\"24px\"viewBox=\"0 0 24 24\"\n",
              "       width=\"24px\">\n",
              "    <path d=\"M0 0h24v24H0V0z\" fill=\"none\"/>\n",
              "    <path d=\"M18.56 5.44l.94 2.06.94-2.06 2.06-.94-2.06-.94-.94-2.06-.94 2.06-2.06.94zm-11 1L8.5 8.5l.94-2.06 2.06-.94-2.06-.94L8.5 2.5l-.94 2.06-2.06.94zm10 10l.94 2.06.94-2.06 2.06-.94-2.06-.94-.94-2.06-.94 2.06-2.06.94z\"/><path d=\"M17.41 7.96l-1.37-1.37c-.4-.4-.92-.59-1.43-.59-.52 0-1.04.2-1.43.59L10.3 9.45l-7.72 7.72c-.78.78-.78 2.05 0 2.83L4 21.41c.39.39.9.59 1.41.59.51 0 1.02-.2 1.41-.59l7.78-7.78 2.81-2.81c.8-.78.8-2.07 0-2.86zM5.41 20L4 18.59l7.72-7.72 1.47 1.35L5.41 20z\"/>\n",
              "  </svg>\n",
              "      </button>\n",
              "      \n",
              "  <style>\n",
              "    .colab-df-container {\n",
              "      display:flex;\n",
              "      flex-wrap:wrap;\n",
              "      gap: 12px;\n",
              "    }\n",
              "\n",
              "    .colab-df-convert {\n",
              "      background-color: #E8F0FE;\n",
              "      border: none;\n",
              "      border-radius: 50%;\n",
              "      cursor: pointer;\n",
              "      display: none;\n",
              "      fill: #1967D2;\n",
              "      height: 32px;\n",
              "      padding: 0 0 0 0;\n",
              "      width: 32px;\n",
              "    }\n",
              "\n",
              "    .colab-df-convert:hover {\n",
              "      background-color: #E2EBFA;\n",
              "      box-shadow: 0px 1px 2px rgba(60, 64, 67, 0.3), 0px 1px 3px 1px rgba(60, 64, 67, 0.15);\n",
              "      fill: #174EA6;\n",
              "    }\n",
              "\n",
              "    [theme=dark] .colab-df-convert {\n",
              "      background-color: #3B4455;\n",
              "      fill: #D2E3FC;\n",
              "    }\n",
              "\n",
              "    [theme=dark] .colab-df-convert:hover {\n",
              "      background-color: #434B5C;\n",
              "      box-shadow: 0px 1px 3px 1px rgba(0, 0, 0, 0.15);\n",
              "      filter: drop-shadow(0px 1px 2px rgba(0, 0, 0, 0.3));\n",
              "      fill: #FFFFFF;\n",
              "    }\n",
              "  </style>\n",
              "\n",
              "      <script>\n",
              "        const buttonEl =\n",
              "          document.querySelector('#df-49119070-f65e-4254-a613-249fad3322cf button.colab-df-convert');\n",
              "        buttonEl.style.display =\n",
              "          google.colab.kernel.accessAllowed ? 'block' : 'none';\n",
              "\n",
              "        async function convertToInteractive(key) {\n",
              "          const element = document.querySelector('#df-49119070-f65e-4254-a613-249fad3322cf');\n",
              "          const dataTable =\n",
              "            await google.colab.kernel.invokeFunction('convertToInteractive',\n",
              "                                                     [key], {});\n",
              "          if (!dataTable) return;\n",
              "\n",
              "          const docLinkHtml = 'Like what you see? Visit the ' +\n",
              "            '<a target=\"_blank\" href=https://colab.research.google.com/notebooks/data_table.ipynb>data table notebook</a>'\n",
              "            + ' to learn more about interactive tables.';\n",
              "          element.innerHTML = '';\n",
              "          dataTable['output_type'] = 'display_data';\n",
              "          await google.colab.output.renderOutput(dataTable, element);\n",
              "          const docLink = document.createElement('div');\n",
              "          docLink.innerHTML = docLinkHtml;\n",
              "          element.appendChild(docLink);\n",
              "        }\n",
              "      </script>\n",
              "    </div>\n",
              "  </div>\n",
              "  "
            ]
          },
          "metadata": {},
          "execution_count": 8
        }
      ]
    },
    {
      "cell_type": "markdown",
      "source": [
        "### Bagging\n",
        "\n",
        "* just handling one feature/aspect in a single tree\n",
        "* tries to avoid overfitting\n",
        "* probly better choice for smaller datasets; less complicated model"
      ],
      "metadata": {
        "id": "X7ZzzBRHJRPy"
      }
    },
    {
      "cell_type": "code",
      "source": [
        "# Remove target columns from input data\n",
        "#X = np.array(df.iloc[:,:-2]) # there is an alternate universe just using arrays\n",
        "# ...but we will use dataFrames here\n",
        "X = df.iloc[:,:-2]\n",
        "# Target data is in the very last column\n",
        "target = df.iloc[:,-1]"
      ],
      "metadata": {
        "id": "1L7UN5oARt63"
      },
      "execution_count": 9,
      "outputs": []
    },
    {
      "cell_type": "code",
      "source": [
        "target"
      ],
      "metadata": {
        "colab": {
          "base_uri": "https://localhost:8080/"
        },
        "id": "5UTiJhBQz-MY",
        "outputId": "da7b8540-c242-4b07-abec-f55f5904ddab"
      },
      "execution_count": 10,
      "outputs": [
        {
          "output_type": "execute_result",
          "data": {
            "text/plain": [
              "0       False\n",
              "1       False\n",
              "2       False\n",
              "3        True\n",
              "4       False\n",
              "        ...  \n",
              "1594    False\n",
              "1595     True\n",
              "1596     True\n",
              "1597    False\n",
              "1598     True\n",
              "Name: quality_good, Length: 1599, dtype: bool"
            ]
          },
          "metadata": {},
          "execution_count": 10
        }
      ]
    },
    {
      "cell_type": "code",
      "source": [
        "X.shape"
      ],
      "metadata": {
        "colab": {
          "base_uri": "https://localhost:8080/"
        },
        "id": "1-MDwZ_VRwEP",
        "outputId": "e95c8385-5351-463c-8ef7-2533bdfc477e"
      },
      "execution_count": 11,
      "outputs": [
        {
          "output_type": "execute_result",
          "data": {
            "text/plain": [
              "(1599, 11)"
            ]
          },
          "metadata": {},
          "execution_count": 11
        }
      ]
    },
    {
      "cell_type": "code",
      "source": [
        "# Define our target column as a constant\n",
        "TARGET_NAME = 'quality_good'"
      ],
      "metadata": {
        "id": "x7go9Cg3W2Bm"
      },
      "execution_count": 12,
      "outputs": []
    },
    {
      "cell_type": "code",
      "source": [
        "# num rows to extract - FIRST RANDOMNESS - extracted in random order\n",
        "n_rows = X.shape[0]\n",
        "# num cols to extract - SECOND RANDOMNESS - extracting random subset\n",
        "#   we don't want the trees to see all the features - this is just some heuristic\n",
        "#   to choose a subset size - nothing magical or mandatory\n",
        "n_col = int(np.sqrt(X.shape[1]))\n",
        "# num copies (learners / num trees) - a hyperparameter - tune as you like\n",
        "n_trees = 50"
      ],
      "metadata": {
        "id": "BDcEJgHdMnHj"
      },
      "execution_count": 13,
      "outputs": []
    },
    {
      "cell_type": "code",
      "source": [
        "n_rows, n_col"
      ],
      "metadata": {
        "colab": {
          "base_uri": "https://localhost:8080/"
        },
        "id": "4cG96mBLOIdN",
        "outputId": "87df1ea2-e676-4529-91fc-a728a7a7133e"
      },
      "execution_count": 44,
      "outputs": [
        {
          "output_type": "execute_result",
          "data": {
            "text/plain": [
              "(1599, 3)"
            ]
          },
          "metadata": {},
          "execution_count": 44
        }
      ]
    },
    {
      "cell_type": "markdown",
      "source": [
        "**RandomForest Implementation**\n",
        "\n",
        "* Can train the trees in parallel; quick\n",
        "* No scaling required! Data is not subject to numeric processing requiring normalizing\n",
        "* Used in a lot in anomaly detection scenarios (?)\n",
        "* Note can also be used as a Regressor"
      ],
      "metadata": {
        "id": "CLnfrCquPt80"
      }
    },
    {
      "cell_type": "code",
      "source": [
        "columns = X.columns"
      ],
      "metadata": {
        "id": "RS8J_9t6OPln"
      },
      "execution_count": 15,
      "outputs": []
    },
    {
      "cell_type": "code",
      "source": [
        "#index = list(range(0,n_rows))  # if using arrays vs. dataframes....\n",
        "index = X.index"
      ],
      "metadata": {
        "id": "VfhJD4DkNAmh"
      },
      "execution_count": 16,
      "outputs": []
    },
    {
      "cell_type": "code",
      "source": [
        "data_collection = []"
      ],
      "metadata": {
        "id": "l9x27oKtNqEG"
      },
      "execution_count": 17,
      "outputs": []
    },
    {
      "cell_type": "code",
      "source": [
        "for i in range(n_trees):\n",
        "  # Randomly choose n_rows from the index\n",
        "  #   After each are selected they are put back, and can be selected again!\n",
        "  #   Process is called bootstrapping\n",
        "  row_draw = np.random.choice(index, size = n_rows, replace=True)\n",
        "\n",
        "  # print(row_draw)    # shuffled index array\n",
        "\n",
        "  # Randomly choose n_col columns (some subset)\n",
        "  #   Do not use 'replace' for cols b/c np.random.choice might select them twice\n",
        "  col_draw = np.random.choice(columns, size = n_col, replace=False)\n",
        "\n",
        "  #print(col_draw)  # list of 3 column names\n",
        "  #print(X.loc[row_draw, col_draw])  # large! full df, but with only 3 cols\n",
        "\n",
        "  # Capture X, y, and list of selected columns\n",
        "  data_collection.append((X.loc[row_draw, col_draw], target.iloc[row_draw], col_draw))"
      ],
      "metadata": {
        "id": "PtMefHCvOzEO"
      },
      "execution_count": null,
      "outputs": []
    },
    {
      "cell_type": "markdown",
      "source": [
        "**Fit a list of sklearn DecisionTreeClassifiers**\n",
        "\n",
        "We have randomly extracted N sets of data, each with 3 random columns.\n",
        "\n",
        "Create a Classifier for each."
      ],
      "metadata": {
        "id": "0aqgLnnIjVfG"
      }
    },
    {
      "cell_type": "code",
      "source": [
        "from sklearn.tree import DecisionTreeClassifier"
      ],
      "metadata": {
        "id": "hIvKx3FBQz6Q"
      },
      "execution_count": 20,
      "outputs": []
    },
    {
      "cell_type": "code",
      "source": [
        "tree_coll = []"
      ],
      "metadata": {
        "id": "kGQ3sdw5RTec"
      },
      "execution_count": 21,
      "outputs": []
    },
    {
      "cell_type": "code",
      "source": [
        "for data in data_collection:\n",
        "  dt = DecisionTreeClassifier()\n",
        "  # Fit a DecisionTree\n",
        "  #  where\n",
        "  #   data[0] is the full dataset w/shuffled index, minus all but 3 random cols\n",
        "  #   data[1] is the full target value set, with matching shuffled index\n",
        "  dt.fit(X=data[0], y=data[1])\n",
        "  # Save this trained DecisionTree, which is trained on these 3 cols\n",
        "  tree_coll.append(dt)"
      ],
      "metadata": {
        "id": "cfrT-N1GRVgD"
      },
      "execution_count": 22,
      "outputs": []
    },
    {
      "cell_type": "code",
      "source": [
        "prediction = []"
      ],
      "metadata": {
        "id": "VYEizKY0U_aq"
      },
      "execution_count": 47,
      "outputs": []
    },
    {
      "cell_type": "code",
      "source": [
        "# For each trained tree.....\n",
        "for idx, dt in enumerate(tree_coll):\n",
        "  # Slice original X as input - just take first 2 rows to predict on as a test\n",
        "  #   and note we are only selecting the columns listed in this Tree\n",
        "  #\n",
        "  # Returns an array of boolean results - Classifying each input row\n",
        "  prediction.append(dt.predict(X.loc[0:1, data_collection[idx][2]]))"
      ],
      "metadata": {
        "id": "vjMUVxTSRzRW"
      },
      "execution_count": 27,
      "outputs": []
    },
    {
      "cell_type": "code",
      "source": [
        "# Calc average RF prediction for 1st row and 2nd row of X\n",
        "#    Avg of all trained trees!\n",
        "np.mean(np.array(prediction).astype(int), axis=0)"
      ],
      "metadata": {
        "colab": {
          "base_uri": "https://localhost:8080/"
        },
        "id": "OoWVNXvAUw7C",
        "outputId": "5d2d9fc7-81b1-4c2a-9c75-6b909c25567c"
      },
      "execution_count": 28,
      "outputs": [
        {
          "output_type": "execute_result",
          "data": {
            "text/plain": [
              "array([0.04, 0.06])"
            ]
          },
          "metadata": {},
          "execution_count": 28
        }
      ]
    },
    {
      "cell_type": "markdown",
      "source": [
        "**Note:** *The average prediction for rows 1&2 are almost zero, meaning there is a lot of agreement across the trained trees!*"
      ],
      "metadata": {
        "id": "7RU2-qPonuK1"
      }
    },
    {
      "cell_type": "markdown",
      "source": [
        "**Try sklearn RandomForest**\n",
        "\n",
        "Compare our result to a full sklearn impl."
      ],
      "metadata": {
        "id": "DPii9wHsWjdw"
      }
    },
    {
      "cell_type": "code",
      "source": [
        "from sklearn.ensemble import RandomForestClassifier"
      ],
      "metadata": {
        "id": "nIXbn3bZWqX4"
      },
      "execution_count": 30,
      "outputs": []
    },
    {
      "cell_type": "code",
      "source": [
        "rf = RandomForestClassifier(n_estimators=50)"
      ],
      "metadata": {
        "id": "9j-gi4d0WuWL"
      },
      "execution_count": 31,
      "outputs": []
    },
    {
      "cell_type": "code",
      "source": [
        "rf.fit(X, target)"
      ],
      "metadata": {
        "colab": {
          "base_uri": "https://localhost:8080/"
        },
        "id": "R0OhCBNQXHbr",
        "outputId": "338252f2-265c-4f7c-9029-2941eccca9c0"
      },
      "execution_count": 32,
      "outputs": [
        {
          "output_type": "execute_result",
          "data": {
            "text/plain": [
              "RandomForestClassifier(n_estimators=50)"
            ]
          },
          "metadata": {},
          "execution_count": 32
        }
      ]
    },
    {
      "cell_type": "code",
      "source": [
        "# Again, predict over the first 2 rows only - just as a test\n",
        "rf.predict_proba(X.loc[0:1,:])[:,1]"
      ],
      "metadata": {
        "colab": {
          "base_uri": "https://localhost:8080/"
        },
        "id": "1DDjaD3yXKwq",
        "outputId": "ac99f101-9892-4076-e9e9-d2dfc0d5d49c"
      },
      "execution_count": 56,
      "outputs": [
        {
          "output_type": "execute_result",
          "data": {
            "text/plain": [
              "array([0. , 0.1])"
            ]
          },
          "metadata": {},
          "execution_count": 56
        }
      ]
    },
    {
      "cell_type": "markdown",
      "source": [
        "*Probabilities here also extremely certain that the first 2 rows are False.*"
      ],
      "metadata": {
        "id": "gYfdgbeKpOPw"
      }
    },
    {
      "cell_type": "code",
      "source": [
        "from sklearn.metrics import average_precision_score"
      ],
      "metadata": {
        "id": "Qq2iAx5gdoSR"
      },
      "execution_count": 35,
      "outputs": []
    },
    {
      "cell_type": "markdown",
      "source": [
        "*Another possible metric*"
      ],
      "metadata": {
        "id": "l9PWYU-bpdDN"
      }
    },
    {
      "cell_type": "code",
      "source": [
        "# Need the predictions in hand\n",
        "y_pred_rf = rf.predict(X)"
      ],
      "metadata": {
        "id": "PF0WOTRId5ww"
      },
      "execution_count": 53,
      "outputs": []
    },
    {
      "cell_type": "code",
      "source": [
        "# Calculate precision\n",
        "average_precision_score(target, y_pred_rf)"
      ],
      "metadata": {
        "colab": {
          "base_uri": "https://localhost:8080/"
        },
        "id": "_N1joGs0dt_T",
        "outputId": "ba4d452d-8e54-46ee-f5ea-da1ab5d74291"
      },
      "execution_count": 37,
      "outputs": [
        {
          "output_type": "execute_result",
          "data": {
            "text/plain": [
              "1.0"
            ]
          },
          "metadata": {},
          "execution_count": 37
        }
      ]
    },
    {
      "cell_type": "markdown",
      "source": [
        "### Gradient Boosting\n",
        "\n",
        "* understand in terms of prediction\n",
        "* take errs from prediction...use as target for next tree...iterate\n",
        "* smaller amount of hyperparams\n",
        "* more popular than NeuralNets\n"
      ],
      "metadata": {
        "id": "kQUXp2KKfTK_"
      }
    },
    {
      "cell_type": "code",
      "source": [
        "!pip install xgboost --upgrade"
      ],
      "metadata": {
        "colab": {
          "base_uri": "https://localhost:8080/"
        },
        "id": "cmg1XiETeZa9",
        "outputId": "d7c9e115-3bf4-448b-d4b6-a56c2d6fd3ee"
      },
      "execution_count": 38,
      "outputs": [
        {
          "output_type": "stream",
          "name": "stdout",
          "text": [
            "Requirement already satisfied: xgboost in /usr/local/lib/python3.7/dist-packages (1.6.0)\n",
            "Requirement already satisfied: numpy in /usr/local/lib/python3.7/dist-packages (from xgboost) (1.21.6)\n",
            "Requirement already satisfied: scipy in /usr/local/lib/python3.7/dist-packages (from xgboost) (1.4.1)\n"
          ]
        }
      ]
    },
    {
      "cell_type": "code",
      "source": [
        "from xgboost.sklearn import XGBClassifier"
      ],
      "metadata": {
        "id": "KbkZqgEMePWf"
      },
      "execution_count": 39,
      "outputs": []
    },
    {
      "cell_type": "code",
      "source": [
        "xgb = XGBClassifier(n_estimator = 20)"
      ],
      "metadata": {
        "id": "16apKzZbdjIq"
      },
      "execution_count": 40,
      "outputs": []
    },
    {
      "cell_type": "code",
      "source": [
        "xgb.fit(X, target)"
      ],
      "metadata": {
        "colab": {
          "base_uri": "https://localhost:8080/"
        },
        "id": "0YpAFUCXew18",
        "outputId": "8e167bf9-56fd-44ba-95c8-002aaf8fe72b"
      },
      "execution_count": 41,
      "outputs": [
        {
          "output_type": "stream",
          "name": "stdout",
          "text": [
            "[01:28:16] WARNING: ../src/learner.cc:627: \n",
            "Parameters: { \"n_estimator\" } might not be used.\n",
            "\n",
            "  This could be a false alarm, with some parameters getting used by language bindings but\n",
            "  then being mistakenly passed down to XGBoost core, or some parameter actually being used\n",
            "  but getting flagged wrongly here. Please open an issue if you find any such cases.\n",
            "\n",
            "\n"
          ]
        },
        {
          "output_type": "execute_result",
          "data": {
            "text/plain": [
              "XGBClassifier(base_score=0.5, booster='gbtree', callbacks=None,\n",
              "              colsample_bylevel=1, colsample_bynode=1, colsample_bytree=1,\n",
              "              early_stopping_rounds=None, enable_categorical=False,\n",
              "              eval_metric=None, gamma=0, gpu_id=-1, grow_policy='depthwise',\n",
              "              importance_type=None, interaction_constraints='',\n",
              "              learning_rate=0.300000012, max_bin=256, max_cat_to_onehot=4,\n",
              "              max_delta_step=0, max_depth=6, max_leaves=0, min_child_weight=1,\n",
              "              missing=nan, monotone_constraints='()', n_estimator=20,\n",
              "              n_estimators=100, n_jobs=0, num_parallel_tree=1, predictor='auto',\n",
              "              random_state=0, reg_alpha=0, ...)"
            ]
          },
          "metadata": {},
          "execution_count": 41
        }
      ]
    },
    {
      "cell_type": "code",
      "source": [
        "y_pred_xgb = xgb.predict(X)"
      ],
      "metadata": {
        "id": "EBHvW35_ey8T"
      },
      "execution_count": 42,
      "outputs": []
    },
    {
      "cell_type": "code",
      "source": [
        "average_precision_score(target, y_pred_xgb)"
      ],
      "metadata": {
        "colab": {
          "base_uri": "https://localhost:8080/"
        },
        "id": "oBzj21dCfCli",
        "outputId": "0334b49c-ce64-47e9-e410-696d95aab6d6"
      },
      "execution_count": 43,
      "outputs": [
        {
          "output_type": "execute_result",
          "data": {
            "text/plain": [
              "1.0"
            ]
          },
          "metadata": {},
          "execution_count": 43
        }
      ]
    }
  ]
}