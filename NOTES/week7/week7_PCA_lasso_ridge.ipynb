{
  "nbformat": 4,
  "nbformat_minor": 0,
  "metadata": {
    "colab": {
      "name": "week7-PCA-lasso-ridge.ipynb",
      "provenance": [],
      "collapsed_sections": []
    },
    "kernelspec": {
      "name": "python3",
      "display_name": "Python 3"
    },
    "language_info": {
      "name": "python"
    }
  },
  "cells": [
    {
      "cell_type": "markdown",
      "source": [
        "# week7 notes"
      ],
      "metadata": {
        "id": "bgPEtKvb3bNS"
      }
    },
    {
      "cell_type": "code",
      "source": [
        ""
      ],
      "metadata": {
        "id": "8nhgQNpTHH1X"
      },
      "execution_count": 68,
      "outputs": []
    },
    {
      "cell_type": "code",
      "source": [
        "import pandas as pd\n",
        "import numpy as np\n",
        "import seaborn as sns\n",
        "from sklearn.model_selection import train_test_split\n",
        "from sklearn.linear_model import LinearRegression, HuberRegressor\n",
        "from sklearn.model_selection import train_test_split, KFold"
      ],
      "metadata": {
        "id": "ASZ5omNi8ngG"
      },
      "execution_count": 69,
      "outputs": []
    },
    {
      "cell_type": "code",
      "source": [
        "df = pd.read_excel(\"https://archive.ics.uci.edu/ml/machine-learning-databases/00477/Real%20estate%20valuation%20data%20set.xlsx\",)\n"
      ],
      "metadata": {
        "id": "Bh3fERxI8rfw"
      },
      "execution_count": 70,
      "outputs": []
    },
    {
      "cell_type": "code",
      "source": [
        "df.columns"
      ],
      "metadata": {
        "colab": {
          "base_uri": "https://localhost:8080/"
        },
        "outputId": "7254384a-2eae-4d7b-da46-dfd351dce553",
        "id": "IyxdvXNT80_9"
      },
      "execution_count": 71,
      "outputs": [
        {
          "output_type": "execute_result",
          "data": {
            "text/plain": [
              "Index(['No', 'X1 transaction date', 'X2 house age',\n",
              "       'X3 distance to the nearest MRT station',\n",
              "       'X4 number of convenience stores', 'X5 latitude', 'X6 longitude',\n",
              "       'Y house price of unit area'],\n",
              "      dtype='object')"
            ]
          },
          "metadata": {},
          "execution_count": 71
        }
      ]
    },
    {
      "cell_type": "code",
      "source": [
        "# Rename columns for convenience\n",
        "df.columns = ['No', 'date','age','dist','stores','lat','long','price']"
      ],
      "metadata": {
        "id": "X4_6QoZ_80__"
      },
      "execution_count": 72,
      "outputs": []
    },
    {
      "cell_type": "code",
      "source": [
        ""
      ],
      "metadata": {
        "id": "d7Csqw8h81Zu"
      },
      "execution_count": 72,
      "outputs": []
    },
    {
      "cell_type": "code",
      "source": [
        "# Perform test/train split at 80/20 because we do not have much training data\n",
        "df_train,df_test = train_test_split(df, test_size=0.2, random_state=100)"
      ],
      "metadata": {
        "id": "WCyW8hpl85iy"
      },
      "execution_count": 73,
      "outputs": []
    },
    {
      "cell_type": "code",
      "source": [
        "df_train.shape,df_test.shape"
      ],
      "metadata": {
        "colab": {
          "base_uri": "https://localhost:8080/"
        },
        "outputId": "deb2e6a3-2110-4976-a4a5-d704449678b5",
        "id": "1m86Qmj685i8"
      },
      "execution_count": 74,
      "outputs": [
        {
          "output_type": "execute_result",
          "data": {
            "text/plain": [
              "((331, 8), (83, 8))"
            ]
          },
          "metadata": {},
          "execution_count": 74
        }
      ]
    },
    {
      "cell_type": "code",
      "source": [
        "df_train.head(5)"
      ],
      "metadata": {
        "colab": {
          "base_uri": "https://localhost:8080/",
          "height": 206
        },
        "id": "5uI_UC-T9BYH",
        "outputId": "d0991b3f-8e9b-42e3-9013-944802f4fe94"
      },
      "execution_count": 75,
      "outputs": [
        {
          "output_type": "execute_result",
          "data": {
            "text/plain": [
              "      No         date   age      dist  stores       lat       long  price\n",
              "272  273  2012.750000  13.0  492.2313       5  24.96515  121.53737   40.5\n",
              "390  391  2013.500000  32.8  377.8302       9  24.97151  121.54350   38.6\n",
              "69    70  2012.833333  12.5  561.9845       5  24.98746  121.54391   42.0\n",
              "325  326  2013.083333  36.6  488.8193       8  24.97015  121.54494   38.1\n",
              "199  200  2013.416667  18.2  451.6419       8  24.96945  121.54490   31.6"
            ],
            "text/html": [
              "\n",
              "  <div id=\"df-db596dad-4dbe-4161-983a-e351a525859a\">\n",
              "    <div class=\"colab-df-container\">\n",
              "      <div>\n",
              "<style scoped>\n",
              "    .dataframe tbody tr th:only-of-type {\n",
              "        vertical-align: middle;\n",
              "    }\n",
              "\n",
              "    .dataframe tbody tr th {\n",
              "        vertical-align: top;\n",
              "    }\n",
              "\n",
              "    .dataframe thead th {\n",
              "        text-align: right;\n",
              "    }\n",
              "</style>\n",
              "<table border=\"1\" class=\"dataframe\">\n",
              "  <thead>\n",
              "    <tr style=\"text-align: right;\">\n",
              "      <th></th>\n",
              "      <th>No</th>\n",
              "      <th>date</th>\n",
              "      <th>age</th>\n",
              "      <th>dist</th>\n",
              "      <th>stores</th>\n",
              "      <th>lat</th>\n",
              "      <th>long</th>\n",
              "      <th>price</th>\n",
              "    </tr>\n",
              "  </thead>\n",
              "  <tbody>\n",
              "    <tr>\n",
              "      <th>272</th>\n",
              "      <td>273</td>\n",
              "      <td>2012.750000</td>\n",
              "      <td>13.0</td>\n",
              "      <td>492.2313</td>\n",
              "      <td>5</td>\n",
              "      <td>24.96515</td>\n",
              "      <td>121.53737</td>\n",
              "      <td>40.5</td>\n",
              "    </tr>\n",
              "    <tr>\n",
              "      <th>390</th>\n",
              "      <td>391</td>\n",
              "      <td>2013.500000</td>\n",
              "      <td>32.8</td>\n",
              "      <td>377.8302</td>\n",
              "      <td>9</td>\n",
              "      <td>24.97151</td>\n",
              "      <td>121.54350</td>\n",
              "      <td>38.6</td>\n",
              "    </tr>\n",
              "    <tr>\n",
              "      <th>69</th>\n",
              "      <td>70</td>\n",
              "      <td>2012.833333</td>\n",
              "      <td>12.5</td>\n",
              "      <td>561.9845</td>\n",
              "      <td>5</td>\n",
              "      <td>24.98746</td>\n",
              "      <td>121.54391</td>\n",
              "      <td>42.0</td>\n",
              "    </tr>\n",
              "    <tr>\n",
              "      <th>325</th>\n",
              "      <td>326</td>\n",
              "      <td>2013.083333</td>\n",
              "      <td>36.6</td>\n",
              "      <td>488.8193</td>\n",
              "      <td>8</td>\n",
              "      <td>24.97015</td>\n",
              "      <td>121.54494</td>\n",
              "      <td>38.1</td>\n",
              "    </tr>\n",
              "    <tr>\n",
              "      <th>199</th>\n",
              "      <td>200</td>\n",
              "      <td>2013.416667</td>\n",
              "      <td>18.2</td>\n",
              "      <td>451.6419</td>\n",
              "      <td>8</td>\n",
              "      <td>24.96945</td>\n",
              "      <td>121.54490</td>\n",
              "      <td>31.6</td>\n",
              "    </tr>\n",
              "  </tbody>\n",
              "</table>\n",
              "</div>\n",
              "      <button class=\"colab-df-convert\" onclick=\"convertToInteractive('df-db596dad-4dbe-4161-983a-e351a525859a')\"\n",
              "              title=\"Convert this dataframe to an interactive table.\"\n",
              "              style=\"display:none;\">\n",
              "        \n",
              "  <svg xmlns=\"http://www.w3.org/2000/svg\" height=\"24px\"viewBox=\"0 0 24 24\"\n",
              "       width=\"24px\">\n",
              "    <path d=\"M0 0h24v24H0V0z\" fill=\"none\"/>\n",
              "    <path d=\"M18.56 5.44l.94 2.06.94-2.06 2.06-.94-2.06-.94-.94-2.06-.94 2.06-2.06.94zm-11 1L8.5 8.5l.94-2.06 2.06-.94-2.06-.94L8.5 2.5l-.94 2.06-2.06.94zm10 10l.94 2.06.94-2.06 2.06-.94-2.06-.94-.94-2.06-.94 2.06-2.06.94z\"/><path d=\"M17.41 7.96l-1.37-1.37c-.4-.4-.92-.59-1.43-.59-.52 0-1.04.2-1.43.59L10.3 9.45l-7.72 7.72c-.78.78-.78 2.05 0 2.83L4 21.41c.39.39.9.59 1.41.59.51 0 1.02-.2 1.41-.59l7.78-7.78 2.81-2.81c.8-.78.8-2.07 0-2.86zM5.41 20L4 18.59l7.72-7.72 1.47 1.35L5.41 20z\"/>\n",
              "  </svg>\n",
              "      </button>\n",
              "      \n",
              "  <style>\n",
              "    .colab-df-container {\n",
              "      display:flex;\n",
              "      flex-wrap:wrap;\n",
              "      gap: 12px;\n",
              "    }\n",
              "\n",
              "    .colab-df-convert {\n",
              "      background-color: #E8F0FE;\n",
              "      border: none;\n",
              "      border-radius: 50%;\n",
              "      cursor: pointer;\n",
              "      display: none;\n",
              "      fill: #1967D2;\n",
              "      height: 32px;\n",
              "      padding: 0 0 0 0;\n",
              "      width: 32px;\n",
              "    }\n",
              "\n",
              "    .colab-df-convert:hover {\n",
              "      background-color: #E2EBFA;\n",
              "      box-shadow: 0px 1px 2px rgba(60, 64, 67, 0.3), 0px 1px 3px 1px rgba(60, 64, 67, 0.15);\n",
              "      fill: #174EA6;\n",
              "    }\n",
              "\n",
              "    [theme=dark] .colab-df-convert {\n",
              "      background-color: #3B4455;\n",
              "      fill: #D2E3FC;\n",
              "    }\n",
              "\n",
              "    [theme=dark] .colab-df-convert:hover {\n",
              "      background-color: #434B5C;\n",
              "      box-shadow: 0px 1px 3px 1px rgba(0, 0, 0, 0.15);\n",
              "      filter: drop-shadow(0px 1px 2px rgba(0, 0, 0, 0.3));\n",
              "      fill: #FFFFFF;\n",
              "    }\n",
              "  </style>\n",
              "\n",
              "      <script>\n",
              "        const buttonEl =\n",
              "          document.querySelector('#df-db596dad-4dbe-4161-983a-e351a525859a button.colab-df-convert');\n",
              "        buttonEl.style.display =\n",
              "          google.colab.kernel.accessAllowed ? 'block' : 'none';\n",
              "\n",
              "        async function convertToInteractive(key) {\n",
              "          const element = document.querySelector('#df-db596dad-4dbe-4161-983a-e351a525859a');\n",
              "          const dataTable =\n",
              "            await google.colab.kernel.invokeFunction('convertToInteractive',\n",
              "                                                     [key], {});\n",
              "          if (!dataTable) return;\n",
              "\n",
              "          const docLinkHtml = 'Like what you see? Visit the ' +\n",
              "            '<a target=\"_blank\" href=https://colab.research.google.com/notebooks/data_table.ipynb>data table notebook</a>'\n",
              "            + ' to learn more about interactive tables.';\n",
              "          element.innerHTML = '';\n",
              "          dataTable['output_type'] = 'display_data';\n",
              "          await google.colab.output.renderOutput(dataTable, element);\n",
              "          const docLink = document.createElement('div');\n",
              "          docLink.innerHTML = docLinkHtml;\n",
              "          element.appendChild(docLink);\n",
              "        }\n",
              "      </script>\n",
              "    </div>\n",
              "  </div>\n",
              "  "
            ]
          },
          "metadata": {},
          "execution_count": 75
        }
      ]
    },
    {
      "cell_type": "code",
      "source": [
        "# only want ot transform numerical features\n",
        "#drop price\n",
        "features = ['date','age','dist','stores','lat','long']\n",
        "numerical_features = ['date','age','dist','lat','long']\n",
        "target = 'price'"
      ],
      "metadata": {
        "id": "ivHAz4fo9nNr"
      },
      "execution_count": 76,
      "outputs": []
    },
    {
      "cell_type": "code",
      "source": [
        "# For PCA use StandardScaler, it is more robust to outliers\n",
        "from sklearn.preprocessing import PolynomialFeatures, StandardScaler\n",
        "from sklearn.metrics import mean_squared_error,mean_absolute_error"
      ],
      "metadata": {
        "id": "su-rQQFs9Hbw"
      },
      "execution_count": 77,
      "outputs": []
    },
    {
      "cell_type": "markdown",
      "source": [
        "**standard scaling: ** $X_scaled = X-Xmean / sd(X)$"
      ],
      "metadata": {
        "id": "R8hYjFWo-mvY"
      }
    },
    {
      "cell_type": "markdown",
      "source": [
        "minmax would set most of this close to zero\n",
        "{1k, 10k, 1M, 55B} --> {0, 9k/55B, (1m-1k)/55B, 1}\n",
        "standard scaler"
      ],
      "metadata": {
        "id": "lhNfsjYr-2Ia"
      }
    },
    {
      "cell_type": "markdown",
      "source": [
        "**Fit the Poly transform**"
      ],
      "metadata": {
        "id": "J2e2P0rSDlrU"
      }
    },
    {
      "cell_type": "code",
      "source": [
        "# Adding bias creates a col 0 of constants (all ones) - AKA x_0\n",
        "#   this impacts the Scaler - include manually afterwards\n",
        "PF = PolynomialFeatures(degree=4, interaction_only=False, include_bias=False)"
      ],
      "metadata": {
        "id": "lHPwqcH89ML0"
      },
      "execution_count": 78,
      "outputs": []
    },
    {
      "cell_type": "code",
      "source": [
        "df_train_poly = PF.fit_transform(df_train[numerical_features])"
      ],
      "metadata": {
        "id": "mADBEIbA9crB"
      },
      "execution_count": 79,
      "outputs": []
    },
    {
      "cell_type": "markdown",
      "source": [
        "**Fit the scaler**"
      ],
      "metadata": {
        "id": "nSpSuv0dDq_Y"
      }
    },
    {
      "cell_type": "code",
      "source": [
        "std_scaler = StandardScaler()"
      ],
      "metadata": {
        "id": "u0plXyL3-c3B"
      },
      "execution_count": 80,
      "outputs": []
    },
    {
      "cell_type": "code",
      "source": [
        "df_train_scaled = std_scaler.fit_transform(df_train_poly)"
      ],
      "metadata": {
        "id": "JDvBKL5H_kV0"
      },
      "execution_count": 81,
      "outputs": []
    },
    {
      "cell_type": "markdown",
      "source": [
        "**Create a version of df_train including constant bias**"
      ],
      "metadata": {
        "id": "Y9Vs-l3HjU19"
      }
    },
    {
      "cell_type": "code",
      "source": [
        "df_train_scaled_const = np.hstack((np.ones((df_train_scaled.shape[0],1)), df_train_scaled))"
      ],
      "metadata": {
        "id": "MbJ2WAVLIvC5"
      },
      "execution_count": 82,
      "outputs": []
    },
    {
      "cell_type": "markdown",
      "source": [
        "**Check results**"
      ],
      "metadata": {
        "id": "HId-zTJQjgO8"
      }
    },
    {
      "cell_type": "code",
      "source": [
        "df_train_scaled.shape,df_train_scaled_const.shape"
      ],
      "metadata": {
        "colab": {
          "base_uri": "https://localhost:8080/"
        },
        "id": "Pb0Scf4OFBxa",
        "outputId": "2e374de1-4328-4eb8-a176-998d194f7143"
      },
      "execution_count": 83,
      "outputs": [
        {
          "output_type": "execute_result",
          "data": {
            "text/plain": [
              "((331, 125), (331, 126))"
            ]
          },
          "metadata": {},
          "execution_count": 83
        }
      ]
    },
    {
      "cell_type": "code",
      "source": [
        "df_train_scaled_const[:,0]"
      ],
      "metadata": {
        "colab": {
          "base_uri": "https://localhost:8080/"
        },
        "id": "DrlDHMVZLKG8",
        "outputId": "5eacfca9-19c4-4eb6-815f-1013bb66d096"
      },
      "execution_count": 84,
      "outputs": [
        {
          "output_type": "execute_result",
          "data": {
            "text/plain": [
              "array([1., 1., 1., 1., 1., 1., 1., 1., 1., 1., 1., 1., 1., 1., 1., 1., 1.,\n",
              "       1., 1., 1., 1., 1., 1., 1., 1., 1., 1., 1., 1., 1., 1., 1., 1., 1.,\n",
              "       1., 1., 1., 1., 1., 1., 1., 1., 1., 1., 1., 1., 1., 1., 1., 1., 1.,\n",
              "       1., 1., 1., 1., 1., 1., 1., 1., 1., 1., 1., 1., 1., 1., 1., 1., 1.,\n",
              "       1., 1., 1., 1., 1., 1., 1., 1., 1., 1., 1., 1., 1., 1., 1., 1., 1.,\n",
              "       1., 1., 1., 1., 1., 1., 1., 1., 1., 1., 1., 1., 1., 1., 1., 1., 1.,\n",
              "       1., 1., 1., 1., 1., 1., 1., 1., 1., 1., 1., 1., 1., 1., 1., 1., 1.,\n",
              "       1., 1., 1., 1., 1., 1., 1., 1., 1., 1., 1., 1., 1., 1., 1., 1., 1.,\n",
              "       1., 1., 1., 1., 1., 1., 1., 1., 1., 1., 1., 1., 1., 1., 1., 1., 1.,\n",
              "       1., 1., 1., 1., 1., 1., 1., 1., 1., 1., 1., 1., 1., 1., 1., 1., 1.,\n",
              "       1., 1., 1., 1., 1., 1., 1., 1., 1., 1., 1., 1., 1., 1., 1., 1., 1.,\n",
              "       1., 1., 1., 1., 1., 1., 1., 1., 1., 1., 1., 1., 1., 1., 1., 1., 1.,\n",
              "       1., 1., 1., 1., 1., 1., 1., 1., 1., 1., 1., 1., 1., 1., 1., 1., 1.,\n",
              "       1., 1., 1., 1., 1., 1., 1., 1., 1., 1., 1., 1., 1., 1., 1., 1., 1.,\n",
              "       1., 1., 1., 1., 1., 1., 1., 1., 1., 1., 1., 1., 1., 1., 1., 1., 1.,\n",
              "       1., 1., 1., 1., 1., 1., 1., 1., 1., 1., 1., 1., 1., 1., 1., 1., 1.,\n",
              "       1., 1., 1., 1., 1., 1., 1., 1., 1., 1., 1., 1., 1., 1., 1., 1., 1.,\n",
              "       1., 1., 1., 1., 1., 1., 1., 1., 1., 1., 1., 1., 1., 1., 1., 1., 1.,\n",
              "       1., 1., 1., 1., 1., 1., 1., 1., 1., 1., 1., 1., 1., 1., 1., 1., 1.,\n",
              "       1., 1., 1., 1., 1., 1., 1., 1.])"
            ]
          },
          "metadata": {},
          "execution_count": 84
        }
      ]
    },
    {
      "cell_type": "markdown",
      "source": [
        "**Fit and predict regression on training data**"
      ],
      "metadata": {
        "id": "h5kfEkQVDdh7"
      }
    },
    {
      "cell_type": "code",
      "source": [
        "lr = LinearRegression(fit_intercept=True)"
      ],
      "metadata": {
        "id": "XocuodfeAIs5"
      },
      "execution_count": 85,
      "outputs": []
    },
    {
      "cell_type": "code",
      "source": [
        "lr.fit(X=df_train_scaled, y=df_train[target])"
      ],
      "metadata": {
        "colab": {
          "base_uri": "https://localhost:8080/"
        },
        "id": "3s8dgNWSAUnh",
        "outputId": "42a1d305-d81c-4fc1-a780-5ea2ead1ef76"
      },
      "execution_count": 86,
      "outputs": [
        {
          "output_type": "execute_result",
          "data": {
            "text/plain": [
              "LinearRegression()"
            ]
          },
          "metadata": {},
          "execution_count": 86
        }
      ]
    },
    {
      "cell_type": "code",
      "source": [
        "# Show calculated coefficients\n",
        "#   Comparing with others' data, and w/ other methods\n",
        "#   Prof had a manual calculation of the LR fit\n",
        "#lr.coef_"
      ],
      "metadata": {
        "id": "E70To09pHpss"
      },
      "execution_count": 87,
      "outputs": []
    },
    {
      "cell_type": "code",
      "source": [
        "lr_predict_train = lr.predict(df_train_scaled)"
      ],
      "metadata": {
        "id": "X2fnk5kjAaQ7"
      },
      "execution_count": 88,
      "outputs": []
    },
    {
      "cell_type": "code",
      "source": [
        "mean_squared_error(y_true=df_train[target], y_pred=lr_predict_train)"
      ],
      "metadata": {
        "colab": {
          "base_uri": "https://localhost:8080/"
        },
        "id": "yedV6ZicAgk6",
        "outputId": "b25dc9b3-b04e-4bd6-f6a9-590c1d112a5c"
      },
      "execution_count": 89,
      "outputs": [
        {
          "output_type": "execute_result",
          "data": {
            "text/plain": [
              "37.16358166889828"
            ]
          },
          "metadata": {},
          "execution_count": 89
        }
      ]
    },
    {
      "cell_type": "code",
      "source": [
        "# Just another way to compare results\n",
        "df_train[target].sum()"
      ],
      "metadata": {
        "colab": {
          "base_uri": "https://localhost:8080/"
        },
        "id": "-KznKw1qKvZq",
        "outputId": "2ee526d4-c079-4c59-b5c8-a942b0f76411"
      },
      "execution_count": 90,
      "outputs": [
        {
          "output_type": "execute_result",
          "data": {
            "text/plain": [
              "12438.900000000001"
            ]
          },
          "metadata": {},
          "execution_count": 90
        }
      ]
    },
    {
      "cell_type": "code",
      "source": [
        "# INCOMPLETE - this was the start of an external statistical verification option\n",
        "#from statsmodels.regression import linear_model\n",
        "#stats_ols = linear_model.OLS()"
      ],
      "metadata": {
        "id": "R-KFBF7TLm40"
      },
      "execution_count": 91,
      "outputs": []
    },
    {
      "cell_type": "markdown",
      "source": [
        "**Plot actual vs. predicted on train set**"
      ],
      "metadata": {
        "id": "NjIAxVc5EY5_"
      }
    },
    {
      "cell_type": "code",
      "source": [
        "sns.scatterplot(x=df_train[target], y = lr_predict_train)"
      ],
      "metadata": {
        "colab": {
          "base_uri": "https://localhost:8080/",
          "height": 514
        },
        "id": "cOxmYlGrD3DT",
        "outputId": "724ae414-6a8a-43ee-e01d-3e87e6ed15af"
      },
      "execution_count": 92,
      "outputs": [
        {
          "output_type": "execute_result",
          "data": {
            "text/plain": [
              "<matplotlib.axes._subplots.AxesSubplot at 0x7f5ffa6eae90>"
            ]
          },
          "metadata": {},
          "execution_count": 92
        },
        {
          "output_type": "display_data",
          "data": {
            "text/plain": [
              "<Figure size 1080x576 with 1 Axes>"
            ],
            "image/png": "[encoded data removed]"
          },
          "metadata": {
            "needs_background": "light"
          }
        }
      ]
    },
    {
      "cell_type": "markdown",
      "source": [
        "**Apply trained model to test data**"
      ],
      "metadata": {
        "id": "1PDPxxKFDVER"
      }
    },
    {
      "cell_type": "code",
      "source": [
        "df_test_poly = PF.transform(df_test[numerical_features])\n",
        "df_test_scaled = std_scaler.transform(df_test_poly)"
      ],
      "metadata": {
        "id": "8bRFYOR9Au8p"
      },
      "execution_count": 93,
      "outputs": []
    },
    {
      "cell_type": "code",
      "source": [
        "lr_predict_test = lr.predict(df_test_scaled)"
      ],
      "metadata": {
        "id": "sMHOkq7FBeUl"
      },
      "execution_count": 94,
      "outputs": []
    },
    {
      "cell_type": "code",
      "source": [
        "mean_squared_error(y_true=df_test[target], y_pred=lr_predict_test)"
      ],
      "metadata": {
        "colab": {
          "base_uri": "https://localhost:8080/"
        },
        "id": "li_TWQ4YBiRA",
        "outputId": "d45a4281-c290-4ecc-f240-ad8ed6b0d42d"
      },
      "execution_count": 95,
      "outputs": [
        {
          "output_type": "execute_result",
          "data": {
            "text/plain": [
              "267.973706013903"
            ]
          },
          "metadata": {},
          "execution_count": 95
        }
      ]
    },
    {
      "cell_type": "markdown",
      "source": [
        "**Plot actual vs. predicted on test set**"
      ],
      "metadata": {
        "id": "phiw_zuzEiEO"
      }
    },
    {
      "cell_type": "code",
      "source": [
        "sns.scatterplot(x=df_test[target], y = lr_predict_test)"
      ],
      "metadata": {
        "colab": {
          "base_uri": "https://localhost:8080/",
          "height": 514
        },
        "id": "SXd5B0VaENWl",
        "outputId": "382d1278-9cb0-479d-faa9-73f22d23d5b4"
      },
      "execution_count": 96,
      "outputs": [
        {
          "output_type": "execute_result",
          "data": {
            "text/plain": [
              "<matplotlib.axes._subplots.AxesSubplot at 0x7f5ffab22450>"
            ]
          },
          "metadata": {},
          "execution_count": 96
        },
        {
          "output_type": "display_data",
          "data": {
            "text/plain": [
              "<Figure size 1080x576 with 1 Axes>"
            ],
            "image/png": "[encoded data removed]"
          },
          "metadata": {
            "needs_background": "light"
          }
        }
      ]
    },
    {
      "cell_type": "markdown",
      "source": [
        "### Repeat LR using the added bias constants"
      ],
      "metadata": {
        "id": "VYR3Aoetkud1"
      }
    },
    {
      "cell_type": "markdown",
      "source": [
        "**Fit and predict regression on training data**"
      ],
      "metadata": {
        "id": "qLt9j0jVksxI"
      }
    },
    {
      "cell_type": "code",
      "source": [
        "lr = LinearRegression(fit_intercept=True)"
      ],
      "metadata": {
        "id": "ZAAShpitksxU"
      },
      "execution_count": 97,
      "outputs": []
    },
    {
      "cell_type": "code",
      "source": [
        "lr.fit(X=df_train_scaled_const, y=df_train[target])"
      ],
      "metadata": {
        "colab": {
          "base_uri": "https://localhost:8080/"
        },
        "outputId": "faee817a-bc41-4c1b-d336-493771d44c71",
        "id": "4cZIS_L-ksxU"
      },
      "execution_count": 98,
      "outputs": [
        {
          "output_type": "execute_result",
          "data": {
            "text/plain": [
              "LinearRegression()"
            ]
          },
          "metadata": {},
          "execution_count": 98
        }
      ]
    },
    {
      "cell_type": "code",
      "source": [
        "lr_predict_train = lr.predict(df_train_scaled_const)"
      ],
      "metadata": {
        "id": "lRsvKMgVksxV"
      },
      "execution_count": 99,
      "outputs": []
    },
    {
      "cell_type": "code",
      "source": [
        "mean_squared_error(y_true=df_train[target], y_pred=lr_predict_train)"
      ],
      "metadata": {
        "colab": {
          "base_uri": "https://localhost:8080/"
        },
        "outputId": "18d83c3a-1b3f-4dbe-cbe2-1467fc403823",
        "id": "n1UIARpbksxV"
      },
      "execution_count": 100,
      "outputs": [
        {
          "output_type": "execute_result",
          "data": {
            "text/plain": [
              "38.30890410685467"
            ]
          },
          "metadata": {},
          "execution_count": 100
        }
      ]
    },
    {
      "cell_type": "markdown",
      "source": [
        "**Plot actual vs. predicted on train set**"
      ],
      "metadata": {
        "id": "M4y91wngksxV"
      }
    },
    {
      "cell_type": "code",
      "source": [
        "sns.scatterplot(x=df_train[target], y = lr_predict_train)"
      ],
      "metadata": {
        "colab": {
          "base_uri": "https://localhost:8080/",
          "height": 514
        },
        "outputId": "d872a619-d4b8-4b55-e71a-decdb6b6b56c",
        "id": "kj-ryOqQksxW"
      },
      "execution_count": 101,
      "outputs": [
        {
          "output_type": "execute_result",
          "data": {
            "text/plain": [
              "<matplotlib.axes._subplots.AxesSubplot at 0x7f5ffc46ff10>"
            ]
          },
          "metadata": {},
          "execution_count": 101
        },
        {
          "output_type": "display_data",
          "data": {
            "text/plain": [
              "<Figure size 1080x576 with 1 Axes>"
            ],
            "image/png": "[encoded data removed]"
          },
          "metadata": {
            "needs_background": "light"
          }
        }
      ]
    },
    {
      "cell_type": "markdown",
      "source": [
        "**Apply trained model to test data**"
      ],
      "metadata": {
        "id": "zv91QW3sksxW"
      }
    },
    {
      "cell_type": "code",
      "source": [
        "df_test_poly = PF.transform(df_test[numerical_features])\n",
        "df_test_scaled = std_scaler.transform(df_test_poly)"
      ],
      "metadata": {
        "id": "btgAm_JEksxW"
      },
      "execution_count": 102,
      "outputs": []
    },
    {
      "cell_type": "markdown",
      "source": [
        "**Create a version of df_test including constant bias**"
      ],
      "metadata": {
        "id": "Pl4YrSbWlS0z"
      }
    },
    {
      "cell_type": "code",
      "source": [
        "df_test_scaled_const = np.hstack((np.ones((df_test_scaled.shape[0],1)), df_test_scaled))"
      ],
      "metadata": {
        "id": "EVc0ltldlS03"
      },
      "execution_count": 103,
      "outputs": []
    },
    {
      "cell_type": "code",
      "source": [
        "lr_predict_test = lr.predict(df_test_scaled_const)"
      ],
      "metadata": {
        "id": "Zk9dYdYRksxW"
      },
      "execution_count": 104,
      "outputs": []
    },
    {
      "cell_type": "code",
      "source": [
        "mean_squared_error(y_true=df_test[target], y_pred=lr_predict_test)"
      ],
      "metadata": {
        "colab": {
          "base_uri": "https://localhost:8080/"
        },
        "outputId": "865bd330-9aee-4c97-b372-98a8455d3a8a",
        "id": "HHlaeb2SksxW"
      },
      "execution_count": 105,
      "outputs": [
        {
          "output_type": "execute_result",
          "data": {
            "text/plain": [
              "284.29100187370574"
            ]
          },
          "metadata": {},
          "execution_count": 105
        }
      ]
    },
    {
      "cell_type": "markdown",
      "source": [
        "**Plot actual vs. predicted on test set**"
      ],
      "metadata": {
        "id": "-cz3fEagksxW"
      }
    },
    {
      "cell_type": "code",
      "source": [
        "sns.scatterplot(x=df_test[target], y = lr_predict_test)"
      ],
      "metadata": {
        "colab": {
          "base_uri": "https://localhost:8080/",
          "height": 514
        },
        "outputId": "7cb9e999-bae5-4540-c7e7-8dfe915b36c4",
        "id": "mZkT8X_bksxX"
      },
      "execution_count": 106,
      "outputs": [
        {
          "output_type": "execute_result",
          "data": {
            "text/plain": [
              "<matplotlib.axes._subplots.AxesSubplot at 0x7f5ffa9c09d0>"
            ]
          },
          "metadata": {},
          "execution_count": 106
        },
        {
          "output_type": "display_data",
          "data": {
            "text/plain": [
              "<Figure size 1080x576 with 1 Axes>"
            ],
            "image/png": "[encoded data removed]"
          },
          "metadata": {
            "needs_background": "light"
          }
        }
      ]
    },
    {
      "cell_type": "markdown",
      "source": [
        "# LASSO\n",
        "\n",
        "A linear model that estimates sparse coefficients.\n",
        "[See this for a very good description.](https://scikit-learn.org/stable/modules/linear_model.html#lasso)"
      ],
      "metadata": {
        "id": "rT37Rck1BCXc"
      }
    },
    {
      "cell_type": "code",
      "source": [
        "from sklearn.linear_model import lasso_path"
      ],
      "metadata": {
        "id": "vM2WZqi_8cnm"
      },
      "execution_count": 107,
      "outputs": []
    },
    {
      "cell_type": "markdown",
      "source": [
        "**First - try lasso_path for low-level leveraging of the algorithm**"
      ],
      "metadata": {
        "id": "WtcCUjLSoEJQ"
      }
    },
    {
      "cell_type": "code",
      "source": [
        "# Setting hyperparameters tunes how much to penalize beta\n",
        "#    each alpha will provide a diff value per coeff\n",
        "alphas, coefs, _ = lasso_path(X = df_train_scaled_const, y = df_train[target], alphas = [0,.1,.5,1,5,10])"
      ],
      "metadata": {
        "colab": {
          "base_uri": "https://localhost:8080/"
        },
        "id": "vByjE6lRMJTE",
        "outputId": "b1c4064f-0024-42ca-a90f-9ef99c6699ba"
      },
      "execution_count": 108,
      "outputs": [
        {
          "output_type": "stream",
          "name": "stderr",
          "text": [
            "/usr/local/lib/python3.7/dist-packages/sklearn/linear_model/_coordinate_descent.py:644: UserWarning: Coordinate descent with alpha=0 may lead to unexpected results and is discouraged.\n",
            "  positive,\n",
            "/usr/local/lib/python3.7/dist-packages/sklearn/linear_model/_coordinate_descent.py:644: ConvergenceWarning: Objective did not converge. You might want to increase the number of iterations. Duality gap: 10253.117994846078, tolerance: 53.12572900000001\n",
            "  positive,\n"
          ]
        }
      ]
    },
    {
      "cell_type": "code",
      "source": [
        "alphas"
      ],
      "metadata": {
        "colab": {
          "base_uri": "https://localhost:8080/"
        },
        "id": "dX-K7QzXNWZP",
        "outputId": "ba2cf678-9003-4b34-db73-c8f001e3b14e"
      },
      "execution_count": 109,
      "outputs": [
        {
          "output_type": "execute_result",
          "data": {
            "text/plain": [
              "array([10. ,  5. ,  1. ,  0.5,  0.1,  0. ])"
            ]
          },
          "metadata": {},
          "execution_count": 109
        }
      ]
    },
    {
      "cell_type": "code",
      "source": [
        "# Note the diff value per alpha per coeff\n",
        "coefs.shape"
      ],
      "metadata": {
        "colab": {
          "base_uri": "https://localhost:8080/"
        },
        "id": "__tp7heaNQLx",
        "outputId": "2893266c-1184-49ff-d82a-03153eb15d13"
      },
      "execution_count": 110,
      "outputs": [
        {
          "output_type": "execute_result",
          "data": {
            "text/plain": [
              "(126, 6)"
            ]
          },
          "metadata": {},
          "execution_count": 110
        }
      ]
    },
    {
      "cell_type": "code",
      "source": [
        "# Handy way to visualize the coefs \n",
        "pd.DataFrame(coefs, columns=alphas)"
      ],
      "metadata": {
        "colab": {
          "base_uri": "https://localhost:8080/",
          "height": 424
        },
        "id": "7tsj3N5-NoPx",
        "outputId": "fb28e73f-ecd8-4560-da4f-703ff61ba5cc"
      },
      "execution_count": 111,
      "outputs": [
        {
          "output_type": "execute_result",
          "data": {
            "text/plain": [
              "          10.0       5.0        1.0        0.5        0.1        0.0 \n",
              "0    27.579758  32.579758  36.579758  37.079758  37.479758  37.579758\n",
              "1     0.000000   0.000000   0.000000   0.000000   0.000000   0.002090\n",
              "2    -0.000000  -0.000000  -1.665714  -2.136194  -2.420721  -2.426626\n",
              "3    -0.000000  -2.659525  -0.693520  -0.631360  -0.794947  -0.656774\n",
              "4     0.000000   0.000000   0.000000   0.000000   0.000000  -0.071451\n",
              "..         ...        ...        ...        ...        ...        ...\n",
              "121   0.000000   0.000000   0.000000   0.000000   0.000000   0.117743\n",
              "122   0.000000   0.000000   0.000000   0.000000   0.000000   0.027541\n",
              "123   0.000000   0.000000   0.000000   0.000000   0.000000   0.030478\n",
              "124   0.000000   0.000000   0.000000   0.000000   0.000000   0.036574\n",
              "125   0.000000   0.000000   0.000000   0.000000   0.000000   0.041339\n",
              "\n",
              "[126 rows x 6 columns]"
            ],
            "text/html": [
              "\n",
              "  <div id=\"df-29226f8e-fb66-4560-ae91-23f4d2e165ac\">\n",
              "    <div class=\"colab-df-container\">\n",
              "      <div>\n",
              "<style scoped>\n",
              "    .dataframe tbody tr th:only-of-type {\n",
              "        vertical-align: middle;\n",
              "    }\n",
              "\n",
              "    .dataframe tbody tr th {\n",
              "        vertical-align: top;\n",
              "    }\n",
              "\n",
              "    .dataframe thead th {\n",
              "        text-align: right;\n",
              "    }\n",
              "</style>\n",
              "<table border=\"1\" class=\"dataframe\">\n",
              "  <thead>\n",
              "    <tr style=\"text-align: right;\">\n",
              "      <th></th>\n",
              "      <th>10.0</th>\n",
              "      <th>5.0</th>\n",
              "      <th>1.0</th>\n",
              "      <th>0.5</th>\n",
              "      <th>0.1</th>\n",
              "      <th>0.0</th>\n",
              "    </tr>\n",
              "  </thead>\n",
              "  <tbody>\n",
              "    <tr>\n",
              "      <th>0</th>\n",
              "      <td>27.579758</td>\n",
              "      <td>32.579758</td>\n",
              "      <td>36.579758</td>\n",
              "      <td>37.079758</td>\n",
              "      <td>37.479758</td>\n",
              "      <td>37.579758</td>\n",
              "    </tr>\n",
              "    <tr>\n",
              "      <th>1</th>\n",
              "      <td>0.000000</td>\n",
              "      <td>0.000000</td>\n",
              "      <td>0.000000</td>\n",
              "      <td>0.000000</td>\n",
              "      <td>0.000000</td>\n",
              "      <td>0.002090</td>\n",
              "    </tr>\n",
              "    <tr>\n",
              "      <th>2</th>\n",
              "      <td>-0.000000</td>\n",
              "      <td>-0.000000</td>\n",
              "      <td>-1.665714</td>\n",
              "      <td>-2.136194</td>\n",
              "      <td>-2.420721</td>\n",
              "      <td>-2.426626</td>\n",
              "    </tr>\n",
              "    <tr>\n",
              "      <th>3</th>\n",
              "      <td>-0.000000</td>\n",
              "      <td>-2.659525</td>\n",
              "      <td>-0.693520</td>\n",
              "      <td>-0.631360</td>\n",
              "      <td>-0.794947</td>\n",
              "      <td>-0.656774</td>\n",
              "    </tr>\n",
              "    <tr>\n",
              "      <th>4</th>\n",
              "      <td>0.000000</td>\n",
              "      <td>0.000000</td>\n",
              "      <td>0.000000</td>\n",
              "      <td>0.000000</td>\n",
              "      <td>0.000000</td>\n",
              "      <td>-0.071451</td>\n",
              "    </tr>\n",
              "    <tr>\n",
              "      <th>...</th>\n",
              "      <td>...</td>\n",
              "      <td>...</td>\n",
              "      <td>...</td>\n",
              "      <td>...</td>\n",
              "      <td>...</td>\n",
              "      <td>...</td>\n",
              "    </tr>\n",
              "    <tr>\n",
              "      <th>121</th>\n",
              "      <td>0.000000</td>\n",
              "      <td>0.000000</td>\n",
              "      <td>0.000000</td>\n",
              "      <td>0.000000</td>\n",
              "      <td>0.000000</td>\n",
              "      <td>0.117743</td>\n",
              "    </tr>\n",
              "    <tr>\n",
              "      <th>122</th>\n",
              "      <td>0.000000</td>\n",
              "      <td>0.000000</td>\n",
              "      <td>0.000000</td>\n",
              "      <td>0.000000</td>\n",
              "      <td>0.000000</td>\n",
              "      <td>0.027541</td>\n",
              "    </tr>\n",
              "    <tr>\n",
              "      <th>123</th>\n",
              "      <td>0.000000</td>\n",
              "      <td>0.000000</td>\n",
              "      <td>0.000000</td>\n",
              "      <td>0.000000</td>\n",
              "      <td>0.000000</td>\n",
              "      <td>0.030478</td>\n",
              "    </tr>\n",
              "    <tr>\n",
              "      <th>124</th>\n",
              "      <td>0.000000</td>\n",
              "      <td>0.000000</td>\n",
              "      <td>0.000000</td>\n",
              "      <td>0.000000</td>\n",
              "      <td>0.000000</td>\n",
              "      <td>0.036574</td>\n",
              "    </tr>\n",
              "    <tr>\n",
              "      <th>125</th>\n",
              "      <td>0.000000</td>\n",
              "      <td>0.000000</td>\n",
              "      <td>0.000000</td>\n",
              "      <td>0.000000</td>\n",
              "      <td>0.000000</td>\n",
              "      <td>0.041339</td>\n",
              "    </tr>\n",
              "  </tbody>\n",
              "</table>\n",
              "<p>126 rows × 6 columns</p>\n",
              "</div>\n",
              "      <button class=\"colab-df-convert\" onclick=\"convertToInteractive('df-29226f8e-fb66-4560-ae91-23f4d2e165ac')\"\n",
              "              title=\"Convert this dataframe to an interactive table.\"\n",
              "              style=\"display:none;\">\n",
              "        \n",
              "  <svg xmlns=\"http://www.w3.org/2000/svg\" height=\"24px\"viewBox=\"0 0 24 24\"\n",
              "       width=\"24px\">\n",
              "    <path d=\"M0 0h24v24H0V0z\" fill=\"none\"/>\n",
              "    <path d=\"M18.56 5.44l.94 2.06.94-2.06 2.06-.94-2.06-.94-.94-2.06-.94 2.06-2.06.94zm-11 1L8.5 8.5l.94-2.06 2.06-.94-2.06-.94L8.5 2.5l-.94 2.06-2.06.94zm10 10l.94 2.06.94-2.06 2.06-.94-2.06-.94-.94-2.06-.94 2.06-2.06.94z\"/><path d=\"M17.41 7.96l-1.37-1.37c-.4-.4-.92-.59-1.43-.59-.52 0-1.04.2-1.43.59L10.3 9.45l-7.72 7.72c-.78.78-.78 2.05 0 2.83L4 21.41c.39.39.9.59 1.41.59.51 0 1.02-.2 1.41-.59l7.78-7.78 2.81-2.81c.8-.78.8-2.07 0-2.86zM5.41 20L4 18.59l7.72-7.72 1.47 1.35L5.41 20z\"/>\n",
              "  </svg>\n",
              "      </button>\n",
              "      \n",
              "  <style>\n",
              "    .colab-df-container {\n",
              "      display:flex;\n",
              "      flex-wrap:wrap;\n",
              "      gap: 12px;\n",
              "    }\n",
              "\n",
              "    .colab-df-convert {\n",
              "      background-color: #E8F0FE;\n",
              "      border: none;\n",
              "      border-radius: 50%;\n",
              "      cursor: pointer;\n",
              "      display: none;\n",
              "      fill: #1967D2;\n",
              "      height: 32px;\n",
              "      padding: 0 0 0 0;\n",
              "      width: 32px;\n",
              "    }\n",
              "\n",
              "    .colab-df-convert:hover {\n",
              "      background-color: #E2EBFA;\n",
              "      box-shadow: 0px 1px 2px rgba(60, 64, 67, 0.3), 0px 1px 3px 1px rgba(60, 64, 67, 0.15);\n",
              "      fill: #174EA6;\n",
              "    }\n",
              "\n",
              "    [theme=dark] .colab-df-convert {\n",
              "      background-color: #3B4455;\n",
              "      fill: #D2E3FC;\n",
              "    }\n",
              "\n",
              "    [theme=dark] .colab-df-convert:hover {\n",
              "      background-color: #434B5C;\n",
              "      box-shadow: 0px 1px 3px 1px rgba(0, 0, 0, 0.15);\n",
              "      filter: drop-shadow(0px 1px 2px rgba(0, 0, 0, 0.3));\n",
              "      fill: #FFFFFF;\n",
              "    }\n",
              "  </style>\n",
              "\n",
              "      <script>\n",
              "        const buttonEl =\n",
              "          document.querySelector('#df-29226f8e-fb66-4560-ae91-23f4d2e165ac button.colab-df-convert');\n",
              "        buttonEl.style.display =\n",
              "          google.colab.kernel.accessAllowed ? 'block' : 'none';\n",
              "\n",
              "        async function convertToInteractive(key) {\n",
              "          const element = document.querySelector('#df-29226f8e-fb66-4560-ae91-23f4d2e165ac');\n",
              "          const dataTable =\n",
              "            await google.colab.kernel.invokeFunction('convertToInteractive',\n",
              "                                                     [key], {});\n",
              "          if (!dataTable) return;\n",
              "\n",
              "          const docLinkHtml = 'Like what you see? Visit the ' +\n",
              "            '<a target=\"_blank\" href=https://colab.research.google.com/notebooks/data_table.ipynb>data table notebook</a>'\n",
              "            + ' to learn more about interactive tables.';\n",
              "          element.innerHTML = '';\n",
              "          dataTable['output_type'] = 'display_data';\n",
              "          await google.colab.output.renderOutput(dataTable, element);\n",
              "          const docLink = document.createElement('div');\n",
              "          docLink.innerHTML = docLinkHtml;\n",
              "          element.appendChild(docLink);\n",
              "        }\n",
              "      </script>\n",
              "    </div>\n",
              "  </div>\n",
              "  "
            ]
          },
          "metadata": {},
          "execution_count": 111
        }
      ]
    },
    {
      "cell_type": "markdown",
      "source": [
        "**Plot convergence to zero**"
      ],
      "metadata": {
        "id": "6lHPE56aPYWP"
      }
    },
    {
      "cell_type": "code",
      "source": [
        "from matplotlib import pyplot as plt\n",
        "import itertools\n",
        "# Globally making the plots larger \n",
        "plt.rcParams[\"figure.figsize\"] = (15,8)"
      ],
      "metadata": {
        "id": "KI-buWZbPJe7"
      },
      "execution_count": 112,
      "outputs": []
    },
    {
      "cell_type": "code",
      "source": [
        "plt.figure(1)\n",
        "colors = itertools.cycle(['b','r', 'g','c','k','orange'])\n",
        "log_alphas_lasso = np.log10(alphas)\n",
        "for coef_l,c in zip(coefs, colors):\n",
        "  l1 = plt.plot(log_alphas_lasso, coef_l, c=c)"
      ],
      "metadata": {
        "colab": {
          "base_uri": "https://localhost:8080/",
          "height": 518
        },
        "id": "uYrqnlkHOXfv",
        "outputId": "af9c5eac-9db5-43f0-9635-9557f86e68f7"
      },
      "execution_count": 113,
      "outputs": [
        {
          "output_type": "stream",
          "name": "stderr",
          "text": [
            "/usr/local/lib/python3.7/dist-packages/ipykernel_launcher.py:3: RuntimeWarning: divide by zero encountered in log10\n",
            "  This is separate from the ipykernel package so we can avoid doing imports until\n"
          ]
        },
        {
          "output_type": "display_data",
          "data": {
            "text/plain": [
              "<Figure size 1080x576 with 1 Axes>"
            ],
            "image/png": "[encoded data removed]"
          },
          "metadata": {
            "needs_background": "light"
          }
        }
      ]
    },
    {
      "cell_type": "markdown",
      "source": [
        "**Run again without the constants**\n",
        "\n",
        "These were the largest values and impacted how the data was distributed."
      ],
      "metadata": {
        "id": "XhWqXigCQOfB"
      }
    },
    {
      "cell_type": "code",
      "source": [
        "alphas, coefs, _ = lasso_path(X = df_train_scaled, y = df_train[target], alphas = [0,.1,.5,1,5,10])"
      ],
      "metadata": {
        "colab": {
          "base_uri": "https://localhost:8080/"
        },
        "id": "Y3IVUHQ7QWnT",
        "outputId": "b7a44785-2270-434b-da65-4dbc56ef5d2e"
      },
      "execution_count": 114,
      "outputs": [
        {
          "output_type": "stream",
          "name": "stderr",
          "text": [
            "/usr/local/lib/python3.7/dist-packages/sklearn/linear_model/_coordinate_descent.py:644: UserWarning: Coordinate descent with alpha=0 may lead to unexpected results and is discouraged.\n",
            "  positive,\n",
            "/usr/local/lib/python3.7/dist-packages/sklearn/linear_model/_coordinate_descent.py:644: ConvergenceWarning: Objective did not converge. You might want to increase the number of iterations. Duality gap: 243977.1541297263, tolerance: 53.12572900000001\n",
            "  positive,\n"
          ]
        }
      ]
    },
    {
      "cell_type": "code",
      "source": [
        "pd.DataFrame(coefs, columns=alphas)"
      ],
      "metadata": {
        "colab": {
          "base_uri": "https://localhost:8080/",
          "height": 424
        },
        "outputId": "79a38494-ee73-4b1f-b701-0097281186e1",
        "id": "MzJX7BOjRDvU"
      },
      "execution_count": 115,
      "outputs": [
        {
          "output_type": "execute_result",
          "data": {
            "text/plain": [
              "     10.0      5.0       1.0       0.5       0.1       0.0 \n",
              "0     0.0  0.000000  0.000000  0.000000  0.000000 -0.010311\n",
              "1    -0.0 -0.000000 -1.685049 -2.091756 -2.305049 -2.311146\n",
              "2    -0.0 -1.221361 -1.009838 -0.000000 -0.000000  0.140119\n",
              "3     0.0  0.000000  0.000000  0.000000  0.000000 -0.066769\n",
              "4     0.0  0.000000  0.000000  0.000000  0.000000  0.203304\n",
              "..    ...       ...       ...       ...       ...       ...\n",
              "120   0.0  0.000000  0.000000  0.000000  0.000000  0.116578\n",
              "121   0.0  0.000000  0.000000  0.000000  0.000000  0.027375\n",
              "122   0.0  0.000000  0.000000  0.000000  0.000000  0.030477\n",
              "123   0.0  0.000000  0.000000  0.000000  0.000000  0.037014\n",
              "124   0.0  0.000000  0.000000  0.000000  0.000000  0.042962\n",
              "\n",
              "[125 rows x 6 columns]"
            ],
            "text/html": [
              "\n",
              "  <div id=\"df-df31134a-45d7-41d3-8e69-ba4d00c7b540\">\n",
              "    <div class=\"colab-df-container\">\n",
              "      <div>\n",
              "<style scoped>\n",
              "    .dataframe tbody tr th:only-of-type {\n",
              "        vertical-align: middle;\n",
              "    }\n",
              "\n",
              "    .dataframe tbody tr th {\n",
              "        vertical-align: top;\n",
              "    }\n",
              "\n",
              "    .dataframe thead th {\n",
              "        text-align: right;\n",
              "    }\n",
              "</style>\n",
              "<table border=\"1\" class=\"dataframe\">\n",
              "  <thead>\n",
              "    <tr style=\"text-align: right;\">\n",
              "      <th></th>\n",
              "      <th>10.0</th>\n",
              "      <th>5.0</th>\n",
              "      <th>1.0</th>\n",
              "      <th>0.5</th>\n",
              "      <th>0.1</th>\n",
              "      <th>0.0</th>\n",
              "    </tr>\n",
              "  </thead>\n",
              "  <tbody>\n",
              "    <tr>\n",
              "      <th>0</th>\n",
              "      <td>0.0</td>\n",
              "      <td>0.000000</td>\n",
              "      <td>0.000000</td>\n",
              "      <td>0.000000</td>\n",
              "      <td>0.000000</td>\n",
              "      <td>-0.010311</td>\n",
              "    </tr>\n",
              "    <tr>\n",
              "      <th>1</th>\n",
              "      <td>-0.0</td>\n",
              "      <td>-0.000000</td>\n",
              "      <td>-1.685049</td>\n",
              "      <td>-2.091756</td>\n",
              "      <td>-2.305049</td>\n",
              "      <td>-2.311146</td>\n",
              "    </tr>\n",
              "    <tr>\n",
              "      <th>2</th>\n",
              "      <td>-0.0</td>\n",
              "      <td>-1.221361</td>\n",
              "      <td>-1.009838</td>\n",
              "      <td>-0.000000</td>\n",
              "      <td>-0.000000</td>\n",
              "      <td>0.140119</td>\n",
              "    </tr>\n",
              "    <tr>\n",
              "      <th>3</th>\n",
              "      <td>0.0</td>\n",
              "      <td>0.000000</td>\n",
              "      <td>0.000000</td>\n",
              "      <td>0.000000</td>\n",
              "      <td>0.000000</td>\n",
              "      <td>-0.066769</td>\n",
              "    </tr>\n",
              "    <tr>\n",
              "      <th>4</th>\n",
              "      <td>0.0</td>\n",
              "      <td>0.000000</td>\n",
              "      <td>0.000000</td>\n",
              "      <td>0.000000</td>\n",
              "      <td>0.000000</td>\n",
              "      <td>0.203304</td>\n",
              "    </tr>\n",
              "    <tr>\n",
              "      <th>...</th>\n",
              "      <td>...</td>\n",
              "      <td>...</td>\n",
              "      <td>...</td>\n",
              "      <td>...</td>\n",
              "      <td>...</td>\n",
              "      <td>...</td>\n",
              "    </tr>\n",
              "    <tr>\n",
              "      <th>120</th>\n",
              "      <td>0.0</td>\n",
              "      <td>0.000000</td>\n",
              "      <td>0.000000</td>\n",
              "      <td>0.000000</td>\n",
              "      <td>0.000000</td>\n",
              "      <td>0.116578</td>\n",
              "    </tr>\n",
              "    <tr>\n",
              "      <th>121</th>\n",
              "      <td>0.0</td>\n",
              "      <td>0.000000</td>\n",
              "      <td>0.000000</td>\n",
              "      <td>0.000000</td>\n",
              "      <td>0.000000</td>\n",
              "      <td>0.027375</td>\n",
              "    </tr>\n",
              "    <tr>\n",
              "      <th>122</th>\n",
              "      <td>0.0</td>\n",
              "      <td>0.000000</td>\n",
              "      <td>0.000000</td>\n",
              "      <td>0.000000</td>\n",
              "      <td>0.000000</td>\n",
              "      <td>0.030477</td>\n",
              "    </tr>\n",
              "    <tr>\n",
              "      <th>123</th>\n",
              "      <td>0.0</td>\n",
              "      <td>0.000000</td>\n",
              "      <td>0.000000</td>\n",
              "      <td>0.000000</td>\n",
              "      <td>0.000000</td>\n",
              "      <td>0.037014</td>\n",
              "    </tr>\n",
              "    <tr>\n",
              "      <th>124</th>\n",
              "      <td>0.0</td>\n",
              "      <td>0.000000</td>\n",
              "      <td>0.000000</td>\n",
              "      <td>0.000000</td>\n",
              "      <td>0.000000</td>\n",
              "      <td>0.042962</td>\n",
              "    </tr>\n",
              "  </tbody>\n",
              "</table>\n",
              "<p>125 rows × 6 columns</p>\n",
              "</div>\n",
              "      <button class=\"colab-df-convert\" onclick=\"convertToInteractive('df-df31134a-45d7-41d3-8e69-ba4d00c7b540')\"\n",
              "              title=\"Convert this dataframe to an interactive table.\"\n",
              "              style=\"display:none;\">\n",
              "        \n",
              "  <svg xmlns=\"http://www.w3.org/2000/svg\" height=\"24px\"viewBox=\"0 0 24 24\"\n",
              "       width=\"24px\">\n",
              "    <path d=\"M0 0h24v24H0V0z\" fill=\"none\"/>\n",
              "    <path d=\"M18.56 5.44l.94 2.06.94-2.06 2.06-.94-2.06-.94-.94-2.06-.94 2.06-2.06.94zm-11 1L8.5 8.5l.94-2.06 2.06-.94-2.06-.94L8.5 2.5l-.94 2.06-2.06.94zm10 10l.94 2.06.94-2.06 2.06-.94-2.06-.94-.94-2.06-.94 2.06-2.06.94z\"/><path d=\"M17.41 7.96l-1.37-1.37c-.4-.4-.92-.59-1.43-.59-.52 0-1.04.2-1.43.59L10.3 9.45l-7.72 7.72c-.78.78-.78 2.05 0 2.83L4 21.41c.39.39.9.59 1.41.59.51 0 1.02-.2 1.41-.59l7.78-7.78 2.81-2.81c.8-.78.8-2.07 0-2.86zM5.41 20L4 18.59l7.72-7.72 1.47 1.35L5.41 20z\"/>\n",
              "  </svg>\n",
              "      </button>\n",
              "      \n",
              "  <style>\n",
              "    .colab-df-container {\n",
              "      display:flex;\n",
              "      flex-wrap:wrap;\n",
              "      gap: 12px;\n",
              "    }\n",
              "\n",
              "    .colab-df-convert {\n",
              "      background-color: #E8F0FE;\n",
              "      border: none;\n",
              "      border-radius: 50%;\n",
              "      cursor: pointer;\n",
              "      display: none;\n",
              "      fill: #1967D2;\n",
              "      height: 32px;\n",
              "      padding: 0 0 0 0;\n",
              "      width: 32px;\n",
              "    }\n",
              "\n",
              "    .colab-df-convert:hover {\n",
              "      background-color: #E2EBFA;\n",
              "      box-shadow: 0px 1px 2px rgba(60, 64, 67, 0.3), 0px 1px 3px 1px rgba(60, 64, 67, 0.15);\n",
              "      fill: #174EA6;\n",
              "    }\n",
              "\n",
              "    [theme=dark] .colab-df-convert {\n",
              "      background-color: #3B4455;\n",
              "      fill: #D2E3FC;\n",
              "    }\n",
              "\n",
              "    [theme=dark] .colab-df-convert:hover {\n",
              "      background-color: #434B5C;\n",
              "      box-shadow: 0px 1px 3px 1px rgba(0, 0, 0, 0.15);\n",
              "      filter: drop-shadow(0px 1px 2px rgba(0, 0, 0, 0.3));\n",
              "      fill: #FFFFFF;\n",
              "    }\n",
              "  </style>\n",
              "\n",
              "      <script>\n",
              "        const buttonEl =\n",
              "          document.querySelector('#df-df31134a-45d7-41d3-8e69-ba4d00c7b540 button.colab-df-convert');\n",
              "        buttonEl.style.display =\n",
              "          google.colab.kernel.accessAllowed ? 'block' : 'none';\n",
              "\n",
              "        async function convertToInteractive(key) {\n",
              "          const element = document.querySelector('#df-df31134a-45d7-41d3-8e69-ba4d00c7b540');\n",
              "          const dataTable =\n",
              "            await google.colab.kernel.invokeFunction('convertToInteractive',\n",
              "                                                     [key], {});\n",
              "          if (!dataTable) return;\n",
              "\n",
              "          const docLinkHtml = 'Like what you see? Visit the ' +\n",
              "            '<a target=\"_blank\" href=https://colab.research.google.com/notebooks/data_table.ipynb>data table notebook</a>'\n",
              "            + ' to learn more about interactive tables.';\n",
              "          element.innerHTML = '';\n",
              "          dataTable['output_type'] = 'display_data';\n",
              "          await google.colab.output.renderOutput(dataTable, element);\n",
              "          const docLink = document.createElement('div');\n",
              "          docLink.innerHTML = docLinkHtml;\n",
              "          element.appendChild(docLink);\n",
              "        }\n",
              "      </script>\n",
              "    </div>\n",
              "  </div>\n",
              "  "
            ]
          },
          "metadata": {},
          "execution_count": 115
        }
      ]
    },
    {
      "cell_type": "code",
      "source": [
        "abs(pd.DataFrame(coefs, columns=alphas).mean(axis=1))"
      ],
      "metadata": {
        "colab": {
          "base_uri": "https://localhost:8080/"
        },
        "id": "Sy22zw0xRrNs",
        "outputId": "5c910af3-d49b-49d3-c88b-eedc574f9436"
      },
      "execution_count": 116,
      "outputs": [
        {
          "output_type": "execute_result",
          "data": {
            "text/plain": [
              "0      0.001718\n",
              "1      1.398833\n",
              "2      0.348513\n",
              "3      0.011128\n",
              "4      0.033884\n",
              "         ...   \n",
              "120    0.019430\n",
              "121    0.004563\n",
              "122    0.005080\n",
              "123    0.006169\n",
              "124    0.007160\n",
              "Length: 125, dtype: float64"
            ]
          },
          "metadata": {},
          "execution_count": 116
        }
      ]
    },
    {
      "cell_type": "markdown",
      "source": [
        "**Note:** The features with the most correlation to Y will remain above 0 longer.  Those crashing to zero quickly did not have much correlation.\n",
        "\n",
        "*Keep your features with the strongest correlations.*"
      ],
      "metadata": {
        "id": "2PpqySeFmb5X"
      }
    },
    {
      "cell_type": "code",
      "source": [
        "plt.figure(1)\n",
        "colors = itertools.cycle(['b','r', 'g','c','k','orange'])\n",
        "log_alphas_lasso = np.log10(alphas)\n",
        "for coef_l,c in zip(coefs, colors):\n",
        "  l1 = plt.plot(log_alphas_lasso, coef_l, c=c)"
      ],
      "metadata": {
        "colab": {
          "base_uri": "https://localhost:8080/",
          "height": 518
        },
        "outputId": "904d04c3-42eb-477d-cb18-bf9e450b5486",
        "id": "hhhXjXRFRDvi"
      },
      "execution_count": 117,
      "outputs": [
        {
          "output_type": "stream",
          "name": "stderr",
          "text": [
            "/usr/local/lib/python3.7/dist-packages/ipykernel_launcher.py:3: RuntimeWarning: divide by zero encountered in log10\n",
            "  This is separate from the ipykernel package so we can avoid doing imports until\n"
          ]
        },
        {
          "output_type": "display_data",
          "data": {
            "text/plain": [
              "<Figure size 1080x576 with 1 Axes>"
            ],
            "image/png": "[encoded data removed]"
          },
          "metadata": {
            "needs_background": "light"
          }
        }
      ]
    },
    {
      "cell_type": "markdown",
      "source": [
        "## Lasso Regressor\n",
        "\n",
        "Linear Model trained with L1 prior as regularizer (aka the Lasso)."
      ],
      "metadata": {
        "id": "ZdlSzGyDR-PB"
      }
    },
    {
      "cell_type": "code",
      "source": [
        "from sklearn.linear_model import Lasso, Ridge\n",
        "from sklearn.model_selection import RandomizedSearchCV, KFold"
      ],
      "metadata": {
        "id": "Cpp8z3s0R_vS"
      },
      "execution_count": 118,
      "outputs": []
    },
    {
      "cell_type": "code",
      "source": [
        "lasso = Lasso()\n",
        "alphas_grid = {'alpha':[.1,.5,1,10,.001]}\n",
        "kfold_5 = KFold(5)"
      ],
      "metadata": {
        "id": "5Tu19QDISMvP"
      },
      "execution_count": 119,
      "outputs": []
    },
    {
      "cell_type": "code",
      "source": [
        "# Execute Cross-validator: Randomized search on hyper parameters.\n",
        "#   this supports fit, score, transform, and predict\n",
        "RandomizedSearchCV(estimator=lasso, param_distributions=alphas_grid, scoring=mean_squared_error, cv = kfold_5)"
      ],
      "metadata": {
        "colab": {
          "base_uri": "https://localhost:8080/"
        },
        "id": "fvInIjptSf-e",
        "outputId": "7002c24c-59fa-44ea-b9e2-bc6e7d0e2e7e"
      },
      "execution_count": 120,
      "outputs": [
        {
          "output_type": "execute_result",
          "data": {
            "text/plain": [
              "RandomizedSearchCV(cv=KFold(n_splits=5, random_state=None, shuffle=False),\n",
              "                   estimator=Lasso(),\n",
              "                   param_distributions={'alpha': [0.1, 0.5, 1, 10, 0.001]},\n",
              "                   scoring=<function mean_squared_error at 0x7f6003431ef0>)"
            ]
          },
          "metadata": {},
          "execution_count": 120
        }
      ]
    },
    {
      "cell_type": "markdown",
      "source": [
        "**Ridge is very similar to Lasso**\n",
        "\n",
        "The difference is the shape of the reduction/descent region - uses a circle"
      ],
      "metadata": {
        "id": "vC0S_G8lSmpf"
      }
    },
    {
      "cell_type": "code",
      "source": [
        "ridge = Ridge()"
      ],
      "metadata": {
        "id": "vaBRjmwVTO_y"
      },
      "execution_count": 121,
      "outputs": []
    },
    {
      "cell_type": "code",
      "source": [
        "RandomizedSearchCV(estimator=ridge, param_distributions=alphas_grid, scoring=mean_squared_error, cv = kfold_5)"
      ],
      "metadata": {
        "colab": {
          "base_uri": "https://localhost:8080/"
        },
        "outputId": "3a9cd8f9-6200-483d-812d-f800d6b57828",
        "id": "H9CR9eNxTTU0"
      },
      "execution_count": 122,
      "outputs": [
        {
          "output_type": "execute_result",
          "data": {
            "text/plain": [
              "RandomizedSearchCV(cv=KFold(n_splits=5, random_state=None, shuffle=False),\n",
              "                   estimator=Ridge(),\n",
              "                   param_distributions={'alpha': [0.1, 0.5, 1, 10, 0.001]},\n",
              "                   scoring=<function mean_squared_error at 0x7f6003431ef0>)"
            ]
          },
          "metadata": {},
          "execution_count": 122
        }
      ]
    }
  ]
}