{
  "nbformat": 4,
  "nbformat_minor": 0,
  "metadata": {
    "colab": {
      "name": "week5-linearRegression-withGradientDesc-kentb.ipynb",
      "provenance": [],
      "collapsed_sections": []
    },
    "kernelspec": {
      "name": "python3",
      "display_name": "Python 3"
    },
    "language_info": {
      "name": "python"
    }
  },
  "cells": [
    {
      "cell_type": "markdown",
      "source": [
        "## SKLearn Linear Regression vs. Gradient Descent\n",
        "\n",
        "Predicting house prices.\n",
        "\n",
        "Compare output of sklearn LinearRegression with manual computation of **Gradient Descent**.\n",
        "\n",
        "Including:\n",
        "* Train Test Split\n",
        "* Scaling\n",
        "* Feature Generation\n",
        "* Mean Squared Error\n",
        "* Mean Absolute Error\n",
        "* Prediction\n",
        "\n",
        "No hyperparameters"
      ],
      "metadata": {
        "id": "1K0Qzq2DMcWE"
      }
    },
    {
      "cell_type": "code",
      "source": [
        "import pandas as pd\n",
        "import numpy as np\n",
        "from sklearn.preprocessing import MinMaxScaler, OneHotEncoder, PolynomialFeatures\n",
        "from sklearn.linear_model import LinearRegression, HuberRegressor\n",
        "from sklearn.model_selection import train_test_split, KFold"
      ],
      "metadata": {
        "id": "GQtO1ik_L7Xt"
      },
      "execution_count": 2,
      "outputs": []
    },
    {
      "cell_type": "markdown",
      "source": [
        "# Data Setup"
      ],
      "metadata": {
        "id": "xhI2_L-YcHFH"
      }
    },
    {
      "cell_type": "markdown",
      "source": [
        "**Load and condition data**"
      ],
      "metadata": {
        "id": "2M6fWIaMcqwg"
      }
    },
    {
      "cell_type": "code",
      "execution_count": 3,
      "metadata": {
        "id": "KfIVXPV1L4nj"
      },
      "outputs": [],
      "source": [
        "df = pd.read_excel(\"https://archive.ics.uci.edu/ml/machine-learning-databases/00477/Real%20estate%20valuation%20data%20set.xlsx\",)"
      ]
    },
    {
      "cell_type": "code",
      "source": [
        "df.head()"
      ],
      "metadata": {
        "colab": {
          "base_uri": "https://localhost:8080/",
          "height": 206
        },
        "id": "PWeVAEEPMb32",
        "outputId": "3f8b670e-870e-4c85-bd91-2c3455580907"
      },
      "execution_count": 4,
      "outputs": [
        {
          "output_type": "execute_result",
          "data": {
            "text/html": [
              "\n",
              "  <div id=\"df-fb788474-c211-4b65-990a-e376e85881da\">\n",
              "    <div class=\"colab-df-container\">\n",
              "      <div>\n",
              "<style scoped>\n",
              "    .dataframe tbody tr th:only-of-type {\n",
              "        vertical-align: middle;\n",
              "    }\n",
              "\n",
              "    .dataframe tbody tr th {\n",
              "        vertical-align: top;\n",
              "    }\n",
              "\n",
              "    .dataframe thead th {\n",
              "        text-align: right;\n",
              "    }\n",
              "</style>\n",
              "<table border=\"1\" class=\"dataframe\">\n",
              "  <thead>\n",
              "    <tr style=\"text-align: right;\">\n",
              "      <th></th>\n",
              "      <th>No</th>\n",
              "      <th>X1 transaction date</th>\n",
              "      <th>X2 house age</th>\n",
              "      <th>X3 distance to the nearest MRT station</th>\n",
              "      <th>X4 number of convenience stores</th>\n",
              "      <th>X5 latitude</th>\n",
              "      <th>X6 longitude</th>\n",
              "      <th>Y house price of unit area</th>\n",
              "    </tr>\n",
              "  </thead>\n",
              "  <tbody>\n",
              "    <tr>\n",
              "      <th>0</th>\n",
              "      <td>1</td>\n",
              "      <td>2012.916667</td>\n",
              "      <td>32.0</td>\n",
              "      <td>84.87882</td>\n",
              "      <td>10</td>\n",
              "      <td>24.98298</td>\n",
              "      <td>121.54024</td>\n",
              "      <td>37.9</td>\n",
              "    </tr>\n",
              "    <tr>\n",
              "      <th>1</th>\n",
              "      <td>2</td>\n",
              "      <td>2012.916667</td>\n",
              "      <td>19.5</td>\n",
              "      <td>306.59470</td>\n",
              "      <td>9</td>\n",
              "      <td>24.98034</td>\n",
              "      <td>121.53951</td>\n",
              "      <td>42.2</td>\n",
              "    </tr>\n",
              "    <tr>\n",
              "      <th>2</th>\n",
              "      <td>3</td>\n",
              "      <td>2013.583333</td>\n",
              "      <td>13.3</td>\n",
              "      <td>561.98450</td>\n",
              "      <td>5</td>\n",
              "      <td>24.98746</td>\n",
              "      <td>121.54391</td>\n",
              "      <td>47.3</td>\n",
              "    </tr>\n",
              "    <tr>\n",
              "      <th>3</th>\n",
              "      <td>4</td>\n",
              "      <td>2013.500000</td>\n",
              "      <td>13.3</td>\n",
              "      <td>561.98450</td>\n",
              "      <td>5</td>\n",
              "      <td>24.98746</td>\n",
              "      <td>121.54391</td>\n",
              "      <td>54.8</td>\n",
              "    </tr>\n",
              "    <tr>\n",
              "      <th>4</th>\n",
              "      <td>5</td>\n",
              "      <td>2012.833333</td>\n",
              "      <td>5.0</td>\n",
              "      <td>390.56840</td>\n",
              "      <td>5</td>\n",
              "      <td>24.97937</td>\n",
              "      <td>121.54245</td>\n",
              "      <td>43.1</td>\n",
              "    </tr>\n",
              "  </tbody>\n",
              "</table>\n",
              "</div>\n",
              "      <button class=\"colab-df-convert\" onclick=\"convertToInteractive('df-fb788474-c211-4b65-990a-e376e85881da')\"\n",
              "              title=\"Convert this dataframe to an interactive table.\"\n",
              "              style=\"display:none;\">\n",
              "        \n",
              "  <svg xmlns=\"http://www.w3.org/2000/svg\" height=\"24px\"viewBox=\"0 0 24 24\"\n",
              "       width=\"24px\">\n",
              "    <path d=\"M0 0h24v24H0V0z\" fill=\"none\"/>\n",
              "    <path d=\"M18.56 5.44l.94 2.06.94-2.06 2.06-.94-2.06-.94-.94-2.06-.94 2.06-2.06.94zm-11 1L8.5 8.5l.94-2.06 2.06-.94-2.06-.94L8.5 2.5l-.94 2.06-2.06.94zm10 10l.94 2.06.94-2.06 2.06-.94-2.06-.94-.94-2.06-.94 2.06-2.06.94z\"/><path d=\"M17.41 7.96l-1.37-1.37c-.4-.4-.92-.59-1.43-.59-.52 0-1.04.2-1.43.59L10.3 9.45l-7.72 7.72c-.78.78-.78 2.05 0 2.83L4 21.41c.39.39.9.59 1.41.59.51 0 1.02-.2 1.41-.59l7.78-7.78 2.81-2.81c.8-.78.8-2.07 0-2.86zM5.41 20L4 18.59l7.72-7.72 1.47 1.35L5.41 20z\"/>\n",
              "  </svg>\n",
              "      </button>\n",
              "      \n",
              "  <style>\n",
              "    .colab-df-container {\n",
              "      display:flex;\n",
              "      flex-wrap:wrap;\n",
              "      gap: 12px;\n",
              "    }\n",
              "\n",
              "    .colab-df-convert {\n",
              "      background-color: #E8F0FE;\n",
              "      border: none;\n",
              "      border-radius: 50%;\n",
              "      cursor: pointer;\n",
              "      display: none;\n",
              "      fill: #1967D2;\n",
              "      height: 32px;\n",
              "      padding: 0 0 0 0;\n",
              "      width: 32px;\n",
              "    }\n",
              "\n",
              "    .colab-df-convert:hover {\n",
              "      background-color: #E2EBFA;\n",
              "      box-shadow: 0px 1px 2px rgba(60, 64, 67, 0.3), 0px 1px 3px 1px rgba(60, 64, 67, 0.15);\n",
              "      fill: #174EA6;\n",
              "    }\n",
              "\n",
              "    [theme=dark] .colab-df-convert {\n",
              "      background-color: #3B4455;\n",
              "      fill: #D2E3FC;\n",
              "    }\n",
              "\n",
              "    [theme=dark] .colab-df-convert:hover {\n",
              "      background-color: #434B5C;\n",
              "      box-shadow: 0px 1px 3px 1px rgba(0, 0, 0, 0.15);\n",
              "      filter: drop-shadow(0px 1px 2px rgba(0, 0, 0, 0.3));\n",
              "      fill: #FFFFFF;\n",
              "    }\n",
              "  </style>\n",
              "\n",
              "      <script>\n",
              "        const buttonEl =\n",
              "          document.querySelector('#df-fb788474-c211-4b65-990a-e376e85881da button.colab-df-convert');\n",
              "        buttonEl.style.display =\n",
              "          google.colab.kernel.accessAllowed ? 'block' : 'none';\n",
              "\n",
              "        async function convertToInteractive(key) {\n",
              "          const element = document.querySelector('#df-fb788474-c211-4b65-990a-e376e85881da');\n",
              "          const dataTable =\n",
              "            await google.colab.kernel.invokeFunction('convertToInteractive',\n",
              "                                                     [key], {});\n",
              "          if (!dataTable) return;\n",
              "\n",
              "          const docLinkHtml = 'Like what you see? Visit the ' +\n",
              "            '<a target=\"_blank\" href=https://colab.research.google.com/notebooks/data_table.ipynb>data table notebook</a>'\n",
              "            + ' to learn more about interactive tables.';\n",
              "          element.innerHTML = '';\n",
              "          dataTable['output_type'] = 'display_data';\n",
              "          await google.colab.output.renderOutput(dataTable, element);\n",
              "          const docLink = document.createElement('div');\n",
              "          docLink.innerHTML = docLinkHtml;\n",
              "          element.appendChild(docLink);\n",
              "        }\n",
              "      </script>\n",
              "    </div>\n",
              "  </div>\n",
              "  "
            ],
            "text/plain": [
              "   No  X1 transaction date  X2 house age  \\\n",
              "0   1          2012.916667          32.0   \n",
              "1   2          2012.916667          19.5   \n",
              "2   3          2013.583333          13.3   \n",
              "3   4          2013.500000          13.3   \n",
              "4   5          2012.833333           5.0   \n",
              "\n",
              "   X3 distance to the nearest MRT station  X4 number of convenience stores  \\\n",
              "0                                84.87882                               10   \n",
              "1                               306.59470                                9   \n",
              "2                               561.98450                                5   \n",
              "3                               561.98450                                5   \n",
              "4                               390.56840                                5   \n",
              "\n",
              "   X5 latitude  X6 longitude  Y house price of unit area  \n",
              "0     24.98298     121.54024                        37.9  \n",
              "1     24.98034     121.53951                        42.2  \n",
              "2     24.98746     121.54391                        47.3  \n",
              "3     24.98746     121.54391                        54.8  \n",
              "4     24.97937     121.54245                        43.1  "
            ]
          },
          "metadata": {},
          "execution_count": 4
        }
      ]
    },
    {
      "cell_type": "code",
      "source": [
        "df.columns"
      ],
      "metadata": {
        "colab": {
          "base_uri": "https://localhost:8080/"
        },
        "id": "QYw1fddzM6Tf",
        "outputId": "05c260be-73cc-436c-b2e6-49f184afe525"
      },
      "execution_count": 5,
      "outputs": [
        {
          "output_type": "execute_result",
          "data": {
            "text/plain": [
              "Index(['No', 'X1 transaction date', 'X2 house age',\n",
              "       'X3 distance to the nearest MRT station',\n",
              "       'X4 number of convenience stores', 'X5 latitude', 'X6 longitude',\n",
              "       'Y house price of unit area'],\n",
              "      dtype='object')"
            ]
          },
          "metadata": {},
          "execution_count": 5
        }
      ]
    },
    {
      "cell_type": "code",
      "source": [
        "# Rename columns for convenience\n",
        "df.columns = ['No', 'date','age','dist','stores','lat','long','price']"
      ],
      "metadata": {
        "id": "aqWW29qnM8UM"
      },
      "execution_count": 6,
      "outputs": []
    },
    {
      "cell_type": "markdown",
      "source": [
        "**Train/Test Split**"
      ],
      "metadata": {
        "id": "h5tRfPxZcke-"
      }
    },
    {
      "cell_type": "code",
      "source": [
        "# Perform test/train split at 80/20 because we do not have much training data\n",
        "df_train,df_test = train_test_split(df, test_size=0.2)"
      ],
      "metadata": {
        "id": "YnSa3hK9NLh7"
      },
      "execution_count": 7,
      "outputs": []
    },
    {
      "cell_type": "code",
      "source": [
        "df_train"
      ],
      "metadata": {
        "colab": {
          "base_uri": "https://localhost:8080/",
          "height": 424
        },
        "id": "kf1LPkIaNVyT",
        "outputId": "45e7c119-fe9b-44a9-8ff0-77f7b1f0a02b"
      },
      "execution_count": 8,
      "outputs": [
        {
          "output_type": "execute_result",
          "data": {
            "text/html": [
              "\n",
              "  <div id=\"df-20fa8603-4709-431c-9d55-c5509d72988f\">\n",
              "    <div class=\"colab-df-container\">\n",
              "      <div>\n",
              "<style scoped>\n",
              "    .dataframe tbody tr th:only-of-type {\n",
              "        vertical-align: middle;\n",
              "    }\n",
              "\n",
              "    .dataframe tbody tr th {\n",
              "        vertical-align: top;\n",
              "    }\n",
              "\n",
              "    .dataframe thead th {\n",
              "        text-align: right;\n",
              "    }\n",
              "</style>\n",
              "<table border=\"1\" class=\"dataframe\">\n",
              "  <thead>\n",
              "    <tr style=\"text-align: right;\">\n",
              "      <th></th>\n",
              "      <th>No</th>\n",
              "      <th>date</th>\n",
              "      <th>age</th>\n",
              "      <th>dist</th>\n",
              "      <th>stores</th>\n",
              "      <th>lat</th>\n",
              "      <th>long</th>\n",
              "      <th>price</th>\n",
              "    </tr>\n",
              "  </thead>\n",
              "  <tbody>\n",
              "    <tr>\n",
              "      <th>342</th>\n",
              "      <td>343</td>\n",
              "      <td>2012.666667</td>\n",
              "      <td>5.7</td>\n",
              "      <td>90.45606</td>\n",
              "      <td>9</td>\n",
              "      <td>24.97433</td>\n",
              "      <td>121.54310</td>\n",
              "      <td>53.5</td>\n",
              "    </tr>\n",
              "    <tr>\n",
              "      <th>330</th>\n",
              "      <td>331</td>\n",
              "      <td>2013.083333</td>\n",
              "      <td>32.0</td>\n",
              "      <td>1156.77700</td>\n",
              "      <td>0</td>\n",
              "      <td>24.94935</td>\n",
              "      <td>121.53046</td>\n",
              "      <td>12.8</td>\n",
              "    </tr>\n",
              "    <tr>\n",
              "      <th>86</th>\n",
              "      <td>87</td>\n",
              "      <td>2012.833333</td>\n",
              "      <td>1.8</td>\n",
              "      <td>1455.79800</td>\n",
              "      <td>1</td>\n",
              "      <td>24.95120</td>\n",
              "      <td>121.54900</td>\n",
              "      <td>27.0</td>\n",
              "    </tr>\n",
              "    <tr>\n",
              "      <th>377</th>\n",
              "      <td>378</td>\n",
              "      <td>2013.333333</td>\n",
              "      <td>3.9</td>\n",
              "      <td>49.66105</td>\n",
              "      <td>8</td>\n",
              "      <td>24.95836</td>\n",
              "      <td>121.53756</td>\n",
              "      <td>56.8</td>\n",
              "    </tr>\n",
              "    <tr>\n",
              "      <th>16</th>\n",
              "      <td>17</td>\n",
              "      <td>2013.250000</td>\n",
              "      <td>0.0</td>\n",
              "      <td>292.99780</td>\n",
              "      <td>6</td>\n",
              "      <td>24.97744</td>\n",
              "      <td>121.54458</td>\n",
              "      <td>70.1</td>\n",
              "    </tr>\n",
              "    <tr>\n",
              "      <th>...</th>\n",
              "      <td>...</td>\n",
              "      <td>...</td>\n",
              "      <td>...</td>\n",
              "      <td>...</td>\n",
              "      <td>...</td>\n",
              "      <td>...</td>\n",
              "      <td>...</td>\n",
              "      <td>...</td>\n",
              "    </tr>\n",
              "    <tr>\n",
              "      <th>336</th>\n",
              "      <td>337</td>\n",
              "      <td>2012.833333</td>\n",
              "      <td>5.1</td>\n",
              "      <td>1867.23300</td>\n",
              "      <td>2</td>\n",
              "      <td>24.98407</td>\n",
              "      <td>121.51748</td>\n",
              "      <td>35.6</td>\n",
              "    </tr>\n",
              "    <tr>\n",
              "      <th>229</th>\n",
              "      <td>230</td>\n",
              "      <td>2013.583333</td>\n",
              "      <td>31.0</td>\n",
              "      <td>1156.41200</td>\n",
              "      <td>0</td>\n",
              "      <td>24.94890</td>\n",
              "      <td>121.53095</td>\n",
              "      <td>19.0</td>\n",
              "    </tr>\n",
              "    <tr>\n",
              "      <th>58</th>\n",
              "      <td>59</td>\n",
              "      <td>2013.500000</td>\n",
              "      <td>30.3</td>\n",
              "      <td>4510.35900</td>\n",
              "      <td>1</td>\n",
              "      <td>24.94925</td>\n",
              "      <td>121.49542</td>\n",
              "      <td>22.6</td>\n",
              "    </tr>\n",
              "    <tr>\n",
              "      <th>206</th>\n",
              "      <td>207</td>\n",
              "      <td>2013.250000</td>\n",
              "      <td>22.2</td>\n",
              "      <td>379.55750</td>\n",
              "      <td>10</td>\n",
              "      <td>24.98343</td>\n",
              "      <td>121.53762</td>\n",
              "      <td>44.0</td>\n",
              "    </tr>\n",
              "    <tr>\n",
              "      <th>100</th>\n",
              "      <td>101</td>\n",
              "      <td>2013.500000</td>\n",
              "      <td>17.5</td>\n",
              "      <td>964.74960</td>\n",
              "      <td>4</td>\n",
              "      <td>24.98872</td>\n",
              "      <td>121.53411</td>\n",
              "      <td>38.2</td>\n",
              "    </tr>\n",
              "  </tbody>\n",
              "</table>\n",
              "<p>331 rows × 8 columns</p>\n",
              "</div>\n",
              "      <button class=\"colab-df-convert\" onclick=\"convertToInteractive('df-20fa8603-4709-431c-9d55-c5509d72988f')\"\n",
              "              title=\"Convert this dataframe to an interactive table.\"\n",
              "              style=\"display:none;\">\n",
              "        \n",
              "  <svg xmlns=\"http://www.w3.org/2000/svg\" height=\"24px\"viewBox=\"0 0 24 24\"\n",
              "       width=\"24px\">\n",
              "    <path d=\"M0 0h24v24H0V0z\" fill=\"none\"/>\n",
              "    <path d=\"M18.56 5.44l.94 2.06.94-2.06 2.06-.94-2.06-.94-.94-2.06-.94 2.06-2.06.94zm-11 1L8.5 8.5l.94-2.06 2.06-.94-2.06-.94L8.5 2.5l-.94 2.06-2.06.94zm10 10l.94 2.06.94-2.06 2.06-.94-2.06-.94-.94-2.06-.94 2.06-2.06.94z\"/><path d=\"M17.41 7.96l-1.37-1.37c-.4-.4-.92-.59-1.43-.59-.52 0-1.04.2-1.43.59L10.3 9.45l-7.72 7.72c-.78.78-.78 2.05 0 2.83L4 21.41c.39.39.9.59 1.41.59.51 0 1.02-.2 1.41-.59l7.78-7.78 2.81-2.81c.8-.78.8-2.07 0-2.86zM5.41 20L4 18.59l7.72-7.72 1.47 1.35L5.41 20z\"/>\n",
              "  </svg>\n",
              "      </button>\n",
              "      \n",
              "  <style>\n",
              "    .colab-df-container {\n",
              "      display:flex;\n",
              "      flex-wrap:wrap;\n",
              "      gap: 12px;\n",
              "    }\n",
              "\n",
              "    .colab-df-convert {\n",
              "      background-color: #E8F0FE;\n",
              "      border: none;\n",
              "      border-radius: 50%;\n",
              "      cursor: pointer;\n",
              "      display: none;\n",
              "      fill: #1967D2;\n",
              "      height: 32px;\n",
              "      padding: 0 0 0 0;\n",
              "      width: 32px;\n",
              "    }\n",
              "\n",
              "    .colab-df-convert:hover {\n",
              "      background-color: #E2EBFA;\n",
              "      box-shadow: 0px 1px 2px rgba(60, 64, 67, 0.3), 0px 1px 3px 1px rgba(60, 64, 67, 0.15);\n",
              "      fill: #174EA6;\n",
              "    }\n",
              "\n",
              "    [theme=dark] .colab-df-convert {\n",
              "      background-color: #3B4455;\n",
              "      fill: #D2E3FC;\n",
              "    }\n",
              "\n",
              "    [theme=dark] .colab-df-convert:hover {\n",
              "      background-color: #434B5C;\n",
              "      box-shadow: 0px 1px 3px 1px rgba(0, 0, 0, 0.15);\n",
              "      filter: drop-shadow(0px 1px 2px rgba(0, 0, 0, 0.3));\n",
              "      fill: #FFFFFF;\n",
              "    }\n",
              "  </style>\n",
              "\n",
              "      <script>\n",
              "        const buttonEl =\n",
              "          document.querySelector('#df-20fa8603-4709-431c-9d55-c5509d72988f button.colab-df-convert');\n",
              "        buttonEl.style.display =\n",
              "          google.colab.kernel.accessAllowed ? 'block' : 'none';\n",
              "\n",
              "        async function convertToInteractive(key) {\n",
              "          const element = document.querySelector('#df-20fa8603-4709-431c-9d55-c5509d72988f');\n",
              "          const dataTable =\n",
              "            await google.colab.kernel.invokeFunction('convertToInteractive',\n",
              "                                                     [key], {});\n",
              "          if (!dataTable) return;\n",
              "\n",
              "          const docLinkHtml = 'Like what you see? Visit the ' +\n",
              "            '<a target=\"_blank\" href=https://colab.research.google.com/notebooks/data_table.ipynb>data table notebook</a>'\n",
              "            + ' to learn more about interactive tables.';\n",
              "          element.innerHTML = '';\n",
              "          dataTable['output_type'] = 'display_data';\n",
              "          await google.colab.output.renderOutput(dataTable, element);\n",
              "          const docLink = document.createElement('div');\n",
              "          docLink.innerHTML = docLinkHtml;\n",
              "          element.appendChild(docLink);\n",
              "        }\n",
              "      </script>\n",
              "    </div>\n",
              "  </div>\n",
              "  "
            ],
            "text/plain": [
              "      No         date   age        dist  stores       lat       long  price\n",
              "342  343  2012.666667   5.7    90.45606       9  24.97433  121.54310   53.5\n",
              "330  331  2013.083333  32.0  1156.77700       0  24.94935  121.53046   12.8\n",
              "86    87  2012.833333   1.8  1455.79800       1  24.95120  121.54900   27.0\n",
              "377  378  2013.333333   3.9    49.66105       8  24.95836  121.53756   56.8\n",
              "16    17  2013.250000   0.0   292.99780       6  24.97744  121.54458   70.1\n",
              "..   ...          ...   ...         ...     ...       ...        ...    ...\n",
              "336  337  2012.833333   5.1  1867.23300       2  24.98407  121.51748   35.6\n",
              "229  230  2013.583333  31.0  1156.41200       0  24.94890  121.53095   19.0\n",
              "58    59  2013.500000  30.3  4510.35900       1  24.94925  121.49542   22.6\n",
              "206  207  2013.250000  22.2   379.55750      10  24.98343  121.53762   44.0\n",
              "100  101  2013.500000  17.5   964.74960       4  24.98872  121.53411   38.2\n",
              "\n",
              "[331 rows x 8 columns]"
            ]
          },
          "metadata": {},
          "execution_count": 8
        }
      ]
    },
    {
      "cell_type": "markdown",
      "source": [
        "**Identify features and target**"
      ],
      "metadata": {
        "id": "idSftoafcwZ6"
      }
    },
    {
      "cell_type": "code",
      "source": [
        "features = ['date','age','dist','stores','lat','long']\n",
        "target = 'price'"
      ],
      "metadata": {
        "id": "YwT3Spk9Nhwb"
      },
      "execution_count": 9,
      "outputs": []
    },
    {
      "cell_type": "markdown",
      "source": [
        "## Apply scaling\n",
        "\n",
        "Do before feature generation, b/c scaling would set our bias to zero - inconvenient!"
      ],
      "metadata": {
        "id": "RJ40RX5NRZ-J"
      }
    },
    {
      "cell_type": "code",
      "source": [
        "scaler = MinMaxScaler()"
      ],
      "metadata": {
        "id": "IOM0i0PkRdQ5"
      },
      "execution_count": 10,
      "outputs": []
    },
    {
      "cell_type": "code",
      "source": [
        "# Fit the scaler to our training features \n",
        "#    this also transforms our training data - hence the name!\n",
        "Train_x = scaler.fit_transform(df_train[features])"
      ],
      "metadata": {
        "id": "kNs0_JCISC4J"
      },
      "execution_count": 11,
      "outputs": []
    },
    {
      "cell_type": "markdown",
      "source": [
        "**Note:** `scaler` has cached our scaling values - min/max x, for all x in the Training set"
      ],
      "metadata": {
        "id": "4JtZKQS7SKxP"
      }
    },
    {
      "cell_type": "code",
      "source": [
        "# Apply the scaling data to the test set - this transforms the test data\n",
        "Test_x = scaler.transform(df_test[features])"
      ],
      "metadata": {
        "id": "DS41KeePSfBa"
      },
      "execution_count": 60,
      "outputs": []
    },
    {
      "cell_type": "code",
      "source": [
        "# Note that min/max were calculated across all features\n",
        "print('Min: ',scaler.data_min_)\n",
        "print('Max: ',scaler.data_max_)"
      ],
      "metadata": {
        "colab": {
          "base_uri": "https://localhost:8080/"
        },
        "id": "KVObBKTVS6p5",
        "outputId": "817754bc-a0b1-44b8-d30e-dc9d1ff2332d"
      },
      "execution_count": 61,
      "outputs": [
        {
          "output_type": "stream",
          "name": "stdout",
          "text": [
            "Min:  [2012.6666667    0.          23.38284      0.          24.93207\n",
            "  121.47353  ]\n",
            "Max:  [2013.5833333   43.8       6488.021       10.          25.01459\n",
            "  121.56174  ]\n"
          ]
        }
      ]
    },
    {
      "cell_type": "code",
      "source": [
        "# You can see how the scaler transformed our test data\n",
        "Test_x.min(axis=0), Test_x.min(axis=1)"
      ],
      "metadata": {
        "colab": {
          "base_uri": "https://localhost:8080/"
        },
        "id": "YtguB_SjSobz",
        "outputId": "ff9d2c33-481a-4303-fd56-f4229367f0a1"
      },
      "execution_count": 62,
      "outputs": [
        {
          "output_type": "execute_result",
          "data": {
            "text/plain": [
              "(array([0.        , 0.        , 0.0103754 , 0.        , 0.01890451,\n",
              "        0.01847863]),\n",
              " array([0.        , 0.        , 0.02076255, 0.27221897, 0.04744311,\n",
              "        0.0103754 , 0.        , 0.02815071, 0.        , 0.05686115,\n",
              "        0.        , 0.05567174, 0.        , 0.15313435, 0.1       ,\n",
              "        0.12259751, 0.03956753, 0.02269981, 0.18181812, 0.06205473,\n",
              "        0.09090906, 0.        , 0.0710597 , 0.        , 0.05576175,\n",
              "        0.04380939, 0.        , 0.05381069, 0.05457197, 0.        ,\n",
              "        0.11052951, 0.09580051, 0.        , 0.04113795, 0.0913242 ,\n",
              "        0.        , 0.09090906, 0.04113795, 0.23744292, 0.05576175,\n",
              "        0.05576175, 0.08331505, 0.3       , 0.        , 0.        ,\n",
              "        0.1       , 0.        , 0.04113795, 0.        , 0.2       ,\n",
              "        0.        , 0.1       , 0.04794521, 0.2       , 0.        ,\n",
              "        0.        , 0.2       , 0.05758897, 0.02687714, 0.0103754 ,\n",
              "        0.        , 0.07833296, 0.        , 0.08447489, 0.03956753,\n",
              "        0.09549742, 0.        , 0.        , 0.06815222, 0.01552447,\n",
              "        0.        , 0.08331505, 0.06624641, 0.08351628, 0.09090906,\n",
              "        0.05679909, 0.06819255, 0.2       , 0.01847863, 0.        ,\n",
              "        0.08932867, 0.        , 0.02439328]))"
            ]
          },
          "metadata": {},
          "execution_count": 62
        }
      ]
    },
    {
      "cell_type": "markdown",
      "source": [
        "**Generate features like:**\n",
        "* $x_1^2, x_2^2, x_3^2...$\n",
        "* $x_1x_2, x_1x_3, x_1x_4...$\n",
        "\n",
        "Yes, this will turn into a lot of features!"
      ],
      "metadata": {
        "id": "AZRYzpg1NsPk"
      }
    },
    {
      "cell_type": "code",
      "source": [
        "# Generate features\n",
        "#   degree sets max degree poly to be used\n",
        "#   interaction_only would include just the x1x2 combinations\n",
        "#   bias is the constant offset, think intercept\n",
        "PF = PolynomialFeatures(degree=2, interaction_only=False, include_bias=True)"
      ],
      "metadata": {
        "id": "yzmRcG8CNpt8"
      },
      "execution_count": 14,
      "outputs": []
    },
    {
      "cell_type": "code",
      "source": [
        "# Fit the feature generator - will be a numpy array\n",
        "#   note: using scaled values as input\n",
        "Train_X_polied = PF.fit_transform(Train_x)"
      ],
      "metadata": {
        "id": "Z2TMg2d-O9hj"
      },
      "execution_count": 15,
      "outputs": []
    },
    {
      "cell_type": "code",
      "source": [
        "Test_X_polied = PF.fit_transform(Test_x)"
      ],
      "metadata": {
        "id": "uDDtmIkFSyqe"
      },
      "execution_count": 63,
      "outputs": []
    },
    {
      "cell_type": "markdown",
      "source": [
        "**We are ready for regression....**\n",
        "\n",
        "Let's try first by using our own regression, implemented via..."
      ],
      "metadata": {
        "id": "9RNMv2jugbMh"
      }
    },
    {
      "cell_type": "markdown",
      "source": [
        "##Gradient Descent\n",
        "\n",
        "A process of minimizing $\\alpha$ and $\\beta$, which are essentially the m and b in linear function \n",
        "\n",
        "$y = mx + b$ \n",
        "\n",
        "which approximates the shape of our data - roughly\n",
        "\n",
        "$y = \\beta(x) + α$ \n",
        "\n",
        "Note that the constant α is the bias of the function.\n"
      ],
      "metadata": {
        "id": "nEy4lyr6DhoM"
      }
    },
    {
      "cell_type": "code",
      "source": [
        "# we are just going to regression one of the columns using GD\n",
        "# ...define the input data\n",
        "GD_X = Train_X_polied[:,:2]"
      ],
      "metadata": {
        "id": "KMx7YbhKDkFE"
      },
      "execution_count": 16,
      "outputs": []
    },
    {
      "cell_type": "code",
      "source": [
        "# Inspect input data\n",
        "#GD_X"
      ],
      "metadata": {
        "id": "Hubsmf_MFZ8c"
      },
      "execution_count": null,
      "outputs": []
    },
    {
      "cell_type": "code",
      "source": [
        "# define the answers (ground truth) for the input data\n",
        "y = df_train[target]"
      ],
      "metadata": {
        "id": "720tJZ9nDqu7"
      },
      "execution_count": 19,
      "outputs": []
    },
    {
      "cell_type": "code",
      "source": [
        "GD_X.shape, y.shape"
      ],
      "metadata": {
        "colab": {
          "base_uri": "https://localhost:8080/"
        },
        "id": "gBL_HQaPD1nv",
        "outputId": "70899dc9-97d3-475a-a1d3-e11223d7f106"
      },
      "execution_count": 21,
      "outputs": [
        {
          "output_type": "execute_result",
          "data": {
            "text/plain": [
              "((331, 2), (331,))"
            ]
          },
          "metadata": {},
          "execution_count": 21
        }
      ]
    },
    {
      "cell_type": "markdown",
      "source": [
        "##Gradients\n",
        "\n",
        "These are calculated using first derivatives and the chain rule as:\n",
        "\n",
        "$\\frac{d\\ loss}{d \\alpha} = - \\frac{1}{N}\\sum 2 \\times (y - (\\alpha + x\\beta))$\n",
        "\n",
        "$\\frac{d\\ loss}{d \\beta} = - \\frac{1}{N}\\sum 2 \\times (y - (\\alpha + x\\beta))(x)$\n",
        "\n",
        "Note that the term\n",
        "\n",
        "$(y - (\\alpha + x\\beta))$\n",
        "\n",
        "is just  $(y - \\hat{y})$, the difference between actual and predicted results.\n"
      ],
      "metadata": {
        "id": "zfJAzneUD-il"
      }
    },
    {
      "cell_type": "code",
      "source": [
        "def gradient(y, x, alpha, beta):\n",
        "  gradient_alpha = - np.mean(2 * (y - (alpha + x * beta)))\n",
        "  gradient_beta = - np.mean(2 * (y - (alpha + x * beta)) * x)\n",
        "  return np.array([gradient_alpha, gradient_beta])"
      ],
      "metadata": {
        "id": "Rp_mU_yGEpvE"
      },
      "execution_count": 30,
      "outputs": []
    },
    {
      "cell_type": "code",
      "source": [
        "# Just a place to start\n",
        "alpha, beta = 1000, -50\n",
        "\n",
        "# learning rate - if too slow, could try smthg like 0.01 - but be careful,\n",
        "#   too large and you can go past the bottom of the curve!\n",
        "lr = 0.001\n",
        "\n",
        "counter_ = 0"
      ],
      "metadata": {
        "id": "ptqr-Wb4FG_W"
      },
      "execution_count": 41,
      "outputs": []
    },
    {
      "cell_type": "code",
      "source": [
        "def loss(y, x, alpha, beta):\n",
        "  # Note this is just the MSE\n",
        "  return np.mean((y - (alpha+beta * x))**2)"
      ],
      "metadata": {
        "id": "fPxJ2FgRFRfs"
      },
      "execution_count": 36,
      "outputs": []
    },
    {
      "cell_type": "code",
      "source": [
        "# Iterate over calculated gradients\n",
        "#    Note how the learning rate (lr) affects step size, and speed of descent\n",
        "while True:\n",
        "  # note - only need second column of x - first is constant 1's\n",
        "  gradients = gradient(y=y, x=GD_X[:,1], alpha=alpha, beta=beta)\n",
        "\n",
        "  # update alpha beta \n",
        "  alpha = alpha - lr * gradients[0]\n",
        "  beta = beta - lr * gradients[1]\n",
        "\n",
        "  # debug - uncomment to watch the descent in action!\n",
        "  #counter_ += 1\n",
        "  #if (counter_ % 100 == 0):\n",
        "    #print (loss(y=y, x=GD_X[:,1], alpha=alpha, beta=beta), counter_)\n",
        "\n",
        "  # exit when we've reached an acceptable gradient threshold\n",
        "  if np.max(abs(gradient(y=y, x=GD_X[:,1], alpha=alpha, beta=beta))) < 1e-5:\n",
        "    break"
      ],
      "metadata": {
        "id": "CAj4K8-MF6DU"
      },
      "execution_count": 43,
      "outputs": []
    },
    {
      "cell_type": "markdown",
      "source": [
        "**Computed alpha and beta results**"
      ],
      "metadata": {
        "id": "vzxmKC2reqmH"
      }
    },
    {
      "cell_type": "code",
      "source": [
        "alpha, beta"
      ],
      "metadata": {
        "colab": {
          "base_uri": "https://localhost:8080/"
        },
        "id": "AKvBO4WnIG4j",
        "outputId": "03d1cc68-aa6e-4b3d-f6e8-403fed319e74"
      },
      "execution_count": 44,
      "outputs": [
        {
          "output_type": "execute_result",
          "data": {
            "text/plain": [
              "(36.43527756594518, 3.1094020356501657)"
            ]
          },
          "metadata": {},
          "execution_count": 44
        }
      ]
    },
    {
      "cell_type": "markdown",
      "source": [
        "**This can be compared to the output of the LR below**\n",
        "\n",
        "Just use the GD_X as the train input"
      ],
      "metadata": {
        "id": "0hLX0f-UIZNa"
      }
    },
    {
      "cell_type": "markdown",
      "source": [
        "## Linear Regression by comparison"
      ],
      "metadata": {
        "id": "cjEtp1A_TS1I"
      }
    },
    {
      "cell_type": "code",
      "source": [
        "# intialize LR....\n",
        "lr = LinearRegression(fit_intercept=False)"
      ],
      "metadata": {
        "id": "hQv7shl9TWxv"
      },
      "execution_count": 68,
      "outputs": []
    },
    {
      "cell_type": "code",
      "source": [
        "# For comparison with the GradienDescent results above\n",
        "# ... fit to the same inputs we used there\n",
        "lr.fit(X = GD_X, y = df_train[target])\n",
        "\n",
        "# Show alpha and beta as calculated by the LR!\n",
        "lr.coef_"
      ],
      "metadata": {
        "colab": {
          "base_uri": "https://localhost:8080/"
        },
        "id": "B8PJK6O0JFrq",
        "outputId": "5af3297f-62c2-4d58-f1ca-6c8c7c2863c4"
      },
      "execution_count": 70,
      "outputs": [
        {
          "output_type": "execute_result",
          "data": {
            "text/plain": [
              "array([36.43523704,  3.10947303])"
            ]
          },
          "metadata": {},
          "execution_count": 70
        }
      ]
    },
    {
      "cell_type": "markdown",
      "source": [
        "**Continue with LR...**\n",
        "\n",
        "Re-fitting with the original full set of poly'd training data."
      ],
      "metadata": {
        "id": "yTMeAbOcPca0"
      }
    },
    {
      "cell_type": "code",
      "source": [
        "# With bias values enabled, this first column will just be constant 1\n",
        "#   try turning it off and see how it goes away\n",
        "#Train_X[:,0]"
      ],
      "metadata": {
        "id": "G9FRwn8IQNjL"
      },
      "execution_count": null,
      "outputs": []
    },
    {
      "cell_type": "code",
      "source": [
        "# Fit the training set\n",
        "lr.fit(X = Train_X_polied, y = df_train[target])"
      ],
      "metadata": {
        "colab": {
          "base_uri": "https://localhost:8080/"
        },
        "id": "zwy9MO3gTbpL",
        "outputId": "7c634a3b-8cad-4d40-82dc-194d001845b0"
      },
      "execution_count": 50,
      "outputs": [
        {
          "output_type": "execute_result",
          "data": {
            "text/plain": [
              "LinearRegression(fit_intercept=False)"
            ]
          },
          "metadata": {},
          "execution_count": 50
        }
      ]
    },
    {
      "cell_type": "code",
      "source": [
        "# training coefficients - these should be similar to each other,\n",
        "#    indicating scaling was applied properly\n",
        "lr.coef_"
      ],
      "metadata": {
        "colab": {
          "base_uri": "https://localhost:8080/"
        },
        "id": "WrhofpfFTr7H",
        "outputId": "b3fcc75f-478d-4573-f975-1ef9f414519c"
      },
      "execution_count": 51,
      "outputs": [
        {
          "output_type": "execute_result",
          "data": {
            "text/plain": [
              "array([   5.30643072,   15.46505979,  -17.96430228,    7.95542519,\n",
              "         54.5935806 ,   51.92623254,   18.8990989 ,    4.63367764,\n",
              "          1.0272005 ,  -19.59443668,   -3.41616589,  -11.5313198 ,\n",
              "         -6.57386911,   36.0575368 ,   -6.22256473,    8.93965599,\n",
              "        -22.97433116,  -27.89901207,   23.54449602,  -54.87901629,\n",
              "       -124.32291166,   14.33493761,    6.46752376,  -92.81985044,\n",
              "         -8.91787955,   29.4859345 ,   16.28876928,  -11.68393803])"
            ]
          },
          "metadata": {},
          "execution_count": 51
        }
      ]
    },
    {
      "cell_type": "markdown",
      "source": [
        "**Training error evaluation**\n",
        "\n",
        "Predict y-hat using training data"
      ],
      "metadata": {
        "id": "1KAu22OlTmXr"
      }
    },
    {
      "cell_type": "code",
      "source": [
        "# Run prediction!\n",
        "y_hat_training = lr.predict(Train_X_polied)"
      ],
      "metadata": {
        "id": "Y9M3ffu5TjVq"
      },
      "execution_count": 52,
      "outputs": []
    },
    {
      "cell_type": "code",
      "source": [
        "import seaborn as sns"
      ],
      "metadata": {
        "id": "Sn2AkUmFT-eW"
      },
      "execution_count": 53,
      "outputs": []
    },
    {
      "cell_type": "code",
      "source": [
        "sns.scatterplot(y_hat_training, df_train[target])"
      ],
      "metadata": {
        "colab": {
          "base_uri": "https://localhost:8080/",
          "height": 337
        },
        "id": "MO8nuBs6UDEX",
        "outputId": "52a83f00-dc48-49cd-bdbb-bbe1e8274232"
      },
      "execution_count": 54,
      "outputs": [
        {
          "output_type": "stream",
          "name": "stderr",
          "text": [
            "/usr/local/lib/python3.7/dist-packages/seaborn/_decorators.py:43: FutureWarning: Pass the following variables as keyword args: x, y. From version 0.12, the only valid positional argument will be `data`, and passing other arguments without an explicit keyword will result in an error or misinterpretation.\n",
            "  FutureWarning\n"
          ]
        },
        {
          "output_type": "execute_result",
          "data": {
            "text/plain": [
              "<matplotlib.axes._subplots.AxesSubplot at 0x7f6676d37f50>"
            ]
          },
          "metadata": {},
          "execution_count": 54
        },
        {
          "output_type": "display_data",
          "data": {
            "image/png": "[encoded data removed]",
            "text/plain": [
              "<Figure size 432x288 with 1 Axes>"
            ]
          },
          "metadata": {
            "needs_background": "light"
          }
        }
      ]
    },
    {
      "cell_type": "code",
      "source": [
        "# Run prediction!\n",
        "y_hat_testing = lr.predict(Test_X_polied)"
      ],
      "metadata": {
        "id": "gpst-1pPS-Xh"
      },
      "execution_count": 64,
      "outputs": []
    },
    {
      "cell_type": "code",
      "source": [
        "sns.scatterplot(y_hat_testing, df_test[target])"
      ],
      "metadata": {
        "colab": {
          "base_uri": "https://localhost:8080/",
          "height": 337
        },
        "id": "pDwNIfl7TDXo",
        "outputId": "34e9c6e8-ae5a-49c0-c693-a87c5b6625e6"
      },
      "execution_count": 65,
      "outputs": [
        {
          "output_type": "stream",
          "name": "stderr",
          "text": [
            "/usr/local/lib/python3.7/dist-packages/seaborn/_decorators.py:43: FutureWarning: Pass the following variables as keyword args: x, y. From version 0.12, the only valid positional argument will be `data`, and passing other arguments without an explicit keyword will result in an error or misinterpretation.\n",
            "  FutureWarning\n"
          ]
        },
        {
          "output_type": "execute_result",
          "data": {
            "text/plain": [
              "<matplotlib.axes._subplots.AxesSubplot at 0x7f66775079d0>"
            ]
          },
          "metadata": {},
          "execution_count": 65
        },
        {
          "output_type": "display_data",
          "data": {
            "image/png": "[encoded data removed]",
            "text/plain": [
              "<Figure size 432x288 with 1 Axes>"
            ]
          },
          "metadata": {
            "needs_background": "light"
          }
        }
      ]
    },
    {
      "cell_type": "code",
      "source": [
        "from sklearn.metrics import mean_squared_error,mean_absolute_error"
      ],
      "metadata": {
        "id": "NcOZUbcjO4JT"
      },
      "execution_count": 55,
      "outputs": []
    },
    {
      "cell_type": "markdown",
      "source": [
        "**Calculate MSE**\n",
        "\n",
        "$(y - \\hat{y})^2$"
      ],
      "metadata": {
        "id": "c_oOwKgtVREV"
      }
    },
    {
      "cell_type": "code",
      "source": [
        "mean_squared_error(y_hat_training, df_train[target]), mean_squared_error(y_hat_testing, df_test[target])"
      ],
      "metadata": {
        "colab": {
          "base_uri": "https://localhost:8080/"
        },
        "id": "2zrZwVjQUrbH",
        "outputId": "251eb75c-f1d4-41ba-e646-20fc04830e7b"
      },
      "execution_count": 67,
      "outputs": [
        {
          "output_type": "execute_result",
          "data": {
            "text/plain": [
              "(58.06285254938548, 44.785842212349365)"
            ]
          },
          "metadata": {},
          "execution_count": 67
        }
      ]
    },
    {
      "cell_type": "markdown",
      "source": [
        "**Calculate MAE**\n",
        "\n",
        "$|y - \\hat{y}|$"
      ],
      "metadata": {
        "id": "PtAhjpdcZ8EZ"
      }
    },
    {
      "cell_type": "code",
      "source": [
        "# MAE is more meaningful than the MSE since not squared\n",
        "mean_absolute_error(y_hat_training, df_train[target]), mean_absolute_error(y_hat_testing, df_test[target])"
      ],
      "metadata": {
        "colab": {
          "base_uri": "https://localhost:8080/"
        },
        "id": "dBp5NwCRUxnm",
        "outputId": "82ace524-133c-43f3-8541-02a0d557c965"
      },
      "execution_count": 66,
      "outputs": [
        {
          "output_type": "execute_result",
          "data": {
            "text/plain": [
              "(4.973894564586458, 5.155182137454198)"
            ]
          },
          "metadata": {},
          "execution_count": 66
        }
      ]
    },
    {
      "cell_type": "code",
      "source": [
        "df_train[target].mean()"
      ],
      "metadata": {
        "colab": {
          "base_uri": "https://localhost:8080/"
        },
        "id": "Tv69bRdIU8t0",
        "outputId": "1579c00f-e1cf-4114-ae3c-1027b4e23717"
      },
      "execution_count": 58,
      "outputs": [
        {
          "output_type": "execute_result",
          "data": {
            "text/plain": [
              "38.08519637462236"
            ]
          },
          "metadata": {},
          "execution_count": 58
        }
      ]
    },
    {
      "cell_type": "code",
      "source": [
        "# how closely did we fit\n",
        "np.mean(abs(df_train[target] - y_hat_training / df_train[target] * 100))"
      ],
      "metadata": {
        "colab": {
          "base_uri": "https://localhost:8080/"
        },
        "id": "hNJU3z3YVnFX",
        "outputId": "f9dfe997-087f-488a-c6f8-3123bfb0341d"
      },
      "execution_count": 59,
      "outputs": [
        {
          "output_type": "execute_result",
          "data": {
            "text/plain": [
              "66.58060418104692"
            ]
          },
          "metadata": {},
          "execution_count": 59
        }
      ]
    }
  ]
}