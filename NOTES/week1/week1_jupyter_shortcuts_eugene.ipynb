{
 "cells": [
  {
   "cell_type": "markdown",
   "metadata": {},
   "source": [
    "# DATA 602 - Prof. Xin Xue\n",
    "### 2/8/22 notes by Eugene\n",
    "##### Week 1 - Jupyter Notebook (JNB) shortcuts"
   ]
  },
  {
   "cell_type": "markdown",
   "metadata": {},
   "source": [
    "# MARKDOWN\n",
    "\n",
    "Markdown lets you write in plain text\n",
    "- Can use certain symbol combo's to create special formatting\n",
    "    - NOTE: if you're running this in Jupyter NB, you should click on the cell to see what the actual formatting is and then run it to see how it's displayed"
   ]
  },
  {
   "cell_type": "markdown",
   "metadata": {},
   "source": [
    "# HEADING #1\n",
    "## HEADING #2\n",
    "### HEADING #3\n",
    "#### HEADING #4\n",
    "##### HEADING #5\n",
    "###### HEADING #6\n",
    "####### HEADING #7 --> there isn't one (Headings go from 1# to 6#'s for sizes)\n",
    "\n",
    "- Headings can be created by starting with a hashtag/pound sign (`#`)\n",
    "- Adding more `#` signs makes your headings smaller\n",
    "- If you run a markdown cell it will convert it from plain text to the formatted version\n",
    "    - Click on the cell it to see the plain text version\n",
    "        - BTW: indented bullets as a dash (-) will autoformat (based on # of indents)"
   ]
  },
  {
   "cell_type": "markdown",
   "metadata": {},
   "source": [
    "# MATH FORMULAS\n",
    "\n",
    "---------------------------------\n",
    "##### FORMAT = `$ \\ formula $`\n",
    "\n",
    "##### Ex: $Y = \\alpha$\n",
    "---------------------------------\n",
    "\n",
    "- `$` = must be betw dollar signs at the beginning + end\n",
    "- `\\` = escaped character = tells it this is not the normal function or letter\n",
    "    - NOTE: I wrote extra backticks(`) around the formula in order to make it display properly (you can see it in the plain text version of the cell)\n",
    "- `\\`words = symbols (or cursive)"
   ]
  },
  {
   "cell_type": "markdown",
   "metadata": {},
   "source": [
    "# Keyboard Shortcuts in JNB\n",
    "For cell operations, you must be outside the cell:\n",
    "- click away from the text box, OR\n",
    "- press the escape (`ESC`) button,\n",
    "\n",
    "then you can use the below list of shortcuts\n",
    "\n",
    "### SHORTCUTS:\n",
    "- `a` = insert cell ***a***bove\n",
    "- `b` = insert cell ***b***elow\n",
    "\n",
    "- ``m`` = ***m***arkdown cell\n",
    "- ``y`` = code cell\n",
    "\n",
    "- ``d`` = ***d***elete\n",
    "- ``i`` = ***i***nterrupt running\n",
    "- ``z`` = undo\n",
    "\n",
    "- select cells, `SHIFT + m` = merges cells"
   ]
  },
  {
   "cell_type": "markdown",
   "metadata": {},
   "source": [
    "# BASH MODE\n",
    "This lets you run some bash shell commands directly in the JNB\n",
    "\n",
    "- WARNING: some of these commands don't work on Windows \n",
    "\n",
    "### COMMANDS\n",
    "- **!** = enter bash mode\n",
    "- **!pwd** = ***p***resent ***w***orking ***d***irectory\n",
    "- **!ls** = ***l***ist ***s***ubdirectory\n",
    "- **!cd** = ***c***hange ***d***irectory"
   ]
  },
  {
   "cell_type": "markdown",
   "metadata": {},
   "source": [
    "### ADDITIONAL RESOURCES:\n",
    "- NOTE: these were just things I found while writing this up, not from the class\n",
    "\n",
    "JNB's internal shortcuts list\n",
    "- `ESC, h` = access the built-in shortcuts list \n",
    "\n",
    "Markdown syntax guide:\n",
    "- https://www.markdownguide.org/basic-syntax/ \n",
    "\n",
    "More JNB shortcuts\n",
    "- https://towardsdatascience.com/jypyter-notebook-shortcuts-bf0101a98330 "
   ]
  }
 ],
 "metadata": {
  "interpreter": {
   "hash": "771a10e9912638bc1e3d9614f55e8788a2a6c82e1c07af3a7d7d70f175d18d28"
  },
  "kernelspec": {
   "display_name": "Python 3.8.11 ('data601-intro to DS')",
   "language": "python",
   "name": "python3"
  },
  "language_info": {
   "name": "python",
   "version": "3.8.11"
  },
  "orig_nbformat": 4
 },
 "nbformat": 4,
 "nbformat_minor": 2
}
