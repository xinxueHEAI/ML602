{
  "nbformat": 4,
  "nbformat_minor": 0,
  "metadata": {
    "colab": {
      "name": "week3-kentb.ipynb",
      "provenance": [],
      "collapsed_sections": []
    },
    "kernelspec": {
      "name": "python3",
      "display_name": "Python 3"
    },
    "language_info": {
      "name": "python"
    }
  },
  "cells": [
    {
      "cell_type": "code",
      "execution_count": 1,
      "metadata": {
        "id": "Q9Ml8D6QPGoc"
      },
      "outputs": [],
      "source": [
        "import pandas as pd"
      ]
    },
    {
      "cell_type": "code",
      "source": [
        "df = pd.read_csv(\"https://archive.ics.uci.edu/ml/machine-learning-databases/00571/hcvdat0.csv\", index_col=0)"
      ],
      "metadata": {
        "id": "d2ilCX7fPJOi"
      },
      "execution_count": 2,
      "outputs": []
    },
    {
      "cell_type": "code",
      "source": [
        "df.head()"
      ],
      "metadata": {
        "colab": {
          "base_uri": "https://localhost:8080/",
          "height": 206
        },
        "id": "Vm9UP8OHPUC5",
        "outputId": "b62854fb-d800-4c98-c2eb-94cae2fb0400"
      },
      "execution_count": 3,
      "outputs": [
        {
          "output_type": "execute_result",
          "data": {
            "text/html": [
              "\n",
              "  <div id=\"df-344c284f-d600-4624-be72-e40b453a87b7\">\n",
              "    <div class=\"colab-df-container\">\n",
              "      <div>\n",
              "<style scoped>\n",
              "    .dataframe tbody tr th:only-of-type {\n",
              "        vertical-align: middle;\n",
              "    }\n",
              "\n",
              "    .dataframe tbody tr th {\n",
              "        vertical-align: top;\n",
              "    }\n",
              "\n",
              "    .dataframe thead th {\n",
              "        text-align: right;\n",
              "    }\n",
              "</style>\n",
              "<table border=\"1\" class=\"dataframe\">\n",
              "  <thead>\n",
              "    <tr style=\"text-align: right;\">\n",
              "      <th></th>\n",
              "      <th>Category</th>\n",
              "      <th>Age</th>\n",
              "      <th>Sex</th>\n",
              "      <th>ALB</th>\n",
              "      <th>ALP</th>\n",
              "      <th>ALT</th>\n",
              "      <th>AST</th>\n",
              "      <th>BIL</th>\n",
              "      <th>CHE</th>\n",
              "      <th>CHOL</th>\n",
              "      <th>CREA</th>\n",
              "      <th>GGT</th>\n",
              "      <th>PROT</th>\n",
              "    </tr>\n",
              "  </thead>\n",
              "  <tbody>\n",
              "    <tr>\n",
              "      <th>1</th>\n",
              "      <td>0=Blood Donor</td>\n",
              "      <td>32</td>\n",
              "      <td>m</td>\n",
              "      <td>38.5</td>\n",
              "      <td>52.5</td>\n",
              "      <td>7.7</td>\n",
              "      <td>22.1</td>\n",
              "      <td>7.5</td>\n",
              "      <td>6.93</td>\n",
              "      <td>3.23</td>\n",
              "      <td>106.0</td>\n",
              "      <td>12.1</td>\n",
              "      <td>69.0</td>\n",
              "    </tr>\n",
              "    <tr>\n",
              "      <th>2</th>\n",
              "      <td>0=Blood Donor</td>\n",
              "      <td>32</td>\n",
              "      <td>m</td>\n",
              "      <td>38.5</td>\n",
              "      <td>70.3</td>\n",
              "      <td>18.0</td>\n",
              "      <td>24.7</td>\n",
              "      <td>3.9</td>\n",
              "      <td>11.17</td>\n",
              "      <td>4.80</td>\n",
              "      <td>74.0</td>\n",
              "      <td>15.6</td>\n",
              "      <td>76.5</td>\n",
              "    </tr>\n",
              "    <tr>\n",
              "      <th>3</th>\n",
              "      <td>0=Blood Donor</td>\n",
              "      <td>32</td>\n",
              "      <td>m</td>\n",
              "      <td>46.9</td>\n",
              "      <td>74.7</td>\n",
              "      <td>36.2</td>\n",
              "      <td>52.6</td>\n",
              "      <td>6.1</td>\n",
              "      <td>8.84</td>\n",
              "      <td>5.20</td>\n",
              "      <td>86.0</td>\n",
              "      <td>33.2</td>\n",
              "      <td>79.3</td>\n",
              "    </tr>\n",
              "    <tr>\n",
              "      <th>4</th>\n",
              "      <td>0=Blood Donor</td>\n",
              "      <td>32</td>\n",
              "      <td>m</td>\n",
              "      <td>43.2</td>\n",
              "      <td>52.0</td>\n",
              "      <td>30.6</td>\n",
              "      <td>22.6</td>\n",
              "      <td>18.9</td>\n",
              "      <td>7.33</td>\n",
              "      <td>4.74</td>\n",
              "      <td>80.0</td>\n",
              "      <td>33.8</td>\n",
              "      <td>75.7</td>\n",
              "    </tr>\n",
              "    <tr>\n",
              "      <th>5</th>\n",
              "      <td>0=Blood Donor</td>\n",
              "      <td>32</td>\n",
              "      <td>m</td>\n",
              "      <td>39.2</td>\n",
              "      <td>74.1</td>\n",
              "      <td>32.6</td>\n",
              "      <td>24.8</td>\n",
              "      <td>9.6</td>\n",
              "      <td>9.15</td>\n",
              "      <td>4.32</td>\n",
              "      <td>76.0</td>\n",
              "      <td>29.9</td>\n",
              "      <td>68.7</td>\n",
              "    </tr>\n",
              "  </tbody>\n",
              "</table>\n",
              "</div>\n",
              "      <button class=\"colab-df-convert\" onclick=\"convertToInteractive('df-344c284f-d600-4624-be72-e40b453a87b7')\"\n",
              "              title=\"Convert this dataframe to an interactive table.\"\n",
              "              style=\"display:none;\">\n",
              "        \n",
              "  <svg xmlns=\"http://www.w3.org/2000/svg\" height=\"24px\"viewBox=\"0 0 24 24\"\n",
              "       width=\"24px\">\n",
              "    <path d=\"M0 0h24v24H0V0z\" fill=\"none\"/>\n",
              "    <path d=\"M18.56 5.44l.94 2.06.94-2.06 2.06-.94-2.06-.94-.94-2.06-.94 2.06-2.06.94zm-11 1L8.5 8.5l.94-2.06 2.06-.94-2.06-.94L8.5 2.5l-.94 2.06-2.06.94zm10 10l.94 2.06.94-2.06 2.06-.94-2.06-.94-.94-2.06-.94 2.06-2.06.94z\"/><path d=\"M17.41 7.96l-1.37-1.37c-.4-.4-.92-.59-1.43-.59-.52 0-1.04.2-1.43.59L10.3 9.45l-7.72 7.72c-.78.78-.78 2.05 0 2.83L4 21.41c.39.39.9.59 1.41.59.51 0 1.02-.2 1.41-.59l7.78-7.78 2.81-2.81c.8-.78.8-2.07 0-2.86zM5.41 20L4 18.59l7.72-7.72 1.47 1.35L5.41 20z\"/>\n",
              "  </svg>\n",
              "      </button>\n",
              "      \n",
              "  <style>\n",
              "    .colab-df-container {\n",
              "      display:flex;\n",
              "      flex-wrap:wrap;\n",
              "      gap: 12px;\n",
              "    }\n",
              "\n",
              "    .colab-df-convert {\n",
              "      background-color: #E8F0FE;\n",
              "      border: none;\n",
              "      border-radius: 50%;\n",
              "      cursor: pointer;\n",
              "      display: none;\n",
              "      fill: #1967D2;\n",
              "      height: 32px;\n",
              "      padding: 0 0 0 0;\n",
              "      width: 32px;\n",
              "    }\n",
              "\n",
              "    .colab-df-convert:hover {\n",
              "      background-color: #E2EBFA;\n",
              "      box-shadow: 0px 1px 2px rgba(60, 64, 67, 0.3), 0px 1px 3px 1px rgba(60, 64, 67, 0.15);\n",
              "      fill: #174EA6;\n",
              "    }\n",
              "\n",
              "    [theme=dark] .colab-df-convert {\n",
              "      background-color: #3B4455;\n",
              "      fill: #D2E3FC;\n",
              "    }\n",
              "\n",
              "    [theme=dark] .colab-df-convert:hover {\n",
              "      background-color: #434B5C;\n",
              "      box-shadow: 0px 1px 3px 1px rgba(0, 0, 0, 0.15);\n",
              "      filter: drop-shadow(0px 1px 2px rgba(0, 0, 0, 0.3));\n",
              "      fill: #FFFFFF;\n",
              "    }\n",
              "  </style>\n",
              "\n",
              "      <script>\n",
              "        const buttonEl =\n",
              "          document.querySelector('#df-344c284f-d600-4624-be72-e40b453a87b7 button.colab-df-convert');\n",
              "        buttonEl.style.display =\n",
              "          google.colab.kernel.accessAllowed ? 'block' : 'none';\n",
              "\n",
              "        async function convertToInteractive(key) {\n",
              "          const element = document.querySelector('#df-344c284f-d600-4624-be72-e40b453a87b7');\n",
              "          const dataTable =\n",
              "            await google.colab.kernel.invokeFunction('convertToInteractive',\n",
              "                                                     [key], {});\n",
              "          if (!dataTable) return;\n",
              "\n",
              "          const docLinkHtml = 'Like what you see? Visit the ' +\n",
              "            '<a target=\"_blank\" href=https://colab.research.google.com/notebooks/data_table.ipynb>data table notebook</a>'\n",
              "            + ' to learn more about interactive tables.';\n",
              "          element.innerHTML = '';\n",
              "          dataTable['output_type'] = 'display_data';\n",
              "          await google.colab.output.renderOutput(dataTable, element);\n",
              "          const docLink = document.createElement('div');\n",
              "          docLink.innerHTML = docLinkHtml;\n",
              "          element.appendChild(docLink);\n",
              "        }\n",
              "      </script>\n",
              "    </div>\n",
              "  </div>\n",
              "  "
            ],
            "text/plain": [
              "        Category  Age Sex   ALB   ALP  ...    CHE  CHOL   CREA   GGT  PROT\n",
              "1  0=Blood Donor   32   m  38.5  52.5  ...   6.93  3.23  106.0  12.1  69.0\n",
              "2  0=Blood Donor   32   m  38.5  70.3  ...  11.17  4.80   74.0  15.6  76.5\n",
              "3  0=Blood Donor   32   m  46.9  74.7  ...   8.84  5.20   86.0  33.2  79.3\n",
              "4  0=Blood Donor   32   m  43.2  52.0  ...   7.33  4.74   80.0  33.8  75.7\n",
              "5  0=Blood Donor   32   m  39.2  74.1  ...   9.15  4.32   76.0  29.9  68.7\n",
              "\n",
              "[5 rows x 13 columns]"
            ]
          },
          "metadata": {},
          "execution_count": 3
        }
      ]
    },
    {
      "cell_type": "markdown",
      "source": [
        "# Test Train Split"
      ],
      "metadata": {
        "id": "1GaILJo1PYJZ"
      }
    },
    {
      "cell_type": "code",
      "source": [
        "!pip install -U scikit-learn"
      ],
      "metadata": {
        "id": "DSQ-4GzCPlwg"
      },
      "execution_count": null,
      "outputs": []
    },
    {
      "cell_type": "code",
      "source": [
        "from sklearn.model_selection import train_test_split"
      ],
      "metadata": {
        "id": "iS3F-uoRPZsx"
      },
      "execution_count": 18,
      "outputs": []
    },
    {
      "cell_type": "markdown",
      "source": [
        "## NOTE: \n",
        "train-test-split does not work for time series data\n",
        "\n",
        "need own functions for that"
      ],
      "metadata": {
        "id": "KzN38fUUQOWB"
      }
    },
    {
      "cell_type": "code",
      "source": [
        "# X, y\n",
        "# X_train, y_train, X_test, y_test = train_test_split (X=X, y=y,...)"
      ],
      "metadata": {
        "id": "EpZBM9XmQbQM"
      },
      "execution_count": null,
      "outputs": []
    },
    {
      "cell_type": "code",
      "source": [
        "df_train, df_test = train_test_split (df, test_size=0.2, )"
      ],
      "metadata": {
        "id": "W9xGrN9vP8Iw"
      },
      "execution_count": 19,
      "outputs": []
    },
    {
      "cell_type": "code",
      "source": [
        "df_train.shape, df_test.shape"
      ],
      "metadata": {
        "colab": {
          "base_uri": "https://localhost:8080/"
        },
        "id": "6VDRD7gSPfbQ",
        "outputId": "7b44a91c-4410-4b9c-e581-375d4f62f524"
      },
      "execution_count": 20,
      "outputs": [
        {
          "output_type": "execute_result",
          "data": {
            "text/plain": [
              "((492, 13), (123, 13))"
            ]
          },
          "metadata": {},
          "execution_count": 20
        }
      ]
    },
    {
      "cell_type": "code",
      "source": [
        "df_train.reset_index(drop=True, inplace=True)"
      ],
      "metadata": {
        "id": "6_PmKJKpQ1eA"
      },
      "execution_count": 21,
      "outputs": []
    },
    {
      "cell_type": "code",
      "source": [
        "# ML models do not like missing values - deal w/ these first\n",
        "#any(f_train.isnull())"
      ],
      "metadata": {
        "id": "QlAxHjpHQ5K3"
      },
      "execution_count": null,
      "outputs": []
    },
    {
      "cell_type": "markdown",
      "source": [
        "# Dealing w/ missing values\n",
        "## Option 1\n",
        "Can drop the entire observation if there is NaN\n",
        "\n",
        "`df.dropna(subset=feature_target_list)`\n",
        "\n",
        "## Option 2\n",
        "Can drop the entire feature\n",
        "\n",
        "`df = df[['feature']]`\n",
        "\n",
        "## Option 3\n",
        "Can use mean if the feature supports it (continuous/numeric)\n",
        "        `df_train.fillna(df_train.mean())`\n",
        "or median\n",
        "        `df_train.fillna(df_train.median())`\n",
        "\n",
        "Categorical data is an issue, have to group/count/pick max?\n",
        "\n",
        "        `df_train.groupby('sex').count()`\n",
        "\n",
        "\n",
        "## Option 4\n",
        "Impute the values\n",
        "\n",
        "        `from sklearn.impute import SimpleImputer\n",
        "         import numpy as np\n",
        "\n",
        "         mean_filler = SimpleImputer(missing_values = np.nan, strategy='mean')\n",
        "         # use diff strategy for categorical data (like gender)\n",
        "         freq_filler = SimpleImputer(strategy='most_frequent')\n",
        "\n",
        "         # Fit step: computes means for cols\n",
        "         freq_filler.fit_transform(df[[]])\n",
        "\n",
        "         # compute means for cols - select the numerical columns only!\n",
        "         mean_filler.fit(X=df[['a','b','d',...]])\n",
        "         mean_filler.fit_transform(X=df_train[['a','b','d',...]]).\n",
        "\n",
        "         #filling w/ the means for the cols\n",
        "\n",
        "\n"
      ],
      "metadata": {
        "id": "mbIzMFQKReKb"
      }
    },
    {
      "cell_type": "code",
      "source": [
        "from sklearn.impute import SimpleImputer\n",
        "import numpy as np"
      ],
      "metadata": {
        "id": "bw0VnU7agut5"
      },
      "execution_count": 23,
      "outputs": []
    },
    {
      "cell_type": "code",
      "source": [
        "df_train.head()"
      ],
      "metadata": {
        "colab": {
          "base_uri": "https://localhost:8080/",
          "height": 206
        },
        "id": "0OxX09abhLdY",
        "outputId": "93696250-e9ae-47ba-8dca-7282070e9f95"
      },
      "execution_count": 26,
      "outputs": [
        {
          "output_type": "execute_result",
          "data": {
            "text/html": [
              "\n",
              "  <div id=\"df-a564e279-9074-4e53-be84-ab23a828ef16\">\n",
              "    <div class=\"colab-df-container\">\n",
              "      <div>\n",
              "<style scoped>\n",
              "    .dataframe tbody tr th:only-of-type {\n",
              "        vertical-align: middle;\n",
              "    }\n",
              "\n",
              "    .dataframe tbody tr th {\n",
              "        vertical-align: top;\n",
              "    }\n",
              "\n",
              "    .dataframe thead th {\n",
              "        text-align: right;\n",
              "    }\n",
              "</style>\n",
              "<table border=\"1\" class=\"dataframe\">\n",
              "  <thead>\n",
              "    <tr style=\"text-align: right;\">\n",
              "      <th></th>\n",
              "      <th>Category</th>\n",
              "      <th>Age</th>\n",
              "      <th>Sex</th>\n",
              "      <th>ALB</th>\n",
              "      <th>ALP</th>\n",
              "      <th>ALT</th>\n",
              "      <th>AST</th>\n",
              "      <th>BIL</th>\n",
              "      <th>CHE</th>\n",
              "      <th>CHOL</th>\n",
              "      <th>CREA</th>\n",
              "      <th>GGT</th>\n",
              "      <th>PROT</th>\n",
              "    </tr>\n",
              "  </thead>\n",
              "  <tbody>\n",
              "    <tr>\n",
              "      <th>0</th>\n",
              "      <td>0=Blood Donor</td>\n",
              "      <td>50</td>\n",
              "      <td>f</td>\n",
              "      <td>39.9</td>\n",
              "      <td>80.5</td>\n",
              "      <td>24.2</td>\n",
              "      <td>22.8</td>\n",
              "      <td>5.2</td>\n",
              "      <td>9.25</td>\n",
              "      <td>7.41</td>\n",
              "      <td>84.0</td>\n",
              "      <td>19.4</td>\n",
              "      <td>71.2</td>\n",
              "    </tr>\n",
              "    <tr>\n",
              "      <th>1</th>\n",
              "      <td>0=Blood Donor</td>\n",
              "      <td>51</td>\n",
              "      <td>f</td>\n",
              "      <td>46.3</td>\n",
              "      <td>70.5</td>\n",
              "      <td>75.2</td>\n",
              "      <td>69.2</td>\n",
              "      <td>6.1</td>\n",
              "      <td>7.68</td>\n",
              "      <td>4.73</td>\n",
              "      <td>69.0</td>\n",
              "      <td>52.2</td>\n",
              "      <td>78.3</td>\n",
              "    </tr>\n",
              "    <tr>\n",
              "      <th>2</th>\n",
              "      <td>0=Blood Donor</td>\n",
              "      <td>41</td>\n",
              "      <td>m</td>\n",
              "      <td>44.7</td>\n",
              "      <td>74.9</td>\n",
              "      <td>25.2</td>\n",
              "      <td>20.2</td>\n",
              "      <td>6.3</td>\n",
              "      <td>10.34</td>\n",
              "      <td>4.23</td>\n",
              "      <td>74.0</td>\n",
              "      <td>23.7</td>\n",
              "      <td>72.1</td>\n",
              "    </tr>\n",
              "    <tr>\n",
              "      <th>3</th>\n",
              "      <td>0=Blood Donor</td>\n",
              "      <td>47</td>\n",
              "      <td>m</td>\n",
              "      <td>46.2</td>\n",
              "      <td>63.0</td>\n",
              "      <td>7.0</td>\n",
              "      <td>17.4</td>\n",
              "      <td>6.5</td>\n",
              "      <td>7.06</td>\n",
              "      <td>5.23</td>\n",
              "      <td>60.0</td>\n",
              "      <td>26.6</td>\n",
              "      <td>75.4</td>\n",
              "    </tr>\n",
              "    <tr>\n",
              "      <th>4</th>\n",
              "      <td>2=Fibrosis</td>\n",
              "      <td>40</td>\n",
              "      <td>m</td>\n",
              "      <td>39.0</td>\n",
              "      <td>43.1</td>\n",
              "      <td>23.8</td>\n",
              "      <td>114.7</td>\n",
              "      <td>11.0</td>\n",
              "      <td>9.64</td>\n",
              "      <td>4.20</td>\n",
              "      <td>70.9</td>\n",
              "      <td>127.3</td>\n",
              "      <td>81.3</td>\n",
              "    </tr>\n",
              "  </tbody>\n",
              "</table>\n",
              "</div>\n",
              "      <button class=\"colab-df-convert\" onclick=\"convertToInteractive('df-a564e279-9074-4e53-be84-ab23a828ef16')\"\n",
              "              title=\"Convert this dataframe to an interactive table.\"\n",
              "              style=\"display:none;\">\n",
              "        \n",
              "  <svg xmlns=\"http://www.w3.org/2000/svg\" height=\"24px\"viewBox=\"0 0 24 24\"\n",
              "       width=\"24px\">\n",
              "    <path d=\"M0 0h24v24H0V0z\" fill=\"none\"/>\n",
              "    <path d=\"M18.56 5.44l.94 2.06.94-2.06 2.06-.94-2.06-.94-.94-2.06-.94 2.06-2.06.94zm-11 1L8.5 8.5l.94-2.06 2.06-.94-2.06-.94L8.5 2.5l-.94 2.06-2.06.94zm10 10l.94 2.06.94-2.06 2.06-.94-2.06-.94-.94-2.06-.94 2.06-2.06.94z\"/><path d=\"M17.41 7.96l-1.37-1.37c-.4-.4-.92-.59-1.43-.59-.52 0-1.04.2-1.43.59L10.3 9.45l-7.72 7.72c-.78.78-.78 2.05 0 2.83L4 21.41c.39.39.9.59 1.41.59.51 0 1.02-.2 1.41-.59l7.78-7.78 2.81-2.81c.8-.78.8-2.07 0-2.86zM5.41 20L4 18.59l7.72-7.72 1.47 1.35L5.41 20z\"/>\n",
              "  </svg>\n",
              "      </button>\n",
              "      \n",
              "  <style>\n",
              "    .colab-df-container {\n",
              "      display:flex;\n",
              "      flex-wrap:wrap;\n",
              "      gap: 12px;\n",
              "    }\n",
              "\n",
              "    .colab-df-convert {\n",
              "      background-color: #E8F0FE;\n",
              "      border: none;\n",
              "      border-radius: 50%;\n",
              "      cursor: pointer;\n",
              "      display: none;\n",
              "      fill: #1967D2;\n",
              "      height: 32px;\n",
              "      padding: 0 0 0 0;\n",
              "      width: 32px;\n",
              "    }\n",
              "\n",
              "    .colab-df-convert:hover {\n",
              "      background-color: #E2EBFA;\n",
              "      box-shadow: 0px 1px 2px rgba(60, 64, 67, 0.3), 0px 1px 3px 1px rgba(60, 64, 67, 0.15);\n",
              "      fill: #174EA6;\n",
              "    }\n",
              "\n",
              "    [theme=dark] .colab-df-convert {\n",
              "      background-color: #3B4455;\n",
              "      fill: #D2E3FC;\n",
              "    }\n",
              "\n",
              "    [theme=dark] .colab-df-convert:hover {\n",
              "      background-color: #434B5C;\n",
              "      box-shadow: 0px 1px 3px 1px rgba(0, 0, 0, 0.15);\n",
              "      filter: drop-shadow(0px 1px 2px rgba(0, 0, 0, 0.3));\n",
              "      fill: #FFFFFF;\n",
              "    }\n",
              "  </style>\n",
              "\n",
              "      <script>\n",
              "        const buttonEl =\n",
              "          document.querySelector('#df-a564e279-9074-4e53-be84-ab23a828ef16 button.colab-df-convert');\n",
              "        buttonEl.style.display =\n",
              "          google.colab.kernel.accessAllowed ? 'block' : 'none';\n",
              "\n",
              "        async function convertToInteractive(key) {\n",
              "          const element = document.querySelector('#df-a564e279-9074-4e53-be84-ab23a828ef16');\n",
              "          const dataTable =\n",
              "            await google.colab.kernel.invokeFunction('convertToInteractive',\n",
              "                                                     [key], {});\n",
              "          if (!dataTable) return;\n",
              "\n",
              "          const docLinkHtml = 'Like what you see? Visit the ' +\n",
              "            '<a target=\"_blank\" href=https://colab.research.google.com/notebooks/data_table.ipynb>data table notebook</a>'\n",
              "            + ' to learn more about interactive tables.';\n",
              "          element.innerHTML = '';\n",
              "          dataTable['output_type'] = 'display_data';\n",
              "          await google.colab.output.renderOutput(dataTable, element);\n",
              "          const docLink = document.createElement('div');\n",
              "          docLink.innerHTML = docLinkHtml;\n",
              "          element.appendChild(docLink);\n",
              "        }\n",
              "      </script>\n",
              "    </div>\n",
              "  </div>\n",
              "  "
            ],
            "text/plain": [
              "        Category  Age Sex   ALB   ALP  ...    CHE  CHOL  CREA    GGT  PROT\n",
              "0  0=Blood Donor   50   f  39.9  80.5  ...   9.25  7.41  84.0   19.4  71.2\n",
              "1  0=Blood Donor   51   f  46.3  70.5  ...   7.68  4.73  69.0   52.2  78.3\n",
              "2  0=Blood Donor   41   m  44.7  74.9  ...  10.34  4.23  74.0   23.7  72.1\n",
              "3  0=Blood Donor   47   m  46.2  63.0  ...   7.06  5.23  60.0   26.6  75.4\n",
              "4     2=Fibrosis   40   m  39.0  43.1  ...   9.64  4.20  70.9  127.3  81.3\n",
              "\n",
              "[5 rows x 13 columns]"
            ]
          },
          "metadata": {},
          "execution_count": 26
        }
      ]
    },
    {
      "cell_type": "code",
      "source": [
        "df_train.columns"
      ],
      "metadata": {
        "colab": {
          "base_uri": "https://localhost:8080/"
        },
        "id": "uQKA5OH6hOS2",
        "outputId": "ebc5f1e7-4059-4bcc-9c2a-130a24de057a"
      },
      "execution_count": 28,
      "outputs": [
        {
          "output_type": "execute_result",
          "data": {
            "text/plain": [
              "Index(['Category', 'Age', 'Sex', 'ALB', 'ALP', 'ALT', 'AST', 'BIL', 'CHE',\n",
              "       'CHOL', 'CREA', 'GGT', 'PROT'],\n",
              "      dtype='object')"
            ]
          },
          "metadata": {},
          "execution_count": 28
        }
      ]
    },
    {
      "cell_type": "code",
      "source": [
        "# Create a 'filler' that uses mean of the column\n",
        "mean_filler = SimpleImputer(missing_values = np.nan, strategy='mean')\n",
        "# Must use diff strategy for categorical data (like gender)\n",
        "freq_filler = SimpleImputer(strategy='most_frequent')"
      ],
      "metadata": {
        "id": "pT-WxJZeSfQy"
      },
      "execution_count": 24,
      "outputs": []
    },
    {
      "cell_type": "code",
      "source": [
        "# Fit: computes means for columns - select numerical columns only!\n",
        "mean_filler.fit_transform(df[['Age', 'ALB', 'ALP', 'ALT', 'AST', 'BIL', 'CHE',\n",
        "       'CHOL', 'CREA', 'GGT', 'PROT']])"
      ],
      "metadata": {
        "colab": {
          "base_uri": "https://localhost:8080/"
        },
        "id": "DU8KBtkng_Ot",
        "outputId": "5281701e-18e1-4247-cf8e-1920ce8bdc89"
      },
      "execution_count": 30,
      "outputs": [
        {
          "output_type": "execute_result",
          "data": {
            "text/plain": [
              "array([[ 32.       ,  38.5      ,  52.5      , ..., 106.       ,\n",
              "         12.1      ,  69.       ],\n",
              "       [ 32.       ,  38.5      ,  70.3      , ...,  74.       ,\n",
              "         15.6      ,  76.5      ],\n",
              "       [ 32.       ,  46.9      ,  74.7      , ...,  86.       ,\n",
              "         33.2      ,  79.3      ],\n",
              "       ...,\n",
              "       [ 64.       ,  29.       ,  87.3      , ...,  66.7      ,\n",
              "         64.2      ,  82.       ],\n",
              "       [ 46.       ,  33.       ,  68.2839196, ...,  52.       ,\n",
              "         50.       ,  71.       ],\n",
              "       [ 59.       ,  36.       ,  68.2839196, ...,  67.       ,\n",
              "         34.       ,  68.       ]])"
            ]
          },
          "metadata": {},
          "execution_count": 30
        }
      ]
    },
    {
      "cell_type": "code",
      "source": [
        "# Transform: insert the means for columns with holes\n",
        "mean_filler.fit_transform(X=df_train[['Age', 'ALB', 'ALP', 'ALT', 'AST', 'BIL', 'CHE',\n",
        "       'CHOL', 'CREA', 'GGT', 'PROT']])\n"
      ],
      "metadata": {
        "colab": {
          "base_uri": "https://localhost:8080/"
        },
        "id": "08uUBagEhdAW",
        "outputId": "90012e3f-d623-4925-c2a3-4cde7a808167"
      },
      "execution_count": 36,
      "outputs": [
        {
          "output_type": "execute_result",
          "data": {
            "text/plain": [
              "array([[50. , 39.9, 80.5, ..., 84. , 19.4, 71.2],\n",
              "       [51. , 46.3, 70.5, ..., 69. , 52.2, 78.3],\n",
              "       [41. , 44.7, 74.9, ..., 74. , 23.7, 72.1],\n",
              "       ...,\n",
              "       [37. , 39.2, 58.1, ..., 72. , 15.6, 70.7],\n",
              "       [48. , 37.5, 88.3, ..., 61. , 12.3, 67.9],\n",
              "       [34. , 36.2, 70.9, ..., 65. , 27.4, 74.3]])"
            ]
          },
          "metadata": {},
          "execution_count": 36
        }
      ]
    },
    {
      "cell_type": "code",
      "source": [
        "# Fit the categorical filler\n",
        "freq_filler.fit(X=df_train[['Category', 'Sex']])"
      ],
      "metadata": {
        "colab": {
          "base_uri": "https://localhost:8080/"
        },
        "id": "T8EqeAMxiYDU",
        "outputId": "3157f5b7-5c9b-41f2-e793-ca1b54bc8366"
      },
      "execution_count": 37,
      "outputs": [
        {
          "output_type": "execute_result",
          "data": {
            "text/plain": [
              "SimpleImputer(strategy='most_frequent')"
            ]
          },
          "metadata": {},
          "execution_count": 37
        }
      ]
    },
    {
      "cell_type": "code",
      "source": [
        "# And apply the fitted values to df_train\n",
        "freq_filler.fit_transform(X=df_train[['Category', 'Sex']])"
      ],
      "metadata": {
        "id": "JGHYeW6nh8H9"
      },
      "execution_count": null,
      "outputs": []
    }
  ]
}