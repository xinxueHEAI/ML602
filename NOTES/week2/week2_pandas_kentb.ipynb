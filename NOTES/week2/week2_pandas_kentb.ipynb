{
  "cells": [
    {
      "cell_type": "markdown",
      "metadata": {
        "id": "bgIPZC9sSUGI"
      },
      "source": [
        "# Pandas - Prof. Xin Xue\n",
        "### More binning;  Melting; Pivoting\n",
        "##### 2/14/22\n",
        "\n"
      ]
    },
    {
      "cell_type": "code",
      "execution_count": 206,
      "metadata": {
        "id": "DUY5cr8YSUwA"
      },
      "outputs": [],
      "source": [
        "import pandas as pd\n",
        "import numpy as np"
      ]
    },
    {
      "cell_type": "code",
      "execution_count": 207,
      "metadata": {},
      "outputs": [],
      "source": [
        "np.random.seed(1)"
      ]
    },
    {
      "cell_type": "markdown",
      "metadata": {},
      "source": [
        "Create a 2D array"
      ]
    },
    {
      "cell_type": "code",
      "execution_count": 208,
      "metadata": {
        "colab": {
          "base_uri": "https://localhost:8080/"
        },
        "id": "im1yoJ4x2wm_",
        "outputId": "e8743c2e-1316-488c-8bef-38048be5270b"
      },
      "outputs": [
        {
          "data": {
            "text/plain": [
              "(10000, 2)"
            ]
          },
          "execution_count": 208,
          "metadata": {},
          "output_type": "execute_result"
        }
      ],
      "source": [
        "arr = np.random.multivariate_normal(mean = [1, 0.5],\n",
        "                                    cov = [[1,0],[0,1]], \n",
        "                                    size = 10000)\n",
        "arr.shape"
      ]
    },
    {
      "cell_type": "markdown",
      "metadata": {},
      "source": [
        "Create a Pandas DF:\n",
        "- fill in with the 2D array from earlier\n",
        "- give it col names"
      ]
    },
    {
      "cell_type": "code",
      "execution_count": 209,
      "metadata": {
        "id": "Aoa9qEZD247T"
      },
      "outputs": [
        {
          "data": {
            "text/html": [
              "<div>\n",
              "<style scoped>\n",
              "    .dataframe tbody tr th:only-of-type {\n",
              "        vertical-align: middle;\n",
              "    }\n",
              "\n",
              "    .dataframe tbody tr th {\n",
              "        vertical-align: top;\n",
              "    }\n",
              "\n",
              "    .dataframe thead th {\n",
              "        text-align: right;\n",
              "    }\n",
              "</style>\n",
              "<table border=\"1\" class=\"dataframe\">\n",
              "  <thead>\n",
              "    <tr style=\"text-align: right;\">\n",
              "      <th></th>\n",
              "      <th>x1</th>\n",
              "      <th>x2</th>\n",
              "    </tr>\n",
              "  </thead>\n",
              "  <tbody>\n",
              "    <tr>\n",
              "      <th>0</th>\n",
              "      <td>2.624345</td>\n",
              "      <td>-0.111756</td>\n",
              "    </tr>\n",
              "    <tr>\n",
              "      <th>1</th>\n",
              "      <td>0.471828</td>\n",
              "      <td>-0.572969</td>\n",
              "    </tr>\n",
              "    <tr>\n",
              "      <th>2</th>\n",
              "      <td>1.865408</td>\n",
              "      <td>-1.801539</td>\n",
              "    </tr>\n",
              "    <tr>\n",
              "      <th>3</th>\n",
              "      <td>2.744812</td>\n",
              "      <td>-0.261207</td>\n",
              "    </tr>\n",
              "    <tr>\n",
              "      <th>4</th>\n",
              "      <td>1.319039</td>\n",
              "      <td>0.250630</td>\n",
              "    </tr>\n",
              "  </tbody>\n",
              "</table>\n",
              "</div>"
            ],
            "text/plain": [
              "         x1        x2\n",
              "0  2.624345 -0.111756\n",
              "1  0.471828 -0.572969\n",
              "2  1.865408 -1.801539\n",
              "3  2.744812 -0.261207\n",
              "4  1.319039  0.250630"
            ]
          },
          "execution_count": 209,
          "metadata": {},
          "output_type": "execute_result"
        }
      ],
      "source": [
        "df = pd.DataFrame(arr, columns=['x1','x2'])\n",
        "df.head()"
      ]
    },
    {
      "cell_type": "markdown",
      "metadata": {},
      "source": [
        "# Binning \n",
        "Binning = bucketizing val's into smaller sections\n",
        "- Use the `pd.cut(DF['col'])` command\n",
        "\n",
        "ex) Here we'll be setting the bin boundaries to:\n",
        "- negative infinity\n",
        "- (-1)\n",
        "- 0\n",
        "- 1\n",
        "- positive infinity\n",
        "\n",
        "Reminder: we saw this binning last week"
      ]
    },
    {
      "cell_type": "code",
      "execution_count": 210,
      "metadata": {
        "colab": {
          "base_uri": "https://localhost:8080/"
        },
        "id": "d8Ci0n3q3A8v",
        "outputId": "50b2a7ed-52d8-49fb-b961-ef6dc8e5987c"
      },
      "outputs": [
        {
          "data": {
            "text/plain": [
              "0       4\n",
              "1       3\n",
              "2       4\n",
              "3       4\n",
              "4       4\n",
              "       ..\n",
              "9995    4\n",
              "9996    1\n",
              "9997    4\n",
              "9998    4\n",
              "9999    4\n",
              "Name: x1, Length: 10000, dtype: category\n",
              "Categories (4, int64): [1 < 2 < 3 < 4]"
            ]
          },
          "execution_count": 210,
          "metadata": {},
          "output_type": "execute_result"
        }
      ],
      "source": [
        "pd.cut(df['x1'], \n",
        "       bins = [-np.inf, -1, 0, 1, np.inf], \n",
        "       labels = [1,2,3,4])"
      ]
    },
    {
      "cell_type": "markdown",
      "metadata": {},
      "source": [
        "Another common type of binning using qcut (quartiles)\n",
        "- This bins/cuts into quartiles of 25% each"
      ]
    },
    {
      "cell_type": "code",
      "execution_count": 211,
      "metadata": {
        "id": "12bU3L6G3S3F"
      },
      "outputs": [
        {
          "data": {
            "text/html": [
              "<div>\n",
              "<style scoped>\n",
              "    .dataframe tbody tr th:only-of-type {\n",
              "        vertical-align: middle;\n",
              "    }\n",
              "\n",
              "    .dataframe tbody tr th {\n",
              "        vertical-align: top;\n",
              "    }\n",
              "\n",
              "    .dataframe thead th {\n",
              "        text-align: right;\n",
              "    }\n",
              "</style>\n",
              "<table border=\"1\" class=\"dataframe\">\n",
              "  <thead>\n",
              "    <tr style=\"text-align: right;\">\n",
              "      <th></th>\n",
              "      <th>x1</th>\n",
              "      <th>x2</th>\n",
              "      <th>quartile_x1</th>\n",
              "    </tr>\n",
              "  </thead>\n",
              "  <tbody>\n",
              "    <tr>\n",
              "      <th>0</th>\n",
              "      <td>2.624345</td>\n",
              "      <td>-0.111756</td>\n",
              "      <td>4th_quartile</td>\n",
              "    </tr>\n",
              "    <tr>\n",
              "      <th>1</th>\n",
              "      <td>0.471828</td>\n",
              "      <td>-0.572969</td>\n",
              "      <td>2nd_quartile</td>\n",
              "    </tr>\n",
              "    <tr>\n",
              "      <th>2</th>\n",
              "      <td>1.865408</td>\n",
              "      <td>-1.801539</td>\n",
              "      <td>4th_quartile</td>\n",
              "    </tr>\n",
              "    <tr>\n",
              "      <th>3</th>\n",
              "      <td>2.744812</td>\n",
              "      <td>-0.261207</td>\n",
              "      <td>4th_quartile</td>\n",
              "    </tr>\n",
              "    <tr>\n",
              "      <th>4</th>\n",
              "      <td>1.319039</td>\n",
              "      <td>0.250630</td>\n",
              "      <td>3rd_quartile</td>\n",
              "    </tr>\n",
              "  </tbody>\n",
              "</table>\n",
              "</div>"
            ],
            "text/plain": [
              "         x1        x2   quartile_x1\n",
              "0  2.624345 -0.111756  4th_quartile\n",
              "1  0.471828 -0.572969  2nd_quartile\n",
              "2  1.865408 -1.801539  4th_quartile\n",
              "3  2.744812 -0.261207  4th_quartile\n",
              "4  1.319039  0.250630  3rd_quartile"
            ]
          },
          "execution_count": 211,
          "metadata": {},
          "output_type": "execute_result"
        }
      ],
      "source": [
        "df['quartile_x1'] = pd.qcut(df['x1'], \n",
        "                            q = [0, 0.25, 0.50, 0.75, 1], \n",
        "                            labels = ['1st_quartile',\n",
        "                                      '2nd_quartile',\n",
        "                                      '3rd_quartile',\n",
        "                                      '4th_quartile'])\n",
        "df.head()"
      ]
    },
    {
      "cell_type": "markdown",
      "metadata": {},
      "source": [
        "# Group by related\n",
        "Group by quartile_x1 \n",
        "- Get means and STD of x2 col\n",
        "- agg = aggregate computations of: mean and std \n",
        "- can also use 'apply' instead"
      ]
    },
    {
      "cell_type": "code",
      "execution_count": 212,
      "metadata": {
        "colab": {
          "base_uri": "https://localhost:8080/",
          "height": 175
        },
        "id": "TIASwsE54Gzt",
        "outputId": "1b92bb24-9a09-4b38-8a60-b66454b64a99"
      },
      "outputs": [
        {
          "data": {
            "text/html": [
              "<div>\n",
              "<style scoped>\n",
              "    .dataframe tbody tr th:only-of-type {\n",
              "        vertical-align: middle;\n",
              "    }\n",
              "\n",
              "    .dataframe tbody tr th {\n",
              "        vertical-align: top;\n",
              "    }\n",
              "\n",
              "    .dataframe thead th {\n",
              "        text-align: right;\n",
              "    }\n",
              "</style>\n",
              "<table border=\"1\" class=\"dataframe\">\n",
              "  <thead>\n",
              "    <tr style=\"text-align: right;\">\n",
              "      <th></th>\n",
              "      <th>quartile_x1</th>\n",
              "      <th>mean</th>\n",
              "      <th>std</th>\n",
              "    </tr>\n",
              "  </thead>\n",
              "  <tbody>\n",
              "    <tr>\n",
              "      <th>0</th>\n",
              "      <td>1st_quartile</td>\n",
              "      <td>0.530831</td>\n",
              "      <td>1.005354</td>\n",
              "    </tr>\n",
              "    <tr>\n",
              "      <th>1</th>\n",
              "      <td>2nd_quartile</td>\n",
              "      <td>0.474668</td>\n",
              "      <td>0.984340</td>\n",
              "    </tr>\n",
              "    <tr>\n",
              "      <th>2</th>\n",
              "      <td>3rd_quartile</td>\n",
              "      <td>0.518893</td>\n",
              "      <td>1.006167</td>\n",
              "    </tr>\n",
              "    <tr>\n",
              "      <th>3</th>\n",
              "      <td>4th_quartile</td>\n",
              "      <td>0.481867</td>\n",
              "      <td>0.981813</td>\n",
              "    </tr>\n",
              "  </tbody>\n",
              "</table>\n",
              "</div>"
            ],
            "text/plain": [
              "    quartile_x1      mean       std\n",
              "0  1st_quartile  0.530831  1.005354\n",
              "1  2nd_quartile  0.474668  0.984340\n",
              "2  3rd_quartile  0.518893  1.006167\n",
              "3  4th_quartile  0.481867  0.981813"
            ]
          },
          "execution_count": 212,
          "metadata": {},
          "output_type": "execute_result"
        }
      ],
      "source": [
        "df.groupby(['quartile_x1'])['x2'].agg(['mean','std']).reset_index()"
      ]
    },
    {
      "cell_type": "markdown",
      "metadata": {},
      "source": [
        "This adds in variance to the aggregate function"
      ]
    },
    {
      "cell_type": "code",
      "execution_count": 213,
      "metadata": {
        "colab": {
          "base_uri": "https://localhost:8080/",
          "height": 238
        },
        "id": "aU1KpoPu4q91",
        "outputId": "c1e76c85-74cb-4339-d434-e703e691d387"
      },
      "outputs": [
        {
          "data": {
            "text/html": [
              "<div>\n",
              "<style scoped>\n",
              "    .dataframe tbody tr th:only-of-type {\n",
              "        vertical-align: middle;\n",
              "    }\n",
              "\n",
              "    .dataframe tbody tr th {\n",
              "        vertical-align: top;\n",
              "    }\n",
              "\n",
              "    .dataframe thead tr th {\n",
              "        text-align: left;\n",
              "    }\n",
              "\n",
              "    .dataframe thead tr:last-of-type th {\n",
              "        text-align: right;\n",
              "    }\n",
              "</style>\n",
              "<table border=\"1\" class=\"dataframe\">\n",
              "  <thead>\n",
              "    <tr>\n",
              "      <th></th>\n",
              "      <th>x1</th>\n",
              "      <th colspan=\"2\" halign=\"left\">x2</th>\n",
              "    </tr>\n",
              "    <tr>\n",
              "      <th></th>\n",
              "      <th>mean</th>\n",
              "      <th>std</th>\n",
              "      <th>var</th>\n",
              "    </tr>\n",
              "    <tr>\n",
              "      <th>quartile_x1</th>\n",
              "      <th></th>\n",
              "      <th></th>\n",
              "      <th></th>\n",
              "    </tr>\n",
              "  </thead>\n",
              "  <tbody>\n",
              "    <tr>\n",
              "      <th>1st_quartile</th>\n",
              "      <td>-0.263848</td>\n",
              "      <td>1.005354</td>\n",
              "      <td>1.010736</td>\n",
              "    </tr>\n",
              "    <tr>\n",
              "      <th>2nd_quartile</th>\n",
              "      <td>0.693346</td>\n",
              "      <td>0.984340</td>\n",
              "      <td>0.968924</td>\n",
              "    </tr>\n",
              "    <tr>\n",
              "      <th>3rd_quartile</th>\n",
              "      <td>1.351169</td>\n",
              "      <td>1.006167</td>\n",
              "      <td>1.012371</td>\n",
              "    </tr>\n",
              "    <tr>\n",
              "      <th>4th_quartile</th>\n",
              "      <td>2.289905</td>\n",
              "      <td>0.981813</td>\n",
              "      <td>0.963957</td>\n",
              "    </tr>\n",
              "  </tbody>\n",
              "</table>\n",
              "</div>"
            ],
            "text/plain": [
              "                    x1        x2          \n",
              "                  mean       std       var\n",
              "quartile_x1                               \n",
              "1st_quartile -0.263848  1.005354  1.010736\n",
              "2nd_quartile  0.693346  0.984340  0.968924\n",
              "3rd_quartile  1.351169  1.006167  1.012371\n",
              "4th_quartile  2.289905  0.981813  0.963957"
            ]
          },
          "execution_count": 213,
          "metadata": {},
          "output_type": "execute_result"
        }
      ],
      "source": [
        "df.groupby(['quartile_x1']).agg({'x1':'mean','x2':['std','var']})"
      ]
    },
    {
      "cell_type": "markdown",
      "metadata": {},
      "source": [
        "For transform you can do whatever User Defined Function (UDF) you want\n",
        "- Here we use `mean` \n",
        "- Transform changes it into a col of the original DF\n",
        "\n",
        "This just pulls that group mean value into the DF as a column:\n",
        "- NOTE: it repeats the same value per quartile"
      ]
    },
    {
      "cell_type": "code",
      "execution_count": 214,
      "metadata": {
        "id": "n1rAiayy5GjZ"
      },
      "outputs": [
        {
          "data": {
            "text/html": [
              "<div>\n",
              "<style scoped>\n",
              "    .dataframe tbody tr th:only-of-type {\n",
              "        vertical-align: middle;\n",
              "    }\n",
              "\n",
              "    .dataframe tbody tr th {\n",
              "        vertical-align: top;\n",
              "    }\n",
              "\n",
              "    .dataframe thead th {\n",
              "        text-align: right;\n",
              "    }\n",
              "</style>\n",
              "<table border=\"1\" class=\"dataframe\">\n",
              "  <thead>\n",
              "    <tr style=\"text-align: right;\">\n",
              "      <th></th>\n",
              "      <th>x1</th>\n",
              "      <th>x2</th>\n",
              "      <th>quartile_x1</th>\n",
              "      <th>mean_x2_by_qx1</th>\n",
              "    </tr>\n",
              "  </thead>\n",
              "  <tbody>\n",
              "    <tr>\n",
              "      <th>0</th>\n",
              "      <td>2.624345</td>\n",
              "      <td>-0.111756</td>\n",
              "      <td>4th_quartile</td>\n",
              "      <td>0.481867</td>\n",
              "    </tr>\n",
              "    <tr>\n",
              "      <th>1</th>\n",
              "      <td>0.471828</td>\n",
              "      <td>-0.572969</td>\n",
              "      <td>2nd_quartile</td>\n",
              "      <td>0.474668</td>\n",
              "    </tr>\n",
              "    <tr>\n",
              "      <th>2</th>\n",
              "      <td>1.865408</td>\n",
              "      <td>-1.801539</td>\n",
              "      <td>4th_quartile</td>\n",
              "      <td>0.481867</td>\n",
              "    </tr>\n",
              "    <tr>\n",
              "      <th>3</th>\n",
              "      <td>2.744812</td>\n",
              "      <td>-0.261207</td>\n",
              "      <td>4th_quartile</td>\n",
              "      <td>0.481867</td>\n",
              "    </tr>\n",
              "    <tr>\n",
              "      <th>4</th>\n",
              "      <td>1.319039</td>\n",
              "      <td>0.250630</td>\n",
              "      <td>3rd_quartile</td>\n",
              "      <td>0.518893</td>\n",
              "    </tr>\n",
              "    <tr>\n",
              "      <th>...</th>\n",
              "      <td>...</td>\n",
              "      <td>...</td>\n",
              "      <td>...</td>\n",
              "      <td>...</td>\n",
              "    </tr>\n",
              "    <tr>\n",
              "      <th>9995</th>\n",
              "      <td>1.383964</td>\n",
              "      <td>-0.318778</td>\n",
              "      <td>3rd_quartile</td>\n",
              "      <td>0.518893</td>\n",
              "    </tr>\n",
              "    <tr>\n",
              "      <th>9996</th>\n",
              "      <td>-1.124622</td>\n",
              "      <td>-0.921937</td>\n",
              "      <td>1st_quartile</td>\n",
              "      <td>0.530831</td>\n",
              "    </tr>\n",
              "    <tr>\n",
              "      <th>9997</th>\n",
              "      <td>2.109570</td>\n",
              "      <td>-0.443208</td>\n",
              "      <td>4th_quartile</td>\n",
              "      <td>0.481867</td>\n",
              "    </tr>\n",
              "    <tr>\n",
              "      <th>9998</th>\n",
              "      <td>1.782216</td>\n",
              "      <td>2.908434</td>\n",
              "      <td>4th_quartile</td>\n",
              "      <td>0.481867</td>\n",
              "    </tr>\n",
              "    <tr>\n",
              "      <th>9999</th>\n",
              "      <td>1.882786</td>\n",
              "      <td>0.400404</td>\n",
              "      <td>4th_quartile</td>\n",
              "      <td>0.481867</td>\n",
              "    </tr>\n",
              "  </tbody>\n",
              "</table>\n",
              "<p>10000 rows × 4 columns</p>\n",
              "</div>"
            ],
            "text/plain": [
              "            x1        x2   quartile_x1  mean_x2_by_qx1\n",
              "0     2.624345 -0.111756  4th_quartile        0.481867\n",
              "1     0.471828 -0.572969  2nd_quartile        0.474668\n",
              "2     1.865408 -1.801539  4th_quartile        0.481867\n",
              "3     2.744812 -0.261207  4th_quartile        0.481867\n",
              "4     1.319039  0.250630  3rd_quartile        0.518893\n",
              "...        ...       ...           ...             ...\n",
              "9995  1.383964 -0.318778  3rd_quartile        0.518893\n",
              "9996 -1.124622 -0.921937  1st_quartile        0.530831\n",
              "9997  2.109570 -0.443208  4th_quartile        0.481867\n",
              "9998  1.782216  2.908434  4th_quartile        0.481867\n",
              "9999  1.882786  0.400404  4th_quartile        0.481867\n",
              "\n",
              "[10000 rows x 4 columns]"
            ]
          },
          "execution_count": 214,
          "metadata": {},
          "output_type": "execute_result"
        }
      ],
      "source": [
        "df['mean_x2_by_qx1'] = df.groupby(['quartile_x1'])['x2'].transform('mean')\n",
        "df"
      ]
    },
    {
      "cell_type": "markdown",
      "metadata": {},
      "source": [
        "QUESTION) \n",
        "- Want to compute x2 / sum(x2) within each bucket\n",
        "\n",
        "ANSWER #1)"
      ]
    },
    {
      "cell_type": "code",
      "execution_count": 215,
      "metadata": {
        "id": "X1LdoEHc5uOy"
      },
      "outputs": [
        {
          "data": {
            "text/html": [
              "<div>\n",
              "<style scoped>\n",
              "    .dataframe tbody tr th:only-of-type {\n",
              "        vertical-align: middle;\n",
              "    }\n",
              "\n",
              "    .dataframe tbody tr th {\n",
              "        vertical-align: top;\n",
              "    }\n",
              "\n",
              "    .dataframe thead th {\n",
              "        text-align: right;\n",
              "    }\n",
              "</style>\n",
              "<table border=\"1\" class=\"dataframe\">\n",
              "  <thead>\n",
              "    <tr style=\"text-align: right;\">\n",
              "      <th></th>\n",
              "      <th>x1</th>\n",
              "      <th>x2</th>\n",
              "      <th>quartile_x1</th>\n",
              "      <th>mean_x2_by_qx1</th>\n",
              "      <th>sum_x2_by_qx1</th>\n",
              "      <th>ratio_x2_to_sumx2</th>\n",
              "    </tr>\n",
              "  </thead>\n",
              "  <tbody>\n",
              "    <tr>\n",
              "      <th>0</th>\n",
              "      <td>2.624345</td>\n",
              "      <td>-0.111756</td>\n",
              "      <td>4th_quartile</td>\n",
              "      <td>0.481867</td>\n",
              "      <td>1204.667016</td>\n",
              "      <td>-0.000093</td>\n",
              "    </tr>\n",
              "    <tr>\n",
              "      <th>1</th>\n",
              "      <td>0.471828</td>\n",
              "      <td>-0.572969</td>\n",
              "      <td>2nd_quartile</td>\n",
              "      <td>0.474668</td>\n",
              "      <td>1186.669886</td>\n",
              "      <td>-0.000483</td>\n",
              "    </tr>\n",
              "    <tr>\n",
              "      <th>2</th>\n",
              "      <td>1.865408</td>\n",
              "      <td>-1.801539</td>\n",
              "      <td>4th_quartile</td>\n",
              "      <td>0.481867</td>\n",
              "      <td>1204.667016</td>\n",
              "      <td>-0.001495</td>\n",
              "    </tr>\n",
              "    <tr>\n",
              "      <th>3</th>\n",
              "      <td>2.744812</td>\n",
              "      <td>-0.261207</td>\n",
              "      <td>4th_quartile</td>\n",
              "      <td>0.481867</td>\n",
              "      <td>1204.667016</td>\n",
              "      <td>-0.000217</td>\n",
              "    </tr>\n",
              "    <tr>\n",
              "      <th>4</th>\n",
              "      <td>1.319039</td>\n",
              "      <td>0.250630</td>\n",
              "      <td>3rd_quartile</td>\n",
              "      <td>0.518893</td>\n",
              "      <td>1297.233311</td>\n",
              "      <td>0.000193</td>\n",
              "    </tr>\n",
              "    <tr>\n",
              "      <th>...</th>\n",
              "      <td>...</td>\n",
              "      <td>...</td>\n",
              "      <td>...</td>\n",
              "      <td>...</td>\n",
              "      <td>...</td>\n",
              "      <td>...</td>\n",
              "    </tr>\n",
              "    <tr>\n",
              "      <th>9995</th>\n",
              "      <td>1.383964</td>\n",
              "      <td>-0.318778</td>\n",
              "      <td>3rd_quartile</td>\n",
              "      <td>0.518893</td>\n",
              "      <td>1297.233311</td>\n",
              "      <td>-0.000246</td>\n",
              "    </tr>\n",
              "    <tr>\n",
              "      <th>9996</th>\n",
              "      <td>-1.124622</td>\n",
              "      <td>-0.921937</td>\n",
              "      <td>1st_quartile</td>\n",
              "      <td>0.530831</td>\n",
              "      <td>1327.078695</td>\n",
              "      <td>-0.000695</td>\n",
              "    </tr>\n",
              "    <tr>\n",
              "      <th>9997</th>\n",
              "      <td>2.109570</td>\n",
              "      <td>-0.443208</td>\n",
              "      <td>4th_quartile</td>\n",
              "      <td>0.481867</td>\n",
              "      <td>1204.667016</td>\n",
              "      <td>-0.000368</td>\n",
              "    </tr>\n",
              "    <tr>\n",
              "      <th>9998</th>\n",
              "      <td>1.782216</td>\n",
              "      <td>2.908434</td>\n",
              "      <td>4th_quartile</td>\n",
              "      <td>0.481867</td>\n",
              "      <td>1204.667016</td>\n",
              "      <td>0.002414</td>\n",
              "    </tr>\n",
              "    <tr>\n",
              "      <th>9999</th>\n",
              "      <td>1.882786</td>\n",
              "      <td>0.400404</td>\n",
              "      <td>4th_quartile</td>\n",
              "      <td>0.481867</td>\n",
              "      <td>1204.667016</td>\n",
              "      <td>0.000332</td>\n",
              "    </tr>\n",
              "  </tbody>\n",
              "</table>\n",
              "<p>10000 rows × 6 columns</p>\n",
              "</div>"
            ],
            "text/plain": [
              "            x1        x2   quartile_x1  mean_x2_by_qx1  sum_x2_by_qx1  \\\n",
              "0     2.624345 -0.111756  4th_quartile        0.481867    1204.667016   \n",
              "1     0.471828 -0.572969  2nd_quartile        0.474668    1186.669886   \n",
              "2     1.865408 -1.801539  4th_quartile        0.481867    1204.667016   \n",
              "3     2.744812 -0.261207  4th_quartile        0.481867    1204.667016   \n",
              "4     1.319039  0.250630  3rd_quartile        0.518893    1297.233311   \n",
              "...        ...       ...           ...             ...            ...   \n",
              "9995  1.383964 -0.318778  3rd_quartile        0.518893    1297.233311   \n",
              "9996 -1.124622 -0.921937  1st_quartile        0.530831    1327.078695   \n",
              "9997  2.109570 -0.443208  4th_quartile        0.481867    1204.667016   \n",
              "9998  1.782216  2.908434  4th_quartile        0.481867    1204.667016   \n",
              "9999  1.882786  0.400404  4th_quartile        0.481867    1204.667016   \n",
              "\n",
              "      ratio_x2_to_sumx2  \n",
              "0             -0.000093  \n",
              "1             -0.000483  \n",
              "2             -0.001495  \n",
              "3             -0.000217  \n",
              "4              0.000193  \n",
              "...                 ...  \n",
              "9995          -0.000246  \n",
              "9996          -0.000695  \n",
              "9997          -0.000368  \n",
              "9998           0.002414  \n",
              "9999           0.000332  \n",
              "\n",
              "[10000 rows x 6 columns]"
            ]
          },
          "execution_count": 215,
          "metadata": {},
          "output_type": "execute_result"
        }
      ],
      "source": [
        "df['sum_x2_by_qx1'] = df.groupby(['quartile_x1'])['x2'].transform('sum')\n",
        "\n",
        "df['ratio_x2_to_sumx2'] = df['x2'] / df['sum_x2_by_qx1']\n",
        "\n",
        "df"
      ]
    },
    {
      "cell_type": "markdown",
      "metadata": {},
      "source": [
        "ANSWER #2) \n",
        "\n",
        "- Another way to compute x2 / sum(x2)  within each bucket"
      ]
    },
    {
      "cell_type": "code",
      "execution_count": 216,
      "metadata": {
        "id": "DJpe8hTA6eNK"
      },
      "outputs": [],
      "source": [
        "udf_ratio = lambda x: x/x.sum()\n",
        "\n",
        "# Lambda is the same as defining this func:\n",
        "# def udf_ratio(x): \n",
        "#   return x/x.sum()"
      ]
    },
    {
      "cell_type": "code",
      "execution_count": 217,
      "metadata": {
        "id": "Ey3YuGek6mcq"
      },
      "outputs": [
        {
          "data": {
            "text/html": [
              "<div>\n",
              "<style scoped>\n",
              "    .dataframe tbody tr th:only-of-type {\n",
              "        vertical-align: middle;\n",
              "    }\n",
              "\n",
              "    .dataframe tbody tr th {\n",
              "        vertical-align: top;\n",
              "    }\n",
              "\n",
              "    .dataframe thead th {\n",
              "        text-align: right;\n",
              "    }\n",
              "</style>\n",
              "<table border=\"1\" class=\"dataframe\">\n",
              "  <thead>\n",
              "    <tr style=\"text-align: right;\">\n",
              "      <th></th>\n",
              "      <th>x1</th>\n",
              "      <th>x2</th>\n",
              "      <th>quartile_x1</th>\n",
              "      <th>mean_x2_by_qx1</th>\n",
              "      <th>sum_x2_by_qx1</th>\n",
              "      <th>ratio_x2_to_sumx2</th>\n",
              "    </tr>\n",
              "  </thead>\n",
              "  <tbody>\n",
              "    <tr>\n",
              "      <th>0</th>\n",
              "      <td>2.624345</td>\n",
              "      <td>-0.111756</td>\n",
              "      <td>4th_quartile</td>\n",
              "      <td>0.481867</td>\n",
              "      <td>1204.667016</td>\n",
              "      <td>-0.000093</td>\n",
              "    </tr>\n",
              "    <tr>\n",
              "      <th>1</th>\n",
              "      <td>0.471828</td>\n",
              "      <td>-0.572969</td>\n",
              "      <td>2nd_quartile</td>\n",
              "      <td>0.474668</td>\n",
              "      <td>1186.669886</td>\n",
              "      <td>-0.000483</td>\n",
              "    </tr>\n",
              "    <tr>\n",
              "      <th>2</th>\n",
              "      <td>1.865408</td>\n",
              "      <td>-1.801539</td>\n",
              "      <td>4th_quartile</td>\n",
              "      <td>0.481867</td>\n",
              "      <td>1204.667016</td>\n",
              "      <td>-0.001495</td>\n",
              "    </tr>\n",
              "    <tr>\n",
              "      <th>3</th>\n",
              "      <td>2.744812</td>\n",
              "      <td>-0.261207</td>\n",
              "      <td>4th_quartile</td>\n",
              "      <td>0.481867</td>\n",
              "      <td>1204.667016</td>\n",
              "      <td>-0.000217</td>\n",
              "    </tr>\n",
              "    <tr>\n",
              "      <th>4</th>\n",
              "      <td>1.319039</td>\n",
              "      <td>0.250630</td>\n",
              "      <td>3rd_quartile</td>\n",
              "      <td>0.518893</td>\n",
              "      <td>1297.233311</td>\n",
              "      <td>0.000193</td>\n",
              "    </tr>\n",
              "    <tr>\n",
              "      <th>...</th>\n",
              "      <td>...</td>\n",
              "      <td>...</td>\n",
              "      <td>...</td>\n",
              "      <td>...</td>\n",
              "      <td>...</td>\n",
              "      <td>...</td>\n",
              "    </tr>\n",
              "    <tr>\n",
              "      <th>9995</th>\n",
              "      <td>1.383964</td>\n",
              "      <td>-0.318778</td>\n",
              "      <td>3rd_quartile</td>\n",
              "      <td>0.518893</td>\n",
              "      <td>1297.233311</td>\n",
              "      <td>-0.000246</td>\n",
              "    </tr>\n",
              "    <tr>\n",
              "      <th>9996</th>\n",
              "      <td>-1.124622</td>\n",
              "      <td>-0.921937</td>\n",
              "      <td>1st_quartile</td>\n",
              "      <td>0.530831</td>\n",
              "      <td>1327.078695</td>\n",
              "      <td>-0.000695</td>\n",
              "    </tr>\n",
              "    <tr>\n",
              "      <th>9997</th>\n",
              "      <td>2.109570</td>\n",
              "      <td>-0.443208</td>\n",
              "      <td>4th_quartile</td>\n",
              "      <td>0.481867</td>\n",
              "      <td>1204.667016</td>\n",
              "      <td>-0.000368</td>\n",
              "    </tr>\n",
              "    <tr>\n",
              "      <th>9998</th>\n",
              "      <td>1.782216</td>\n",
              "      <td>2.908434</td>\n",
              "      <td>4th_quartile</td>\n",
              "      <td>0.481867</td>\n",
              "      <td>1204.667016</td>\n",
              "      <td>0.002414</td>\n",
              "    </tr>\n",
              "    <tr>\n",
              "      <th>9999</th>\n",
              "      <td>1.882786</td>\n",
              "      <td>0.400404</td>\n",
              "      <td>4th_quartile</td>\n",
              "      <td>0.481867</td>\n",
              "      <td>1204.667016</td>\n",
              "      <td>0.000332</td>\n",
              "    </tr>\n",
              "  </tbody>\n",
              "</table>\n",
              "<p>10000 rows × 6 columns</p>\n",
              "</div>"
            ],
            "text/plain": [
              "            x1        x2   quartile_x1  mean_x2_by_qx1  sum_x2_by_qx1  \\\n",
              "0     2.624345 -0.111756  4th_quartile        0.481867    1204.667016   \n",
              "1     0.471828 -0.572969  2nd_quartile        0.474668    1186.669886   \n",
              "2     1.865408 -1.801539  4th_quartile        0.481867    1204.667016   \n",
              "3     2.744812 -0.261207  4th_quartile        0.481867    1204.667016   \n",
              "4     1.319039  0.250630  3rd_quartile        0.518893    1297.233311   \n",
              "...        ...       ...           ...             ...            ...   \n",
              "9995  1.383964 -0.318778  3rd_quartile        0.518893    1297.233311   \n",
              "9996 -1.124622 -0.921937  1st_quartile        0.530831    1327.078695   \n",
              "9997  2.109570 -0.443208  4th_quartile        0.481867    1204.667016   \n",
              "9998  1.782216  2.908434  4th_quartile        0.481867    1204.667016   \n",
              "9999  1.882786  0.400404  4th_quartile        0.481867    1204.667016   \n",
              "\n",
              "      ratio_x2_to_sumx2  \n",
              "0             -0.000093  \n",
              "1             -0.000483  \n",
              "2             -0.001495  \n",
              "3             -0.000217  \n",
              "4              0.000193  \n",
              "...                 ...  \n",
              "9995          -0.000246  \n",
              "9996          -0.000695  \n",
              "9997          -0.000368  \n",
              "9998           0.002414  \n",
              "9999           0.000332  \n",
              "\n",
              "[10000 rows x 6 columns]"
            ]
          },
          "execution_count": 217,
          "metadata": {},
          "output_type": "execute_result"
        }
      ],
      "source": [
        "df['ratio_x2_to_sumx2'] = df.groupby(['quartile_x1'])['x2'].apply(udf_ratio)\n",
        "df"
      ]
    },
    {
      "cell_type": "markdown",
      "metadata": {},
      "source": [
        "Let's create a new DF for family spending"
      ]
    },
    {
      "cell_type": "code",
      "execution_count": 218,
      "metadata": {
        "id": "ZPUMXJQM6xtY"
      },
      "outputs": [
        {
          "data": {
            "text/html": [
              "<div>\n",
              "<style scoped>\n",
              "    .dataframe tbody tr th:only-of-type {\n",
              "        vertical-align: middle;\n",
              "    }\n",
              "\n",
              "    .dataframe tbody tr th {\n",
              "        vertical-align: top;\n",
              "    }\n",
              "\n",
              "    .dataframe thead th {\n",
              "        text-align: right;\n",
              "    }\n",
              "</style>\n",
              "<table border=\"1\" class=\"dataframe\">\n",
              "  <thead>\n",
              "    <tr style=\"text-align: right;\">\n",
              "      <th></th>\n",
              "      <th>family</th>\n",
              "      <th>gender</th>\n",
              "      <th>spend</th>\n",
              "    </tr>\n",
              "  </thead>\n",
              "  <tbody>\n",
              "    <tr>\n",
              "      <th>0</th>\n",
              "      <td>1</td>\n",
              "      <td>0</td>\n",
              "      <td>50</td>\n",
              "    </tr>\n",
              "    <tr>\n",
              "      <th>1</th>\n",
              "      <td>1</td>\n",
              "      <td>1</td>\n",
              "      <td>100</td>\n",
              "    </tr>\n",
              "    <tr>\n",
              "      <th>2</th>\n",
              "      <td>2</td>\n",
              "      <td>0</td>\n",
              "      <td>75</td>\n",
              "    </tr>\n",
              "    <tr>\n",
              "      <th>3</th>\n",
              "      <td>2</td>\n",
              "      <td>1</td>\n",
              "      <td>80</td>\n",
              "    </tr>\n",
              "  </tbody>\n",
              "</table>\n",
              "</div>"
            ],
            "text/plain": [
              "   family  gender  spend\n",
              "0       1       0     50\n",
              "1       1       1    100\n",
              "2       2       0     75\n",
              "3       2       1     80"
            ]
          },
          "execution_count": 218,
          "metadata": {},
          "output_type": "execute_result"
        }
      ],
      "source": [
        "consumption = {'family': [1,1,2,2],\n",
        "               'gender': [0,1,0,1],\n",
        "               'spend': [50, 100, 75, 80]}\n",
        "df_spend = pd.DataFrame(consumption)\n",
        "df_spend"
      ]
    },
    {
      "cell_type": "markdown",
      "metadata": {},
      "source": [
        "Q) How much does each person's spending account for w/in each family?"
      ]
    },
    {
      "cell_type": "markdown",
      "metadata": {},
      "source": [
        "- `udf_ratio = lambda x: x/x.sum()`\n",
        "\n",
        "The UDF ratio (from above) is calculating the spend w/in each GROUP, then dividing by the sum \n",
        "\n",
        "    - Essentially, this gives the % of your spend in each group"
      ]
    },
    {
      "cell_type": "markdown",
      "metadata": {},
      "source": [
        "Calculate each person's portion of the family spending"
      ]
    },
    {
      "cell_type": "code",
      "execution_count": 219,
      "metadata": {
        "colab": {
          "base_uri": "https://localhost:8080/",
          "height": 175
        },
        "id": "H52ue8MW7IKU",
        "outputId": "f5c34ee2-2ed3-4e32-870d-d3265a370d0c"
      },
      "outputs": [
        {
          "data": {
            "text/html": [
              "<div>\n",
              "<style scoped>\n",
              "    .dataframe tbody tr th:only-of-type {\n",
              "        vertical-align: middle;\n",
              "    }\n",
              "\n",
              "    .dataframe tbody tr th {\n",
              "        vertical-align: top;\n",
              "    }\n",
              "\n",
              "    .dataframe thead th {\n",
              "        text-align: right;\n",
              "    }\n",
              "</style>\n",
              "<table border=\"1\" class=\"dataframe\">\n",
              "  <thead>\n",
              "    <tr style=\"text-align: right;\">\n",
              "      <th></th>\n",
              "      <th>family</th>\n",
              "      <th>gender</th>\n",
              "      <th>spend</th>\n",
              "      <th>ratio</th>\n",
              "    </tr>\n",
              "  </thead>\n",
              "  <tbody>\n",
              "    <tr>\n",
              "      <th>0</th>\n",
              "      <td>1</td>\n",
              "      <td>0</td>\n",
              "      <td>50</td>\n",
              "      <td>0.333333</td>\n",
              "    </tr>\n",
              "    <tr>\n",
              "      <th>1</th>\n",
              "      <td>1</td>\n",
              "      <td>1</td>\n",
              "      <td>100</td>\n",
              "      <td>0.666667</td>\n",
              "    </tr>\n",
              "    <tr>\n",
              "      <th>2</th>\n",
              "      <td>2</td>\n",
              "      <td>0</td>\n",
              "      <td>75</td>\n",
              "      <td>0.483871</td>\n",
              "    </tr>\n",
              "    <tr>\n",
              "      <th>3</th>\n",
              "      <td>2</td>\n",
              "      <td>1</td>\n",
              "      <td>80</td>\n",
              "      <td>0.516129</td>\n",
              "    </tr>\n",
              "  </tbody>\n",
              "</table>\n",
              "</div>"
            ],
            "text/plain": [
              "   family  gender  spend     ratio\n",
              "0       1       0     50  0.333333\n",
              "1       1       1    100  0.666667\n",
              "2       2       0     75  0.483871\n",
              "3       2       1     80  0.516129"
            ]
          },
          "execution_count": 219,
          "metadata": {},
          "output_type": "execute_result"
        }
      ],
      "source": [
        "df_spend['ratio'] = df_spend.groupby('family')['spend'].apply(udf_ratio)\n",
        "df_spend"
      ]
    },
    {
      "cell_type": "markdown",
      "metadata": {
        "id": "BbqlHIX48zIS"
      },
      "source": [
        "# Melt and Pivot\n",
        "\n",
        "Perform opposite / complementary functions:\n",
        "\n",
        "\n",
        "*   melt transforms from wide to long\n",
        "*  pivot transforms from long to wide\n",
        "\n"
      ]
    },
    {
      "cell_type": "code",
      "execution_count": 220,
      "metadata": {
        "id": "D1RkfYyF82M5"
      },
      "outputs": [],
      "source": [
        "# Let's pare the table back down to just 2 columns\n",
        "df = df[['x1','x2']]"
      ]
    },
    {
      "cell_type": "markdown",
      "metadata": {
        "id": "G3PWHeX3H4Gb"
      },
      "source": [
        "### Widen table\n",
        "\n",
        "...by adding a couple columns"
      ]
    },
    {
      "cell_type": "code",
      "execution_count": 221,
      "metadata": {
        "id": "ztWBoiTE9L9f"
      },
      "outputs": [
        {
          "name": "stderr",
          "output_type": "stream",
          "text": [
            "C:\\Users\\GladOS\\AppData\\Local\\Temp/ipykernel_7664/2671711727.py:8: SettingWithCopyWarning: \n",
            "A value is trying to be set on a copy of a slice from a DataFrame.\n",
            "Try using .loc[row_indexer,col_indexer] = value instead\n",
            "\n",
            "See the caveats in the documentation: https://pandas.pydata.org/pandas-docs/stable/user_guide/indexing.html#returning-a-view-versus-a-copy\n",
            "  df['x3'] = df.loc[:, 'x1'] + df.loc[:, 'x2']\n",
            "C:\\Users\\GladOS\\AppData\\Local\\Temp/ipykernel_7664/2671711727.py:9: SettingWithCopyWarning: \n",
            "A value is trying to be set on a copy of a slice from a DataFrame.\n",
            "Try using .loc[row_indexer,col_indexer] = value instead\n",
            "\n",
            "See the caveats in the documentation: https://pandas.pydata.org/pandas-docs/stable/user_guide/indexing.html#returning-a-view-versus-a-copy\n",
            "  df['x4'] = df.loc[:,'x1'] * df.loc[:,'x2']\n"
          ]
        }
      ],
      "source": [
        "# Following gives a 'SettingWithCopyWarning' warning:\n",
        "#    \"A value is trying to be set on a copy of a slice....\"\n",
        "# This is just a warning - could be an issue, depends on the situation\n",
        "#   warning can be disabled via\n",
        "#   pd.options.mode.chained_assignment = None  # default='warn'\n",
        "#   (execute just after the pandas import)\n",
        "\n",
        "df['x3'] = df.loc[:, 'x1'] + df.loc[:, 'x2']\n",
        "df['x4'] = df.loc[:,'x1'] * df.loc[:,'x2']"
      ]
    },
    {
      "cell_type": "code",
      "execution_count": 222,
      "metadata": {
        "colab": {
          "base_uri": "https://localhost:8080/",
          "height": 424
        },
        "id": "N5_8JCq4HuDE",
        "outputId": "672bfd7f-ee20-4211-d7f6-3570291f3a2f"
      },
      "outputs": [
        {
          "data": {
            "text/html": [
              "<div>\n",
              "<style scoped>\n",
              "    .dataframe tbody tr th:only-of-type {\n",
              "        vertical-align: middle;\n",
              "    }\n",
              "\n",
              "    .dataframe tbody tr th {\n",
              "        vertical-align: top;\n",
              "    }\n",
              "\n",
              "    .dataframe thead th {\n",
              "        text-align: right;\n",
              "    }\n",
              "</style>\n",
              "<table border=\"1\" class=\"dataframe\">\n",
              "  <thead>\n",
              "    <tr style=\"text-align: right;\">\n",
              "      <th></th>\n",
              "      <th>x1</th>\n",
              "      <th>x2</th>\n",
              "      <th>x3</th>\n",
              "      <th>x4</th>\n",
              "    </tr>\n",
              "  </thead>\n",
              "  <tbody>\n",
              "    <tr>\n",
              "      <th>0</th>\n",
              "      <td>2.624345</td>\n",
              "      <td>-0.111756</td>\n",
              "      <td>2.512589</td>\n",
              "      <td>-0.293287</td>\n",
              "    </tr>\n",
              "    <tr>\n",
              "      <th>1</th>\n",
              "      <td>0.471828</td>\n",
              "      <td>-0.572969</td>\n",
              "      <td>-0.101140</td>\n",
              "      <td>-0.270343</td>\n",
              "    </tr>\n",
              "    <tr>\n",
              "      <th>2</th>\n",
              "      <td>1.865408</td>\n",
              "      <td>-1.801539</td>\n",
              "      <td>0.063869</td>\n",
              "      <td>-3.360604</td>\n",
              "    </tr>\n",
              "    <tr>\n",
              "      <th>3</th>\n",
              "      <td>2.744812</td>\n",
              "      <td>-0.261207</td>\n",
              "      <td>2.483605</td>\n",
              "      <td>-0.716964</td>\n",
              "    </tr>\n",
              "    <tr>\n",
              "      <th>4</th>\n",
              "      <td>1.319039</td>\n",
              "      <td>0.250630</td>\n",
              "      <td>1.569669</td>\n",
              "      <td>0.330590</td>\n",
              "    </tr>\n",
              "    <tr>\n",
              "      <th>...</th>\n",
              "      <td>...</td>\n",
              "      <td>...</td>\n",
              "      <td>...</td>\n",
              "      <td>...</td>\n",
              "    </tr>\n",
              "    <tr>\n",
              "      <th>9995</th>\n",
              "      <td>1.383964</td>\n",
              "      <td>-0.318778</td>\n",
              "      <td>1.065186</td>\n",
              "      <td>-0.441178</td>\n",
              "    </tr>\n",
              "    <tr>\n",
              "      <th>9996</th>\n",
              "      <td>-1.124622</td>\n",
              "      <td>-0.921937</td>\n",
              "      <td>-2.046559</td>\n",
              "      <td>1.036830</td>\n",
              "    </tr>\n",
              "    <tr>\n",
              "      <th>9997</th>\n",
              "      <td>2.109570</td>\n",
              "      <td>-0.443208</td>\n",
              "      <td>1.666362</td>\n",
              "      <td>-0.934979</td>\n",
              "    </tr>\n",
              "    <tr>\n",
              "      <th>9998</th>\n",
              "      <td>1.782216</td>\n",
              "      <td>2.908434</td>\n",
              "      <td>4.690650</td>\n",
              "      <td>5.183457</td>\n",
              "    </tr>\n",
              "    <tr>\n",
              "      <th>9999</th>\n",
              "      <td>1.882786</td>\n",
              "      <td>0.400404</td>\n",
              "      <td>2.283189</td>\n",
              "      <td>0.753874</td>\n",
              "    </tr>\n",
              "  </tbody>\n",
              "</table>\n",
              "<p>10000 rows × 4 columns</p>\n",
              "</div>"
            ],
            "text/plain": [
              "            x1        x2        x3        x4\n",
              "0     2.624345 -0.111756  2.512589 -0.293287\n",
              "1     0.471828 -0.572969 -0.101140 -0.270343\n",
              "2     1.865408 -1.801539  0.063869 -3.360604\n",
              "3     2.744812 -0.261207  2.483605 -0.716964\n",
              "4     1.319039  0.250630  1.569669  0.330590\n",
              "...        ...       ...       ...       ...\n",
              "9995  1.383964 -0.318778  1.065186 -0.441178\n",
              "9996 -1.124622 -0.921937 -2.046559  1.036830\n",
              "9997  2.109570 -0.443208  1.666362 -0.934979\n",
              "9998  1.782216  2.908434  4.690650  5.183457\n",
              "9999  1.882786  0.400404  2.283189  0.753874\n",
              "\n",
              "[10000 rows x 4 columns]"
            ]
          },
          "execution_count": 222,
          "metadata": {},
          "output_type": "execute_result"
        }
      ],
      "source": [
        "df"
      ]
    },
    {
      "cell_type": "code",
      "execution_count": 223,
      "metadata": {
        "id": "YXJV9aPo88IX"
      },
      "outputs": [],
      "source": [
        "# Here we go - melt from wide to long table - note this only uses cols x1 and x2\n",
        "#df_melted = pd.melt(df, value_vars=['x1','x2'], value_name='x')\n",
        "#...this version uses all (non-id) columns\n",
        "df_melted = pd.melt(df, value_name='x')"
      ]
    },
    {
      "cell_type": "code",
      "execution_count": 224,
      "metadata": {
        "colab": {
          "base_uri": "https://localhost:8080/",
          "height": 424
        },
        "id": "-YhQFMeyUFLu",
        "outputId": "ab3e67d7-113c-4192-9c9b-b80f24c89de1"
      },
      "outputs": [
        {
          "data": {
            "text/html": [
              "<div>\n",
              "<style scoped>\n",
              "    .dataframe tbody tr th:only-of-type {\n",
              "        vertical-align: middle;\n",
              "    }\n",
              "\n",
              "    .dataframe tbody tr th {\n",
              "        vertical-align: top;\n",
              "    }\n",
              "\n",
              "    .dataframe thead th {\n",
              "        text-align: right;\n",
              "    }\n",
              "</style>\n",
              "<table border=\"1\" class=\"dataframe\">\n",
              "  <thead>\n",
              "    <tr style=\"text-align: right;\">\n",
              "      <th></th>\n",
              "      <th>variable</th>\n",
              "      <th>x</th>\n",
              "    </tr>\n",
              "  </thead>\n",
              "  <tbody>\n",
              "    <tr>\n",
              "      <th>0</th>\n",
              "      <td>x1</td>\n",
              "      <td>2.624345</td>\n",
              "    </tr>\n",
              "    <tr>\n",
              "      <th>1</th>\n",
              "      <td>x1</td>\n",
              "      <td>0.471828</td>\n",
              "    </tr>\n",
              "    <tr>\n",
              "      <th>2</th>\n",
              "      <td>x1</td>\n",
              "      <td>1.865408</td>\n",
              "    </tr>\n",
              "    <tr>\n",
              "      <th>3</th>\n",
              "      <td>x1</td>\n",
              "      <td>2.744812</td>\n",
              "    </tr>\n",
              "    <tr>\n",
              "      <th>4</th>\n",
              "      <td>x1</td>\n",
              "      <td>1.319039</td>\n",
              "    </tr>\n",
              "    <tr>\n",
              "      <th>...</th>\n",
              "      <td>...</td>\n",
              "      <td>...</td>\n",
              "    </tr>\n",
              "    <tr>\n",
              "      <th>39995</th>\n",
              "      <td>x4</td>\n",
              "      <td>-0.441178</td>\n",
              "    </tr>\n",
              "    <tr>\n",
              "      <th>39996</th>\n",
              "      <td>x4</td>\n",
              "      <td>1.036830</td>\n",
              "    </tr>\n",
              "    <tr>\n",
              "      <th>39997</th>\n",
              "      <td>x4</td>\n",
              "      <td>-0.934979</td>\n",
              "    </tr>\n",
              "    <tr>\n",
              "      <th>39998</th>\n",
              "      <td>x4</td>\n",
              "      <td>5.183457</td>\n",
              "    </tr>\n",
              "    <tr>\n",
              "      <th>39999</th>\n",
              "      <td>x4</td>\n",
              "      <td>0.753874</td>\n",
              "    </tr>\n",
              "  </tbody>\n",
              "</table>\n",
              "<p>40000 rows × 2 columns</p>\n",
              "</div>"
            ],
            "text/plain": [
              "      variable         x\n",
              "0           x1  2.624345\n",
              "1           x1  0.471828\n",
              "2           x1  1.865408\n",
              "3           x1  2.744812\n",
              "4           x1  1.319039\n",
              "...        ...       ...\n",
              "39995       x4 -0.441178\n",
              "39996       x4  1.036830\n",
              "39997       x4 -0.934979\n",
              "39998       x4  5.183457\n",
              "39999       x4  0.753874\n",
              "\n",
              "[40000 rows x 2 columns]"
            ]
          },
          "execution_count": 224,
          "metadata": {},
          "output_type": "execute_result"
        }
      ],
      "source": [
        "df_melted"
      ]
    },
    {
      "cell_type": "markdown",
      "metadata": {
        "id": "236_mQOeUbs2"
      },
      "source": []
    },
    {
      "cell_type": "code",
      "execution_count": 225,
      "metadata": {
        "colab": {
          "base_uri": "https://localhost:8080/"
        },
        "id": "-tEbcX9o9vg4",
        "outputId": "15b15ea8-1db8-4246-a23b-fd4ee70b0d83"
      },
      "outputs": [
        {
          "data": {
            "text/plain": [
              "variable\n",
              "x1    10000\n",
              "x2    10000\n",
              "x3    10000\n",
              "x4    10000\n",
              "dtype: int64"
            ]
          },
          "execution_count": 225,
          "metadata": {},
          "output_type": "execute_result"
        }
      ],
      "source": [
        "# let's see what we have\n",
        "df_melted.groupby(['variable']).size()"
      ]
    },
    {
      "cell_type": "markdown",
      "metadata": {
        "id": "xmV4c8T1WJ81"
      },
      "source": [
        "### Pivot back to original layout\n",
        "\n",
        "We melted wide to long.....now revert back to wide."
      ]
    },
    {
      "cell_type": "code",
      "execution_count": 226,
      "metadata": {
        "colab": {
          "base_uri": "https://localhost:8080/"
        },
        "id": "OIsjo_KX-LLO",
        "outputId": "def2ece8-2164-4c27-c540-250d0326f378"
      },
      "outputs": [],
      "source": [
        "# Change back to original layout\n",
        "\n",
        "# this is how you would do it - currently there is an issue ****\n",
        "#pd.pivot_table(df_melted,columns='variable')\n",
        "#pd.pivot(df_melted,values='x',columns='variable')\n",
        "# ** still broken ***"
      ]
    },
    {
      "cell_type": "markdown",
      "metadata": {
        "id": "NddWbN6_XQFB"
      },
      "source": [
        "## Mimicing melting \n",
        "\n",
        "Splitting df into smaller df's that need to be combined.\n",
        "\n",
        "I.e. these are \"wide\" because they are in multiple/parallel dfs.\n",
        "\n",
        "Often you don't care where the data came from you're just merging streams.\n",
        "\n",
        "### Example\n",
        "Pipeline workflow::\n",
        "```\n",
        "output -> shard1.csv, shard2.csv... df1, df2, df3, ... \n",
        "pd.concat([df1, df2, df3...])\n",
        "```\n",
        "\n"
      ]
    },
    {
      "cell_type": "code",
      "execution_count": 227,
      "metadata": {
        "id": "Gi01bVl-_gag"
      },
      "outputs": [
        {
          "name": "stderr",
          "output_type": "stream",
          "text": [
            "C:\\Users\\GladOS\\AppData\\Local\\Temp/ipykernel_7664/3869996418.py:6: SettingWithCopyWarning: \n",
            "A value is trying to be set on a copy of a slice from a DataFrame.\n",
            "Try using .loc[row_indexer,col_indexer] = value instead\n",
            "\n",
            "See the caveats in the documentation: https://pandas.pydata.org/pandas-docs/stable/user_guide/indexing.html#returning-a-view-versus-a-copy\n",
            "  df_x1['label'] = 'x1'\n",
            "C:\\Users\\GladOS\\AppData\\Local\\Temp/ipykernel_7664/3869996418.py:7: SettingWithCopyWarning: \n",
            "A value is trying to be set on a copy of a slice from a DataFrame.\n",
            "Try using .loc[row_indexer,col_indexer] = value instead\n",
            "\n",
            "See the caveats in the documentation: https://pandas.pydata.org/pandas-docs/stable/user_guide/indexing.html#returning-a-view-versus-a-copy\n",
            "  df_x2['label'] = 'x2'\n"
          ]
        }
      ],
      "source": [
        "# Create a couple parallel dfs\n",
        "df_x1 = df[['x1']]\n",
        "df_x2 = df[['x2']]\n",
        "\n",
        "# (optional) can add labels to show source of each data point\n",
        "df_x1['label'] = 'x1'\n",
        "df_x2['label'] = 'x2'"
      ]
    },
    {
      "cell_type": "code",
      "execution_count": 228,
      "metadata": {
        "colab": {
          "base_uri": "https://localhost:8080/",
          "height": 206
        },
        "id": "1XDPCiqpXp-p",
        "outputId": "8c08208e-858c-49ee-d6b9-780111e48604"
      },
      "outputs": [
        {
          "data": {
            "text/html": [
              "<div>\n",
              "<style scoped>\n",
              "    .dataframe tbody tr th:only-of-type {\n",
              "        vertical-align: middle;\n",
              "    }\n",
              "\n",
              "    .dataframe tbody tr th {\n",
              "        vertical-align: top;\n",
              "    }\n",
              "\n",
              "    .dataframe thead th {\n",
              "        text-align: right;\n",
              "    }\n",
              "</style>\n",
              "<table border=\"1\" class=\"dataframe\">\n",
              "  <thead>\n",
              "    <tr style=\"text-align: right;\">\n",
              "      <th></th>\n",
              "      <th>x1</th>\n",
              "      <th>label</th>\n",
              "    </tr>\n",
              "  </thead>\n",
              "  <tbody>\n",
              "    <tr>\n",
              "      <th>0</th>\n",
              "      <td>2.624345</td>\n",
              "      <td>x1</td>\n",
              "    </tr>\n",
              "    <tr>\n",
              "      <th>1</th>\n",
              "      <td>0.471828</td>\n",
              "      <td>x1</td>\n",
              "    </tr>\n",
              "    <tr>\n",
              "      <th>2</th>\n",
              "      <td>1.865408</td>\n",
              "      <td>x1</td>\n",
              "    </tr>\n",
              "    <tr>\n",
              "      <th>3</th>\n",
              "      <td>2.744812</td>\n",
              "      <td>x1</td>\n",
              "    </tr>\n",
              "    <tr>\n",
              "      <th>4</th>\n",
              "      <td>1.319039</td>\n",
              "      <td>x1</td>\n",
              "    </tr>\n",
              "  </tbody>\n",
              "</table>\n",
              "</div>"
            ],
            "text/plain": [
              "         x1 label\n",
              "0  2.624345    x1\n",
              "1  0.471828    x1\n",
              "2  1.865408    x1\n",
              "3  2.744812    x1\n",
              "4  1.319039    x1"
            ]
          },
          "execution_count": 228,
          "metadata": {},
          "output_type": "execute_result"
        }
      ],
      "source": [
        "df_x1.head()\n"
      ]
    },
    {
      "cell_type": "code",
      "execution_count": 229,
      "metadata": {
        "id": "eZ9vlFdq_ob9"
      },
      "outputs": [
        {
          "name": "stderr",
          "output_type": "stream",
          "text": [
            "C:\\tools\\Anaconda3\\envs\\data601-intro to DS\\lib\\site-packages\\pandas\\core\\frame.py:5039: SettingWithCopyWarning: \n",
            "A value is trying to be set on a copy of a slice from a DataFrame\n",
            "\n",
            "See the caveats in the documentation: https://pandas.pydata.org/pandas-docs/stable/user_guide/indexing.html#returning-a-view-versus-a-copy\n",
            "  return super().rename(\n"
          ]
        }
      ],
      "source": [
        "# start by renaming columns so concatenation does not require column mapping\n",
        "df_x1.rename(columns={'x1':'x'}, inplace=True)\n",
        "df_x2.rename(columns={'x2':'x'}, inplace=True)"
      ]
    },
    {
      "cell_type": "code",
      "execution_count": 230,
      "metadata": {
        "colab": {
          "base_uri": "https://localhost:8080/",
          "height": 206
        },
        "id": "ykVdsesX_32F",
        "outputId": "86acd6aa-8c16-495e-fdec-920d04035456"
      },
      "outputs": [
        {
          "data": {
            "text/html": [
              "<div>\n",
              "<style scoped>\n",
              "    .dataframe tbody tr th:only-of-type {\n",
              "        vertical-align: middle;\n",
              "    }\n",
              "\n",
              "    .dataframe tbody tr th {\n",
              "        vertical-align: top;\n",
              "    }\n",
              "\n",
              "    .dataframe thead th {\n",
              "        text-align: right;\n",
              "    }\n",
              "</style>\n",
              "<table border=\"1\" class=\"dataframe\">\n",
              "  <thead>\n",
              "    <tr style=\"text-align: right;\">\n",
              "      <th></th>\n",
              "      <th>x</th>\n",
              "      <th>label</th>\n",
              "    </tr>\n",
              "  </thead>\n",
              "  <tbody>\n",
              "    <tr>\n",
              "      <th>0</th>\n",
              "      <td>-0.111756</td>\n",
              "      <td>x2</td>\n",
              "    </tr>\n",
              "    <tr>\n",
              "      <th>1</th>\n",
              "      <td>-0.572969</td>\n",
              "      <td>x2</td>\n",
              "    </tr>\n",
              "    <tr>\n",
              "      <th>2</th>\n",
              "      <td>-1.801539</td>\n",
              "      <td>x2</td>\n",
              "    </tr>\n",
              "    <tr>\n",
              "      <th>3</th>\n",
              "      <td>-0.261207</td>\n",
              "      <td>x2</td>\n",
              "    </tr>\n",
              "    <tr>\n",
              "      <th>4</th>\n",
              "      <td>0.250630</td>\n",
              "      <td>x2</td>\n",
              "    </tr>\n",
              "  </tbody>\n",
              "</table>\n",
              "</div>"
            ],
            "text/plain": [
              "          x label\n",
              "0 -0.111756    x2\n",
              "1 -0.572969    x2\n",
              "2 -1.801539    x2\n",
              "3 -0.261207    x2\n",
              "4  0.250630    x2"
            ]
          },
          "execution_count": 230,
          "metadata": {},
          "output_type": "execute_result"
        }
      ],
      "source": [
        "df_x2.head()"
      ]
    },
    {
      "cell_type": "code",
      "execution_count": 231,
      "metadata": {
        "id": "A4rjnss7_9BF"
      },
      "outputs": [],
      "source": [
        "df_stacked = pd.concat([df_x1, df_x2])"
      ]
    },
    {
      "cell_type": "code",
      "execution_count": 232,
      "metadata": {
        "colab": {
          "base_uri": "https://localhost:8080/",
          "height": 424
        },
        "id": "uB6xYkbWACZ8",
        "outputId": "b427b8ed-e1b3-499c-ff2d-19e557baf55b"
      },
      "outputs": [
        {
          "data": {
            "text/html": [
              "<div>\n",
              "<style scoped>\n",
              "    .dataframe tbody tr th:only-of-type {\n",
              "        vertical-align: middle;\n",
              "    }\n",
              "\n",
              "    .dataframe tbody tr th {\n",
              "        vertical-align: top;\n",
              "    }\n",
              "\n",
              "    .dataframe thead th {\n",
              "        text-align: right;\n",
              "    }\n",
              "</style>\n",
              "<table border=\"1\" class=\"dataframe\">\n",
              "  <thead>\n",
              "    <tr style=\"text-align: right;\">\n",
              "      <th></th>\n",
              "      <th>x</th>\n",
              "      <th>label</th>\n",
              "    </tr>\n",
              "  </thead>\n",
              "  <tbody>\n",
              "    <tr>\n",
              "      <th>0</th>\n",
              "      <td>2.624345</td>\n",
              "      <td>x1</td>\n",
              "    </tr>\n",
              "    <tr>\n",
              "      <th>1</th>\n",
              "      <td>0.471828</td>\n",
              "      <td>x1</td>\n",
              "    </tr>\n",
              "    <tr>\n",
              "      <th>2</th>\n",
              "      <td>1.865408</td>\n",
              "      <td>x1</td>\n",
              "    </tr>\n",
              "    <tr>\n",
              "      <th>3</th>\n",
              "      <td>2.744812</td>\n",
              "      <td>x1</td>\n",
              "    </tr>\n",
              "    <tr>\n",
              "      <th>4</th>\n",
              "      <td>1.319039</td>\n",
              "      <td>x1</td>\n",
              "    </tr>\n",
              "    <tr>\n",
              "      <th>...</th>\n",
              "      <td>...</td>\n",
              "      <td>...</td>\n",
              "    </tr>\n",
              "    <tr>\n",
              "      <th>9995</th>\n",
              "      <td>-0.318778</td>\n",
              "      <td>x2</td>\n",
              "    </tr>\n",
              "    <tr>\n",
              "      <th>9996</th>\n",
              "      <td>-0.921937</td>\n",
              "      <td>x2</td>\n",
              "    </tr>\n",
              "    <tr>\n",
              "      <th>9997</th>\n",
              "      <td>-0.443208</td>\n",
              "      <td>x2</td>\n",
              "    </tr>\n",
              "    <tr>\n",
              "      <th>9998</th>\n",
              "      <td>2.908434</td>\n",
              "      <td>x2</td>\n",
              "    </tr>\n",
              "    <tr>\n",
              "      <th>9999</th>\n",
              "      <td>0.400404</td>\n",
              "      <td>x2</td>\n",
              "    </tr>\n",
              "  </tbody>\n",
              "</table>\n",
              "<p>20000 rows × 2 columns</p>\n",
              "</div>"
            ],
            "text/plain": [
              "             x label\n",
              "0     2.624345    x1\n",
              "1     0.471828    x1\n",
              "2     1.865408    x1\n",
              "3     2.744812    x1\n",
              "4     1.319039    x1\n",
              "...        ...   ...\n",
              "9995 -0.318778    x2\n",
              "9996 -0.921937    x2\n",
              "9997 -0.443208    x2\n",
              "9998  2.908434    x2\n",
              "9999  0.400404    x2\n",
              "\n",
              "[20000 rows x 2 columns]"
            ]
          },
          "execution_count": 232,
          "metadata": {},
          "output_type": "execute_result"
        }
      ],
      "source": [
        "# note, like the melted when we ended up with 40K rows\n",
        "df_stacked"
      ]
    },
    {
      "cell_type": "markdown",
      "metadata": {
        "id": "aNex_QArAYME"
      },
      "source": [
        "### Combining via Joins\n",
        "\n",
        "Takes similar datasets and makes a single wider df"
      ]
    },
    {
      "cell_type": "code",
      "execution_count": 233,
      "metadata": {
        "colab": {
          "base_uri": "https://localhost:8080/",
          "height": 424
        },
        "id": "YeO38-2OAaN0",
        "outputId": "1ea84407-2f19-4f26-db82-c1eb5346337b"
      },
      "outputs": [
        {
          "data": {
            "text/html": [
              "<div>\n",
              "<style scoped>\n",
              "    .dataframe tbody tr th:only-of-type {\n",
              "        vertical-align: middle;\n",
              "    }\n",
              "\n",
              "    .dataframe tbody tr th {\n",
              "        vertical-align: top;\n",
              "    }\n",
              "\n",
              "    .dataframe thead th {\n",
              "        text-align: right;\n",
              "    }\n",
              "</style>\n",
              "<table border=\"1\" class=\"dataframe\">\n",
              "  <thead>\n",
              "    <tr style=\"text-align: right;\">\n",
              "      <th></th>\n",
              "      <th>x_l</th>\n",
              "      <th>label_l</th>\n",
              "      <th>x_r</th>\n",
              "      <th>label_r</th>\n",
              "    </tr>\n",
              "  </thead>\n",
              "  <tbody>\n",
              "    <tr>\n",
              "      <th>0</th>\n",
              "      <td>2.624345</td>\n",
              "      <td>x1</td>\n",
              "      <td>-0.111756</td>\n",
              "      <td>x2</td>\n",
              "    </tr>\n",
              "    <tr>\n",
              "      <th>1</th>\n",
              "      <td>0.471828</td>\n",
              "      <td>x1</td>\n",
              "      <td>-0.572969</td>\n",
              "      <td>x2</td>\n",
              "    </tr>\n",
              "    <tr>\n",
              "      <th>2</th>\n",
              "      <td>1.865408</td>\n",
              "      <td>x1</td>\n",
              "      <td>-1.801539</td>\n",
              "      <td>x2</td>\n",
              "    </tr>\n",
              "    <tr>\n",
              "      <th>3</th>\n",
              "      <td>2.744812</td>\n",
              "      <td>x1</td>\n",
              "      <td>-0.261207</td>\n",
              "      <td>x2</td>\n",
              "    </tr>\n",
              "    <tr>\n",
              "      <th>4</th>\n",
              "      <td>1.319039</td>\n",
              "      <td>x1</td>\n",
              "      <td>0.250630</td>\n",
              "      <td>x2</td>\n",
              "    </tr>\n",
              "    <tr>\n",
              "      <th>...</th>\n",
              "      <td>...</td>\n",
              "      <td>...</td>\n",
              "      <td>...</td>\n",
              "      <td>...</td>\n",
              "    </tr>\n",
              "    <tr>\n",
              "      <th>9995</th>\n",
              "      <td>1.383964</td>\n",
              "      <td>x1</td>\n",
              "      <td>-0.318778</td>\n",
              "      <td>x2</td>\n",
              "    </tr>\n",
              "    <tr>\n",
              "      <th>9996</th>\n",
              "      <td>-1.124622</td>\n",
              "      <td>x1</td>\n",
              "      <td>-0.921937</td>\n",
              "      <td>x2</td>\n",
              "    </tr>\n",
              "    <tr>\n",
              "      <th>9997</th>\n",
              "      <td>2.109570</td>\n",
              "      <td>x1</td>\n",
              "      <td>-0.443208</td>\n",
              "      <td>x2</td>\n",
              "    </tr>\n",
              "    <tr>\n",
              "      <th>9998</th>\n",
              "      <td>1.782216</td>\n",
              "      <td>x1</td>\n",
              "      <td>2.908434</td>\n",
              "      <td>x2</td>\n",
              "    </tr>\n",
              "    <tr>\n",
              "      <th>9999</th>\n",
              "      <td>1.882786</td>\n",
              "      <td>x1</td>\n",
              "      <td>0.400404</td>\n",
              "      <td>x2</td>\n",
              "    </tr>\n",
              "  </tbody>\n",
              "</table>\n",
              "<p>10000 rows × 4 columns</p>\n",
              "</div>"
            ],
            "text/plain": [
              "           x_l label_l       x_r label_r\n",
              "0     2.624345      x1 -0.111756      x2\n",
              "1     0.471828      x1 -0.572969      x2\n",
              "2     1.865408      x1 -1.801539      x2\n",
              "3     2.744812      x1 -0.261207      x2\n",
              "4     1.319039      x1  0.250630      x2\n",
              "...        ...     ...       ...     ...\n",
              "9995  1.383964      x1 -0.318778      x2\n",
              "9996 -1.124622      x1 -0.921937      x2\n",
              "9997  2.109570      x1 -0.443208      x2\n",
              "9998  1.782216      x1  2.908434      x2\n",
              "9999  1.882786      x1  0.400404      x2\n",
              "\n",
              "[10000 rows x 4 columns]"
            ]
          },
          "execution_count": 233,
          "metadata": {},
          "output_type": "execute_result"
        }
      ],
      "source": [
        "# Join horizontally, not vertically\n",
        "#    have to differentiate col names - so give suffixes based on left/right\n",
        "#  This will join on index (could provide a key column to match on)\n",
        "df_x1.join(df_x2, lsuffix='_l', rsuffix='_r')"
      ]
    },
    {
      "cell_type": "code",
      "execution_count": 234,
      "metadata": {
        "colab": {
          "base_uri": "https://localhost:8080/",
          "height": 424
        },
        "id": "qE5yV3HWBEwz",
        "outputId": "0696fbe0-f84c-49fa-ad14-0f381d8658b7"
      },
      "outputs": [
        {
          "data": {
            "text/html": [
              "<div>\n",
              "<style scoped>\n",
              "    .dataframe tbody tr th:only-of-type {\n",
              "        vertical-align: middle;\n",
              "    }\n",
              "\n",
              "    .dataframe tbody tr th {\n",
              "        vertical-align: top;\n",
              "    }\n",
              "\n",
              "    .dataframe thead th {\n",
              "        text-align: right;\n",
              "    }\n",
              "</style>\n",
              "<table border=\"1\" class=\"dataframe\">\n",
              "  <thead>\n",
              "    <tr style=\"text-align: right;\">\n",
              "      <th></th>\n",
              "      <th>x_x</th>\n",
              "      <th>label_x</th>\n",
              "      <th>x_y</th>\n",
              "      <th>label_y</th>\n",
              "    </tr>\n",
              "  </thead>\n",
              "  <tbody>\n",
              "    <tr>\n",
              "      <th>0</th>\n",
              "      <td>2.624345</td>\n",
              "      <td>x1</td>\n",
              "      <td>-0.111756</td>\n",
              "      <td>x2</td>\n",
              "    </tr>\n",
              "    <tr>\n",
              "      <th>1</th>\n",
              "      <td>0.471828</td>\n",
              "      <td>x1</td>\n",
              "      <td>-0.572969</td>\n",
              "      <td>x2</td>\n",
              "    </tr>\n",
              "    <tr>\n",
              "      <th>2</th>\n",
              "      <td>1.865408</td>\n",
              "      <td>x1</td>\n",
              "      <td>-1.801539</td>\n",
              "      <td>x2</td>\n",
              "    </tr>\n",
              "    <tr>\n",
              "      <th>3</th>\n",
              "      <td>2.744812</td>\n",
              "      <td>x1</td>\n",
              "      <td>-0.261207</td>\n",
              "      <td>x2</td>\n",
              "    </tr>\n",
              "    <tr>\n",
              "      <th>4</th>\n",
              "      <td>1.319039</td>\n",
              "      <td>x1</td>\n",
              "      <td>0.250630</td>\n",
              "      <td>x2</td>\n",
              "    </tr>\n",
              "    <tr>\n",
              "      <th>...</th>\n",
              "      <td>...</td>\n",
              "      <td>...</td>\n",
              "      <td>...</td>\n",
              "      <td>...</td>\n",
              "    </tr>\n",
              "    <tr>\n",
              "      <th>9995</th>\n",
              "      <td>1.383964</td>\n",
              "      <td>x1</td>\n",
              "      <td>-0.318778</td>\n",
              "      <td>x2</td>\n",
              "    </tr>\n",
              "    <tr>\n",
              "      <th>9996</th>\n",
              "      <td>-1.124622</td>\n",
              "      <td>x1</td>\n",
              "      <td>-0.921937</td>\n",
              "      <td>x2</td>\n",
              "    </tr>\n",
              "    <tr>\n",
              "      <th>9997</th>\n",
              "      <td>2.109570</td>\n",
              "      <td>x1</td>\n",
              "      <td>-0.443208</td>\n",
              "      <td>x2</td>\n",
              "    </tr>\n",
              "    <tr>\n",
              "      <th>9998</th>\n",
              "      <td>1.782216</td>\n",
              "      <td>x1</td>\n",
              "      <td>2.908434</td>\n",
              "      <td>x2</td>\n",
              "    </tr>\n",
              "    <tr>\n",
              "      <th>9999</th>\n",
              "      <td>1.882786</td>\n",
              "      <td>x1</td>\n",
              "      <td>0.400404</td>\n",
              "      <td>x2</td>\n",
              "    </tr>\n",
              "  </tbody>\n",
              "</table>\n",
              "<p>10000 rows × 4 columns</p>\n",
              "</div>"
            ],
            "text/plain": [
              "           x_x label_x       x_y label_y\n",
              "0     2.624345      x1 -0.111756      x2\n",
              "1     0.471828      x1 -0.572969      x2\n",
              "2     1.865408      x1 -1.801539      x2\n",
              "3     2.744812      x1 -0.261207      x2\n",
              "4     1.319039      x1  0.250630      x2\n",
              "...        ...     ...       ...     ...\n",
              "9995  1.383964      x1 -0.318778      x2\n",
              "9996 -1.124622      x1 -0.921937      x2\n",
              "9997  2.109570      x1 -0.443208      x2\n",
              "9998  1.782216      x1  2.908434      x2\n",
              "9999  1.882786      x1  0.400404      x2\n",
              "\n",
              "[10000 rows x 4 columns]"
            ]
          },
          "execution_count": 234,
          "metadata": {},
          "output_type": "execute_result"
        }
      ],
      "source": [
        "# Merge is similar to join but can work on columns, also\n",
        "#    a more general function\n",
        "#  this is again using the index from both to join on\n",
        "df_x1.merge(df_x2, left_index=True, right_index=True)"
      ]
    },
    {
      "cell_type": "markdown",
      "metadata": {
        "id": "QPKnpEG0Bgjk"
      },
      "source": [
        "### ...or sometimes you want to merge on a particular column - can do SQL-style\n",
        "```\n",
        "df_x1.merge(df_x2, on=['**colName**'], how='inner'|'left'|'right'|'outer')\n",
        "```"
      ]
    },
    {
      "cell_type": "code",
      "execution_count": 235,
      "metadata": {
        "colab": {
          "base_uri": "https://localhost:8080/",
          "height": 175
        },
        "id": "AVstWPcHB5uZ",
        "outputId": "03b992ed-6a1f-4ab1-f499-8af230f67db1"
      },
      "outputs": [
        {
          "data": {
            "text/html": [
              "<div>\n",
              "<style scoped>\n",
              "    .dataframe tbody tr th:only-of-type {\n",
              "        vertical-align: middle;\n",
              "    }\n",
              "\n",
              "    .dataframe tbody tr th {\n",
              "        vertical-align: top;\n",
              "    }\n",
              "\n",
              "    .dataframe thead th {\n",
              "        text-align: right;\n",
              "    }\n",
              "</style>\n",
              "<table border=\"1\" class=\"dataframe\">\n",
              "  <thead>\n",
              "    <tr style=\"text-align: right;\">\n",
              "      <th></th>\n",
              "      <th>family</th>\n",
              "      <th>gender</th>\n",
              "      <th>spend</th>\n",
              "      <th>ratio</th>\n",
              "    </tr>\n",
              "  </thead>\n",
              "  <tbody>\n",
              "    <tr>\n",
              "      <th>0</th>\n",
              "      <td>1</td>\n",
              "      <td>0</td>\n",
              "      <td>50</td>\n",
              "      <td>0.333333</td>\n",
              "    </tr>\n",
              "    <tr>\n",
              "      <th>1</th>\n",
              "      <td>1</td>\n",
              "      <td>1</td>\n",
              "      <td>100</td>\n",
              "      <td>0.666667</td>\n",
              "    </tr>\n",
              "    <tr>\n",
              "      <th>2</th>\n",
              "      <td>2</td>\n",
              "      <td>0</td>\n",
              "      <td>75</td>\n",
              "      <td>0.483871</td>\n",
              "    </tr>\n",
              "    <tr>\n",
              "      <th>3</th>\n",
              "      <td>2</td>\n",
              "      <td>1</td>\n",
              "      <td>80</td>\n",
              "      <td>0.516129</td>\n",
              "    </tr>\n",
              "  </tbody>\n",
              "</table>\n",
              "</div>"
            ],
            "text/plain": [
              "   family  gender  spend     ratio\n",
              "0       1       0     50  0.333333\n",
              "1       1       1    100  0.666667\n",
              "2       2       0     75  0.483871\n",
              "3       2       1     80  0.516129"
            ]
          },
          "execution_count": 235,
          "metadata": {},
          "output_type": "execute_result"
        }
      ],
      "source": [
        "# example building on the df_spend case\n",
        "df_spend"
      ]
    },
    {
      "cell_type": "code",
      "execution_count": 236,
      "metadata": {
        "id": "vZCoDGU9BQ9i"
      },
      "outputs": [],
      "source": [
        "address={'address':['MD','VA','DC'], 'family':[1,2,3]}"
      ]
    },
    {
      "cell_type": "code",
      "execution_count": 237,
      "metadata": {
        "colab": {
          "base_uri": "https://localhost:8080/",
          "height": 143
        },
        "id": "i_dq1hggBubR",
        "outputId": "e470d1d1-ea84-4874-c71a-d1818fa8c302"
      },
      "outputs": [
        {
          "data": {
            "text/html": [
              "<div>\n",
              "<style scoped>\n",
              "    .dataframe tbody tr th:only-of-type {\n",
              "        vertical-align: middle;\n",
              "    }\n",
              "\n",
              "    .dataframe tbody tr th {\n",
              "        vertical-align: top;\n",
              "    }\n",
              "\n",
              "    .dataframe thead th {\n",
              "        text-align: right;\n",
              "    }\n",
              "</style>\n",
              "<table border=\"1\" class=\"dataframe\">\n",
              "  <thead>\n",
              "    <tr style=\"text-align: right;\">\n",
              "      <th></th>\n",
              "      <th>address</th>\n",
              "      <th>family</th>\n",
              "    </tr>\n",
              "  </thead>\n",
              "  <tbody>\n",
              "    <tr>\n",
              "      <th>0</th>\n",
              "      <td>MD</td>\n",
              "      <td>1</td>\n",
              "    </tr>\n",
              "    <tr>\n",
              "      <th>1</th>\n",
              "      <td>VA</td>\n",
              "      <td>2</td>\n",
              "    </tr>\n",
              "    <tr>\n",
              "      <th>2</th>\n",
              "      <td>DC</td>\n",
              "      <td>3</td>\n",
              "    </tr>\n",
              "  </tbody>\n",
              "</table>\n",
              "</div>"
            ],
            "text/plain": [
              "  address  family\n",
              "0      MD       1\n",
              "1      VA       2\n",
              "2      DC       3"
            ]
          },
          "execution_count": 237,
          "metadata": {},
          "output_type": "execute_result"
        }
      ],
      "source": [
        "df_address = pd.DataFrame(address)\n",
        "df_address"
      ]
    },
    {
      "cell_type": "code",
      "execution_count": 238,
      "metadata": {
        "colab": {
          "base_uri": "https://localhost:8080/",
          "height": 175
        },
        "id": "0hFtgW_kB9NM",
        "outputId": "ee300070-d6b2-4782-a9f1-13f2655f700f"
      },
      "outputs": [
        {
          "data": {
            "text/html": [
              "<div>\n",
              "<style scoped>\n",
              "    .dataframe tbody tr th:only-of-type {\n",
              "        vertical-align: middle;\n",
              "    }\n",
              "\n",
              "    .dataframe tbody tr th {\n",
              "        vertical-align: top;\n",
              "    }\n",
              "\n",
              "    .dataframe thead th {\n",
              "        text-align: right;\n",
              "    }\n",
              "</style>\n",
              "<table border=\"1\" class=\"dataframe\">\n",
              "  <thead>\n",
              "    <tr style=\"text-align: right;\">\n",
              "      <th></th>\n",
              "      <th>family</th>\n",
              "      <th>gender</th>\n",
              "      <th>spend</th>\n",
              "      <th>ratio</th>\n",
              "      <th>address</th>\n",
              "    </tr>\n",
              "  </thead>\n",
              "  <tbody>\n",
              "    <tr>\n",
              "      <th>0</th>\n",
              "      <td>1</td>\n",
              "      <td>0</td>\n",
              "      <td>50</td>\n",
              "      <td>0.333333</td>\n",
              "      <td>MD</td>\n",
              "    </tr>\n",
              "    <tr>\n",
              "      <th>1</th>\n",
              "      <td>1</td>\n",
              "      <td>1</td>\n",
              "      <td>100</td>\n",
              "      <td>0.666667</td>\n",
              "      <td>MD</td>\n",
              "    </tr>\n",
              "    <tr>\n",
              "      <th>2</th>\n",
              "      <td>2</td>\n",
              "      <td>0</td>\n",
              "      <td>75</td>\n",
              "      <td>0.483871</td>\n",
              "      <td>VA</td>\n",
              "    </tr>\n",
              "    <tr>\n",
              "      <th>3</th>\n",
              "      <td>2</td>\n",
              "      <td>1</td>\n",
              "      <td>80</td>\n",
              "      <td>0.516129</td>\n",
              "      <td>VA</td>\n",
              "    </tr>\n",
              "  </tbody>\n",
              "</table>\n",
              "</div>"
            ],
            "text/plain": [
              "   family  gender  spend     ratio address\n",
              "0       1       0     50  0.333333      MD\n",
              "1       1       1    100  0.666667      MD\n",
              "2       2       0     75  0.483871      VA\n",
              "3       2       1     80  0.516129      VA"
            ]
          },
          "execution_count": 238,
          "metadata": {},
          "output_type": "execute_result"
        }
      ],
      "source": [
        "# inner...keep only matches\n",
        "df_spend.merge(df_address, on='family', how='inner')"
      ]
    },
    {
      "cell_type": "code",
      "execution_count": 239,
      "metadata": {
        "colab": {
          "base_uri": "https://localhost:8080/",
          "height": 206
        },
        "id": "tdwpS5VuCGFS",
        "outputId": "bcde96ea-8308-4a1a-c96b-9adbd6ebef9c"
      },
      "outputs": [
        {
          "data": {
            "text/html": [
              "<div>\n",
              "<style scoped>\n",
              "    .dataframe tbody tr th:only-of-type {\n",
              "        vertical-align: middle;\n",
              "    }\n",
              "\n",
              "    .dataframe tbody tr th {\n",
              "        vertical-align: top;\n",
              "    }\n",
              "\n",
              "    .dataframe thead th {\n",
              "        text-align: right;\n",
              "    }\n",
              "</style>\n",
              "<table border=\"1\" class=\"dataframe\">\n",
              "  <thead>\n",
              "    <tr style=\"text-align: right;\">\n",
              "      <th></th>\n",
              "      <th>family</th>\n",
              "      <th>gender</th>\n",
              "      <th>spend</th>\n",
              "      <th>ratio</th>\n",
              "      <th>address</th>\n",
              "    </tr>\n",
              "  </thead>\n",
              "  <tbody>\n",
              "    <tr>\n",
              "      <th>0</th>\n",
              "      <td>1</td>\n",
              "      <td>0.0</td>\n",
              "      <td>50.0</td>\n",
              "      <td>0.333333</td>\n",
              "      <td>MD</td>\n",
              "    </tr>\n",
              "    <tr>\n",
              "      <th>1</th>\n",
              "      <td>1</td>\n",
              "      <td>1.0</td>\n",
              "      <td>100.0</td>\n",
              "      <td>0.666667</td>\n",
              "      <td>MD</td>\n",
              "    </tr>\n",
              "    <tr>\n",
              "      <th>2</th>\n",
              "      <td>2</td>\n",
              "      <td>0.0</td>\n",
              "      <td>75.0</td>\n",
              "      <td>0.483871</td>\n",
              "      <td>VA</td>\n",
              "    </tr>\n",
              "    <tr>\n",
              "      <th>3</th>\n",
              "      <td>2</td>\n",
              "      <td>1.0</td>\n",
              "      <td>80.0</td>\n",
              "      <td>0.516129</td>\n",
              "      <td>VA</td>\n",
              "    </tr>\n",
              "    <tr>\n",
              "      <th>4</th>\n",
              "      <td>3</td>\n",
              "      <td>NaN</td>\n",
              "      <td>NaN</td>\n",
              "      <td>NaN</td>\n",
              "      <td>DC</td>\n",
              "    </tr>\n",
              "  </tbody>\n",
              "</table>\n",
              "</div>"
            ],
            "text/plain": [
              "   family  gender  spend     ratio address\n",
              "0       1     0.0   50.0  0.333333      MD\n",
              "1       1     1.0  100.0  0.666667      MD\n",
              "2       2     0.0   75.0  0.483871      VA\n",
              "3       2     1.0   80.0  0.516129      VA\n",
              "4       3     NaN    NaN       NaN      DC"
            ]
          },
          "execution_count": 239,
          "metadata": {},
          "output_type": "execute_result"
        }
      ],
      "source": [
        "# outer...keep all\n",
        "df_spend.merge(df_address, on='family', how='outer')"
      ]
    },
    {
      "cell_type": "markdown",
      "metadata": {
        "id": "wWIxluRfCsmp"
      },
      "source": [
        "### Splitting data\n",
        "\n",
        "Use case:  train/test split\n",
        "\n",
        "Need a training set, and test set\n",
        "Same data cols, diff rows\n",
        "\n",
        "Want random selection"
      ]
    },
    {
      "cell_type": "code",
      "execution_count": 240,
      "metadata": {
        "id": "ydWXtGktCuGQ"
      },
      "outputs": [],
      "source": [
        "# can shuffle the data\n",
        "index = np.arange(0, len(df))"
      ]
    },
    {
      "cell_type": "code",
      "execution_count": 241,
      "metadata": {
        "id": "zy4tnntGDPQp"
      },
      "outputs": [],
      "source": [
        "np.random.seed(1)\n",
        "np.random.shuffle(index)\n"
      ]
    },
    {
      "cell_type": "code",
      "execution_count": 242,
      "metadata": {
        "id": "8_2WWddaDZj5"
      },
      "outputs": [],
      "source": [
        "# didn't want to modify the original set so making a copy\n",
        "df_shuffled = df.iloc[index,:].copy()"
      ]
    },
    {
      "cell_type": "code",
      "execution_count": 243,
      "metadata": {
        "colab": {
          "base_uri": "https://localhost:8080/",
          "height": 424
        },
        "id": "Q5avEMLPDoaP",
        "outputId": "50b7a954-f832-4d16-ba88-1643c4dc6b26"
      },
      "outputs": [
        {
          "data": {
            "text/html": [
              "<div>\n",
              "<style scoped>\n",
              "    .dataframe tbody tr th:only-of-type {\n",
              "        vertical-align: middle;\n",
              "    }\n",
              "\n",
              "    .dataframe tbody tr th {\n",
              "        vertical-align: top;\n",
              "    }\n",
              "\n",
              "    .dataframe thead th {\n",
              "        text-align: right;\n",
              "    }\n",
              "</style>\n",
              "<table border=\"1\" class=\"dataframe\">\n",
              "  <thead>\n",
              "    <tr style=\"text-align: right;\">\n",
              "      <th></th>\n",
              "      <th>x1</th>\n",
              "      <th>x2</th>\n",
              "      <th>x3</th>\n",
              "      <th>x4</th>\n",
              "    </tr>\n",
              "  </thead>\n",
              "  <tbody>\n",
              "    <tr>\n",
              "      <th>9953</th>\n",
              "      <td>1.065580</td>\n",
              "      <td>1.609592</td>\n",
              "      <td>2.675172</td>\n",
              "      <td>1.715149</td>\n",
              "    </tr>\n",
              "    <tr>\n",
              "      <th>3850</th>\n",
              "      <td>1.411033</td>\n",
              "      <td>0.039863</td>\n",
              "      <td>1.450896</td>\n",
              "      <td>0.056248</td>\n",
              "    </tr>\n",
              "    <tr>\n",
              "      <th>4962</th>\n",
              "      <td>2.660633</td>\n",
              "      <td>2.133164</td>\n",
              "      <td>4.793797</td>\n",
              "      <td>5.675568</td>\n",
              "    </tr>\n",
              "    <tr>\n",
              "      <th>3886</th>\n",
              "      <td>0.426264</td>\n",
              "      <td>-0.276243</td>\n",
              "      <td>0.150021</td>\n",
              "      <td>-0.117752</td>\n",
              "    </tr>\n",
              "    <tr>\n",
              "      <th>5437</th>\n",
              "      <td>2.211217</td>\n",
              "      <td>0.893136</td>\n",
              "      <td>3.104353</td>\n",
              "      <td>1.974918</td>\n",
              "    </tr>\n",
              "    <tr>\n",
              "      <th>...</th>\n",
              "      <td>...</td>\n",
              "      <td>...</td>\n",
              "      <td>...</td>\n",
              "      <td>...</td>\n",
              "    </tr>\n",
              "    <tr>\n",
              "      <th>2895</th>\n",
              "      <td>1.031140</td>\n",
              "      <td>0.447048</td>\n",
              "      <td>1.478188</td>\n",
              "      <td>0.460969</td>\n",
              "    </tr>\n",
              "    <tr>\n",
              "      <th>7813</th>\n",
              "      <td>0.480924</td>\n",
              "      <td>-1.093394</td>\n",
              "      <td>-0.612471</td>\n",
              "      <td>-0.525839</td>\n",
              "    </tr>\n",
              "    <tr>\n",
              "      <th>905</th>\n",
              "      <td>2.009090</td>\n",
              "      <td>0.611973</td>\n",
              "      <td>2.621063</td>\n",
              "      <td>1.229508</td>\n",
              "    </tr>\n",
              "    <tr>\n",
              "      <th>5192</th>\n",
              "      <td>-0.068265</td>\n",
              "      <td>1.806465</td>\n",
              "      <td>1.738201</td>\n",
              "      <td>-0.123318</td>\n",
              "    </tr>\n",
              "    <tr>\n",
              "      <th>235</th>\n",
              "      <td>1.777419</td>\n",
              "      <td>0.381229</td>\n",
              "      <td>2.158648</td>\n",
              "      <td>0.677603</td>\n",
              "    </tr>\n",
              "  </tbody>\n",
              "</table>\n",
              "<p>10000 rows × 4 columns</p>\n",
              "</div>"
            ],
            "text/plain": [
              "            x1        x2        x3        x4\n",
              "9953  1.065580  1.609592  2.675172  1.715149\n",
              "3850  1.411033  0.039863  1.450896  0.056248\n",
              "4962  2.660633  2.133164  4.793797  5.675568\n",
              "3886  0.426264 -0.276243  0.150021 -0.117752\n",
              "5437  2.211217  0.893136  3.104353  1.974918\n",
              "...        ...       ...       ...       ...\n",
              "2895  1.031140  0.447048  1.478188  0.460969\n",
              "7813  0.480924 -1.093394 -0.612471 -0.525839\n",
              "905   2.009090  0.611973  2.621063  1.229508\n",
              "5192 -0.068265  1.806465  1.738201 -0.123318\n",
              "235   1.777419  0.381229  2.158648  0.677603\n",
              "\n",
              "[10000 rows x 4 columns]"
            ]
          },
          "execution_count": 243,
          "metadata": {},
          "output_type": "execute_result"
        }
      ],
      "source": [
        "df_shuffled"
      ]
    },
    {
      "cell_type": "code",
      "execution_count": 244,
      "metadata": {
        "id": "aKgxcWgADthP"
      },
      "outputs": [],
      "source": [
        "# Of course you could always use a function vs. a lambda  (is there any perf diff?)\n",
        "#def splitting(df, train_percent):\n",
        "# ... you finish here"
      ]
    }
  ],
  "metadata": {
    "colab": {
      "collapsed_sections": [],
      "name": "week2-pandas-kentb.ipynb",
      "provenance": []
    },
    "kernelspec": {
      "display_name": "Python 3",
      "name": "python3"
    },
    "language_info": {
      "codemirror_mode": {
        "name": "ipython",
        "version": 3
      },
      "file_extension": ".py",
      "mimetype": "text/x-python",
      "name": "python",
      "nbconvert_exporter": "python",
      "pygments_lexer": "ipython3",
      "version": "3.8.11"
    }
  },
  "nbformat": 4,
  "nbformat_minor": 0
}
